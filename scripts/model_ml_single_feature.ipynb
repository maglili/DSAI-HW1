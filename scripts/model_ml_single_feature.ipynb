{
  "nbformat": 4,
  "nbformat_minor": 0,
  "metadata": {
    "colab": {
      "name": "model-ml-single_feature.ipynb",
      "provenance": [],
      "collapsed_sections": []
    },
    "kernelspec": {
      "name": "python3",
      "display_name": "Python 3"
    }
  },
  "cells": [
    {
      "cell_type": "markdown",
      "metadata": {
        "id": "v_tPBwgsldSn"
      },
      "source": [
        "## Preprocessing Data"
      ]
    },
    {
      "cell_type": "code",
      "metadata": {
        "id": "YFIOsHTEIuUl"
      },
      "source": [
        "import pandas as pd\n",
        "import numpy as np\n",
        "import matplotlib.pyplot as plt"
      ],
      "execution_count": 126,
      "outputs": []
    },
    {
      "cell_type": "code",
      "metadata": {
        "id": "3f9F1_SKiWgf"
      },
      "source": [
        "#plt.rcParams[\"figure.figsize\"]=[6,4]\n",
        "plt.rcParams[\"figure.figsize\"] = (12,8)"
      ],
      "execution_count": 127,
      "outputs": []
    },
    {
      "cell_type": "code",
      "metadata": {
        "colab": {
          "base_uri": "https://localhost:8080/",
          "height": 489
        },
        "id": "WpaUdmXPJGWR",
        "outputId": "c6b94527-f6b2-470d-c3a2-f943d7fbb76a"
      },
      "source": [
        "df = pd.read_csv('/content/drive/MyDrive/Project_data/NCKU_DSAI/HW1/export.csv',encoding='utf-8')\n",
        "df"
      ],
      "execution_count": 128,
      "outputs": [
        {
          "output_type": "execute_result",
          "data": {
            "text/html": [
              "<div>\n",
              "<style scoped>\n",
              "    .dataframe tbody tr th:only-of-type {\n",
              "        vertical-align: middle;\n",
              "    }\n",
              "\n",
              "    .dataframe tbody tr th {\n",
              "        vertical-align: top;\n",
              "    }\n",
              "\n",
              "    .dataframe thead th {\n",
              "        text-align: right;\n",
              "    }\n",
              "</style>\n",
              "<table border=\"1\" class=\"dataframe\">\n",
              "  <thead>\n",
              "    <tr style=\"text-align: right;\">\n",
              "      <th></th>\n",
              "      <th>日期</th>\n",
              "      <th>淨尖峰供電能力(MW)</th>\n",
              "      <th>尖峰負載(MW)</th>\n",
              "      <th>備轉容量(MW)</th>\n",
              "      <th>備轉容量率(%)</th>\n",
              "      <th>工業用電(百萬度)</th>\n",
              "      <th>民生用電(百萬度)</th>\n",
              "      <th>核一#1(萬瓩)</th>\n",
              "      <th>核一#2(萬瓩)</th>\n",
              "      <th>核二#1(萬瓩)</th>\n",
              "      <th>核二#2(萬瓩)</th>\n",
              "      <th>核三#1</th>\n",
              "      <th>核三#2</th>\n",
              "      <th>林口#1</th>\n",
              "      <th>林口#2</th>\n",
              "      <th>林口#3</th>\n",
              "      <th>台中#1</th>\n",
              "      <th>台中#2</th>\n",
              "      <th>台中#3</th>\n",
              "      <th>台中#4</th>\n",
              "      <th>台中#5</th>\n",
              "      <th>台中#6</th>\n",
              "      <th>台中#7</th>\n",
              "      <th>台中#8</th>\n",
              "      <th>台中#9</th>\n",
              "      <th>台中#10</th>\n",
              "      <th>興達#1</th>\n",
              "      <th>興達#2</th>\n",
              "      <th>興達#3</th>\n",
              "      <th>興達#4</th>\n",
              "      <th>大林#1</th>\n",
              "      <th>大林#2</th>\n",
              "      <th>和平#1</th>\n",
              "      <th>和平#2</th>\n",
              "      <th>麥寮#1</th>\n",
              "      <th>麥寮#2</th>\n",
              "      <th>麥寮#3</th>\n",
              "      <th>汽電共生</th>\n",
              "      <th>大潭 (#1-#6)</th>\n",
              "      <th>通霄 (#1-#6)</th>\n",
              "      <th>興達 (#1-#5)</th>\n",
              "      <th>南部 (#1-#4)</th>\n",
              "      <th>大林(#5-#6)</th>\n",
              "      <th>海湖 (#1-#2)</th>\n",
              "      <th>國光 #1</th>\n",
              "      <th>新桃#1</th>\n",
              "      <th>星彰#1</th>\n",
              "      <th>星元#1</th>\n",
              "      <th>嘉惠#1</th>\n",
              "      <th>豐德(#1-#2)</th>\n",
              "      <th>協和 (#1-#4)</th>\n",
              "      <th>氣渦輪</th>\n",
              "      <th>離島</th>\n",
              "      <th>德基</th>\n",
              "      <th>青山</th>\n",
              "      <th>谷關</th>\n",
              "      <th>天輪</th>\n",
              "      <th>馬鞍</th>\n",
              "      <th>萬大</th>\n",
              "      <th>大觀</th>\n",
              "      <th>鉅工</th>\n",
              "      <th>大觀二</th>\n",
              "      <th>明潭</th>\n",
              "      <th>碧海</th>\n",
              "      <th>立霧</th>\n",
              "      <th>龍澗</th>\n",
              "      <th>卓蘭</th>\n",
              "      <th>水里</th>\n",
              "      <th>其他小水力</th>\n",
              "      <th>風力發電</th>\n",
              "      <th>太陽能發電</th>\n",
              "    </tr>\n",
              "  </thead>\n",
              "  <tbody>\n",
              "    <tr>\n",
              "      <th>0</th>\n",
              "      <td>20190101</td>\n",
              "      <td>26429</td>\n",
              "      <td>23872</td>\n",
              "      <td>2557.0</td>\n",
              "      <td>10.71</td>\n",
              "      <td>279.870</td>\n",
              "      <td>192.192</td>\n",
              "      <td>0</td>\n",
              "      <td>0</td>\n",
              "      <td>98.4</td>\n",
              "      <td>98.3</td>\n",
              "      <td>94.3</td>\n",
              "      <td>0.0</td>\n",
              "      <td>76.0</td>\n",
              "      <td>76.1</td>\n",
              "      <td>NaN</td>\n",
              "      <td>52.5</td>\n",
              "      <td>0.0</td>\n",
              "      <td>0.0</td>\n",
              "      <td>52.1</td>\n",
              "      <td>52.5</td>\n",
              "      <td>52.2</td>\n",
              "      <td>51.9</td>\n",
              "      <td>0.0</td>\n",
              "      <td>47.3</td>\n",
              "      <td>0.0</td>\n",
              "      <td>28.1</td>\n",
              "      <td>28.1</td>\n",
              "      <td>38.4</td>\n",
              "      <td>52.5</td>\n",
              "      <td>75.6</td>\n",
              "      <td>76.4</td>\n",
              "      <td>56.3</td>\n",
              "      <td>56.5</td>\n",
              "      <td>56.8</td>\n",
              "      <td>0.0</td>\n",
              "      <td>52.3</td>\n",
              "      <td>39.7</td>\n",
              "      <td>217.2</td>\n",
              "      <td>128.8</td>\n",
              "      <td>79.9</td>\n",
              "      <td>104.9</td>\n",
              "      <td>74.9</td>\n",
              "      <td>45.9</td>\n",
              "      <td>0.0</td>\n",
              "      <td>0.0</td>\n",
              "      <td>53.7</td>\n",
              "      <td>56.9</td>\n",
              "      <td>0.0</td>\n",
              "      <td>105.0</td>\n",
              "      <td>13.3</td>\n",
              "      <td>0.0</td>\n",
              "      <td>10.9</td>\n",
              "      <td>0.0</td>\n",
              "      <td>2.7</td>\n",
              "      <td>2.5</td>\n",
              "      <td>2.2</td>\n",
              "      <td>1.2</td>\n",
              "      <td>0.9</td>\n",
              "      <td>0.0</td>\n",
              "      <td>0.1</td>\n",
              "      <td>16.0</td>\n",
              "      <td>54.0</td>\n",
              "      <td>0.0</td>\n",
              "      <td>1.2</td>\n",
              "      <td>3.0</td>\n",
              "      <td>2.2</td>\n",
              "      <td>0.0</td>\n",
              "      <td>24.3</td>\n",
              "      <td>50.9</td>\n",
              "      <td>0.0</td>\n",
              "    </tr>\n",
              "    <tr>\n",
              "      <th>1</th>\n",
              "      <td>20190102</td>\n",
              "      <td>30047</td>\n",
              "      <td>28148</td>\n",
              "      <td>1899.0</td>\n",
              "      <td>6.75</td>\n",
              "      <td>323.080</td>\n",
              "      <td>221.864</td>\n",
              "      <td>0</td>\n",
              "      <td>0</td>\n",
              "      <td>98.5</td>\n",
              "      <td>98.6</td>\n",
              "      <td>94.3</td>\n",
              "      <td>0.0</td>\n",
              "      <td>76.0</td>\n",
              "      <td>76.0</td>\n",
              "      <td>NaN</td>\n",
              "      <td>53.3</td>\n",
              "      <td>0.0</td>\n",
              "      <td>0.0</td>\n",
              "      <td>52.1</td>\n",
              "      <td>52.7</td>\n",
              "      <td>52.3</td>\n",
              "      <td>51.9</td>\n",
              "      <td>0.0</td>\n",
              "      <td>0.0</td>\n",
              "      <td>0.0</td>\n",
              "      <td>33.1</td>\n",
              "      <td>33.0</td>\n",
              "      <td>42.2</td>\n",
              "      <td>52.6</td>\n",
              "      <td>75.6</td>\n",
              "      <td>76.4</td>\n",
              "      <td>60.0</td>\n",
              "      <td>60.3</td>\n",
              "      <td>56.8</td>\n",
              "      <td>0.0</td>\n",
              "      <td>57.1</td>\n",
              "      <td>104.4</td>\n",
              "      <td>243.0</td>\n",
              "      <td>135.8</td>\n",
              "      <td>151.1</td>\n",
              "      <td>101.9</td>\n",
              "      <td>91.7</td>\n",
              "      <td>92.0</td>\n",
              "      <td>49.5</td>\n",
              "      <td>60.1</td>\n",
              "      <td>53.3</td>\n",
              "      <td>56.5</td>\n",
              "      <td>66.5</td>\n",
              "      <td>102.4</td>\n",
              "      <td>41.1</td>\n",
              "      <td>0.0</td>\n",
              "      <td>11.0</td>\n",
              "      <td>3.4</td>\n",
              "      <td>3.2</td>\n",
              "      <td>2.5</td>\n",
              "      <td>2.2</td>\n",
              "      <td>1.2</td>\n",
              "      <td>1.0</td>\n",
              "      <td>0.0</td>\n",
              "      <td>0.0</td>\n",
              "      <td>29.9</td>\n",
              "      <td>52.3</td>\n",
              "      <td>0.0</td>\n",
              "      <td>1.2</td>\n",
              "      <td>2.0</td>\n",
              "      <td>2.1</td>\n",
              "      <td>0.0</td>\n",
              "      <td>23.4</td>\n",
              "      <td>37.9</td>\n",
              "      <td>0.0</td>\n",
              "    </tr>\n",
              "    <tr>\n",
              "      <th>2</th>\n",
              "      <td>20190103</td>\n",
              "      <td>30343</td>\n",
              "      <td>28452</td>\n",
              "      <td>1891.0</td>\n",
              "      <td>6.65</td>\n",
              "      <td>336.597</td>\n",
              "      <td>231.146</td>\n",
              "      <td>0</td>\n",
              "      <td>0</td>\n",
              "      <td>98.7</td>\n",
              "      <td>98.6</td>\n",
              "      <td>94.1</td>\n",
              "      <td>0.0</td>\n",
              "      <td>75.9</td>\n",
              "      <td>75.9</td>\n",
              "      <td>NaN</td>\n",
              "      <td>53.3</td>\n",
              "      <td>0.0</td>\n",
              "      <td>0.0</td>\n",
              "      <td>52.0</td>\n",
              "      <td>52.7</td>\n",
              "      <td>52.2</td>\n",
              "      <td>51.9</td>\n",
              "      <td>0.0</td>\n",
              "      <td>0.0</td>\n",
              "      <td>0.0</td>\n",
              "      <td>28.2</td>\n",
              "      <td>28.1</td>\n",
              "      <td>37.8</td>\n",
              "      <td>52.6</td>\n",
              "      <td>75.8</td>\n",
              "      <td>76.4</td>\n",
              "      <td>59.9</td>\n",
              "      <td>49.3</td>\n",
              "      <td>56.8</td>\n",
              "      <td>0.0</td>\n",
              "      <td>57.1</td>\n",
              "      <td>104.0</td>\n",
              "      <td>261.6</td>\n",
              "      <td>129.0</td>\n",
              "      <td>147.5</td>\n",
              "      <td>93.8</td>\n",
              "      <td>91.6</td>\n",
              "      <td>92.0</td>\n",
              "      <td>49.2</td>\n",
              "      <td>60.2</td>\n",
              "      <td>53.4</td>\n",
              "      <td>56.3</td>\n",
              "      <td>66.5</td>\n",
              "      <td>104.0</td>\n",
              "      <td>86.9</td>\n",
              "      <td>0.0</td>\n",
              "      <td>10.9</td>\n",
              "      <td>3.1</td>\n",
              "      <td>1.4</td>\n",
              "      <td>2.5</td>\n",
              "      <td>2.2</td>\n",
              "      <td>1.1</td>\n",
              "      <td>2.4</td>\n",
              "      <td>1.9</td>\n",
              "      <td>0.5</td>\n",
              "      <td>14.3</td>\n",
              "      <td>65.5</td>\n",
              "      <td>0.0</td>\n",
              "      <td>1.4</td>\n",
              "      <td>1.2</td>\n",
              "      <td>2.0</td>\n",
              "      <td>0.1</td>\n",
              "      <td>24.1</td>\n",
              "      <td>41.6</td>\n",
              "      <td>0.0</td>\n",
              "    </tr>\n",
              "    <tr>\n",
              "      <th>3</th>\n",
              "      <td>20190104</td>\n",
              "      <td>30301</td>\n",
              "      <td>28490</td>\n",
              "      <td>1811.0</td>\n",
              "      <td>6.36</td>\n",
              "      <td>339.020</td>\n",
              "      <td>232.810</td>\n",
              "      <td>0</td>\n",
              "      <td>0</td>\n",
              "      <td>98.7</td>\n",
              "      <td>98.4</td>\n",
              "      <td>94.1</td>\n",
              "      <td>0.0</td>\n",
              "      <td>76.0</td>\n",
              "      <td>76.0</td>\n",
              "      <td>NaN</td>\n",
              "      <td>53.2</td>\n",
              "      <td>0.0</td>\n",
              "      <td>0.0</td>\n",
              "      <td>52.3</td>\n",
              "      <td>52.8</td>\n",
              "      <td>52.2</td>\n",
              "      <td>51.9</td>\n",
              "      <td>0.0</td>\n",
              "      <td>0.0</td>\n",
              "      <td>0.0</td>\n",
              "      <td>32.7</td>\n",
              "      <td>33.1</td>\n",
              "      <td>38.4</td>\n",
              "      <td>52.6</td>\n",
              "      <td>75.6</td>\n",
              "      <td>76.4</td>\n",
              "      <td>60.2</td>\n",
              "      <td>0.0</td>\n",
              "      <td>56.8</td>\n",
              "      <td>0.0</td>\n",
              "      <td>57.1</td>\n",
              "      <td>106.9</td>\n",
              "      <td>315.1</td>\n",
              "      <td>147.8</td>\n",
              "      <td>160.6</td>\n",
              "      <td>87.6</td>\n",
              "      <td>91.6</td>\n",
              "      <td>92.0</td>\n",
              "      <td>49.0</td>\n",
              "      <td>60.2</td>\n",
              "      <td>53.6</td>\n",
              "      <td>56.6</td>\n",
              "      <td>66.6</td>\n",
              "      <td>103.1</td>\n",
              "      <td>75.2</td>\n",
              "      <td>0.0</td>\n",
              "      <td>11.4</td>\n",
              "      <td>3.9</td>\n",
              "      <td>3.7</td>\n",
              "      <td>2.5</td>\n",
              "      <td>2.2</td>\n",
              "      <td>1.2</td>\n",
              "      <td>1.0</td>\n",
              "      <td>3.4</td>\n",
              "      <td>1.0</td>\n",
              "      <td>18.1</td>\n",
              "      <td>52.3</td>\n",
              "      <td>0.0</td>\n",
              "      <td>1.4</td>\n",
              "      <td>1.4</td>\n",
              "      <td>0.0</td>\n",
              "      <td>0.0</td>\n",
              "      <td>19.3</td>\n",
              "      <td>12.4</td>\n",
              "      <td>11.0</td>\n",
              "    </tr>\n",
              "    <tr>\n",
              "      <th>4</th>\n",
              "      <td>20190105</td>\n",
              "      <td>27957</td>\n",
              "      <td>26054</td>\n",
              "      <td>1903.0</td>\n",
              "      <td>7.30</td>\n",
              "      <td>315.825</td>\n",
              "      <td>216.882</td>\n",
              "      <td>0</td>\n",
              "      <td>0</td>\n",
              "      <td>98.7</td>\n",
              "      <td>98.6</td>\n",
              "      <td>94.1</td>\n",
              "      <td>0.0</td>\n",
              "      <td>75.7</td>\n",
              "      <td>75.8</td>\n",
              "      <td>NaN</td>\n",
              "      <td>53.1</td>\n",
              "      <td>0.0</td>\n",
              "      <td>0.0</td>\n",
              "      <td>52.2</td>\n",
              "      <td>52.9</td>\n",
              "      <td>52.2</td>\n",
              "      <td>51.8</td>\n",
              "      <td>28.1</td>\n",
              "      <td>0.0</td>\n",
              "      <td>0.0</td>\n",
              "      <td>28.2</td>\n",
              "      <td>28.1</td>\n",
              "      <td>32.8</td>\n",
              "      <td>52.7</td>\n",
              "      <td>75.8</td>\n",
              "      <td>76.5</td>\n",
              "      <td>57.5</td>\n",
              "      <td>0.0</td>\n",
              "      <td>56.8</td>\n",
              "      <td>0.0</td>\n",
              "      <td>57.1</td>\n",
              "      <td>40.6</td>\n",
              "      <td>264.4</td>\n",
              "      <td>146.4</td>\n",
              "      <td>161.3</td>\n",
              "      <td>106.2</td>\n",
              "      <td>88.7</td>\n",
              "      <td>46.1</td>\n",
              "      <td>0.0</td>\n",
              "      <td>60.1</td>\n",
              "      <td>53.2</td>\n",
              "      <td>55.8</td>\n",
              "      <td>68.6</td>\n",
              "      <td>102.3</td>\n",
              "      <td>13.1</td>\n",
              "      <td>0.0</td>\n",
              "      <td>11.3</td>\n",
              "      <td>0.3</td>\n",
              "      <td>1.2</td>\n",
              "      <td>2.2</td>\n",
              "      <td>1.8</td>\n",
              "      <td>0.8</td>\n",
              "      <td>0.9</td>\n",
              "      <td>1.8</td>\n",
              "      <td>0.7</td>\n",
              "      <td>30.4</td>\n",
              "      <td>57.6</td>\n",
              "      <td>0.0</td>\n",
              "      <td>1.3</td>\n",
              "      <td>3.0</td>\n",
              "      <td>2.9</td>\n",
              "      <td>0.0</td>\n",
              "      <td>23.9</td>\n",
              "      <td>18.5</td>\n",
              "      <td>0.0</td>\n",
              "    </tr>\n",
              "    <tr>\n",
              "      <th>...</th>\n",
              "      <td>...</td>\n",
              "      <td>...</td>\n",
              "      <td>...</td>\n",
              "      <td>...</td>\n",
              "      <td>...</td>\n",
              "      <td>...</td>\n",
              "      <td>...</td>\n",
              "      <td>...</td>\n",
              "      <td>...</td>\n",
              "      <td>...</td>\n",
              "      <td>...</td>\n",
              "      <td>...</td>\n",
              "      <td>...</td>\n",
              "      <td>...</td>\n",
              "      <td>...</td>\n",
              "      <td>...</td>\n",
              "      <td>...</td>\n",
              "      <td>...</td>\n",
              "      <td>...</td>\n",
              "      <td>...</td>\n",
              "      <td>...</td>\n",
              "      <td>...</td>\n",
              "      <td>...</td>\n",
              "      <td>...</td>\n",
              "      <td>...</td>\n",
              "      <td>...</td>\n",
              "      <td>...</td>\n",
              "      <td>...</td>\n",
              "      <td>...</td>\n",
              "      <td>...</td>\n",
              "      <td>...</td>\n",
              "      <td>...</td>\n",
              "      <td>...</td>\n",
              "      <td>...</td>\n",
              "      <td>...</td>\n",
              "      <td>...</td>\n",
              "      <td>...</td>\n",
              "      <td>...</td>\n",
              "      <td>...</td>\n",
              "      <td>...</td>\n",
              "      <td>...</td>\n",
              "      <td>...</td>\n",
              "      <td>...</td>\n",
              "      <td>...</td>\n",
              "      <td>...</td>\n",
              "      <td>...</td>\n",
              "      <td>...</td>\n",
              "      <td>...</td>\n",
              "      <td>...</td>\n",
              "      <td>...</td>\n",
              "      <td>...</td>\n",
              "      <td>...</td>\n",
              "      <td>...</td>\n",
              "      <td>...</td>\n",
              "      <td>...</td>\n",
              "      <td>...</td>\n",
              "      <td>...</td>\n",
              "      <td>...</td>\n",
              "      <td>...</td>\n",
              "      <td>...</td>\n",
              "      <td>...</td>\n",
              "      <td>...</td>\n",
              "      <td>...</td>\n",
              "      <td>...</td>\n",
              "      <td>...</td>\n",
              "      <td>...</td>\n",
              "      <td>...</td>\n",
              "      <td>...</td>\n",
              "      <td>...</td>\n",
              "      <td>...</td>\n",
              "      <td>...</td>\n",
              "    </tr>\n",
              "    <tr>\n",
              "      <th>665</th>\n",
              "      <td>20201027</td>\n",
              "      <td>35071</td>\n",
              "      <td>31669</td>\n",
              "      <td>3402.0</td>\n",
              "      <td>10.74</td>\n",
              "      <td>362.462</td>\n",
              "      <td>309.405</td>\n",
              "      <td>0</td>\n",
              "      <td>0</td>\n",
              "      <td>98.1</td>\n",
              "      <td>89.9</td>\n",
              "      <td>94.4</td>\n",
              "      <td>94.2</td>\n",
              "      <td>75.8</td>\n",
              "      <td>76.0</td>\n",
              "      <td>75.9</td>\n",
              "      <td>40.0</td>\n",
              "      <td>0.0</td>\n",
              "      <td>0.0</td>\n",
              "      <td>39.9</td>\n",
              "      <td>38.0</td>\n",
              "      <td>43.9</td>\n",
              "      <td>0.0</td>\n",
              "      <td>0.0</td>\n",
              "      <td>40.5</td>\n",
              "      <td>41.0</td>\n",
              "      <td>0.0</td>\n",
              "      <td>23.0</td>\n",
              "      <td>0.0</td>\n",
              "      <td>28.5</td>\n",
              "      <td>76.0</td>\n",
              "      <td>76.1</td>\n",
              "      <td>60.4</td>\n",
              "      <td>60.3</td>\n",
              "      <td>41.0</td>\n",
              "      <td>40.9</td>\n",
              "      <td>57.4</td>\n",
              "      <td>71.6</td>\n",
              "      <td>375.1</td>\n",
              "      <td>277.9</td>\n",
              "      <td>165.6</td>\n",
              "      <td>113.4</td>\n",
              "      <td>98.4</td>\n",
              "      <td>91.8</td>\n",
              "      <td>47.3</td>\n",
              "      <td>62.9</td>\n",
              "      <td>50.4</td>\n",
              "      <td>51.6</td>\n",
              "      <td>68.9</td>\n",
              "      <td>97.6</td>\n",
              "      <td>13.5</td>\n",
              "      <td>0.0</td>\n",
              "      <td>11.4</td>\n",
              "      <td>2.5</td>\n",
              "      <td>5.3</td>\n",
              "      <td>3.8</td>\n",
              "      <td>3.7</td>\n",
              "      <td>0.0</td>\n",
              "      <td>1.0</td>\n",
              "      <td>1.0</td>\n",
              "      <td>0.1</td>\n",
              "      <td>43.5</td>\n",
              "      <td>63.8</td>\n",
              "      <td>4.8</td>\n",
              "      <td>1.4</td>\n",
              "      <td>1.9</td>\n",
              "      <td>1.7</td>\n",
              "      <td>0.8</td>\n",
              "      <td>13.9</td>\n",
              "      <td>34.6</td>\n",
              "      <td>41.5</td>\n",
              "    </tr>\n",
              "    <tr>\n",
              "      <th>666</th>\n",
              "      <td>20201028</td>\n",
              "      <td>35429</td>\n",
              "      <td>31959</td>\n",
              "      <td>3470.0</td>\n",
              "      <td>10.86</td>\n",
              "      <td>365.469</td>\n",
              "      <td>311.972</td>\n",
              "      <td>0</td>\n",
              "      <td>0</td>\n",
              "      <td>98.0</td>\n",
              "      <td>98.2</td>\n",
              "      <td>94.6</td>\n",
              "      <td>94.3</td>\n",
              "      <td>75.9</td>\n",
              "      <td>76.0</td>\n",
              "      <td>76.0</td>\n",
              "      <td>37.6</td>\n",
              "      <td>0.0</td>\n",
              "      <td>0.0</td>\n",
              "      <td>33.0</td>\n",
              "      <td>34.1</td>\n",
              "      <td>33.1</td>\n",
              "      <td>0.0</td>\n",
              "      <td>0.0</td>\n",
              "      <td>43.6</td>\n",
              "      <td>33.3</td>\n",
              "      <td>0.0</td>\n",
              "      <td>22.2</td>\n",
              "      <td>0.0</td>\n",
              "      <td>25.8</td>\n",
              "      <td>75.9</td>\n",
              "      <td>76.1</td>\n",
              "      <td>60.2</td>\n",
              "      <td>60.3</td>\n",
              "      <td>37.5</td>\n",
              "      <td>37.4</td>\n",
              "      <td>57.4</td>\n",
              "      <td>70.1</td>\n",
              "      <td>383.7</td>\n",
              "      <td>275.8</td>\n",
              "      <td>150.7</td>\n",
              "      <td>101.5</td>\n",
              "      <td>72.3</td>\n",
              "      <td>92.0</td>\n",
              "      <td>46.9</td>\n",
              "      <td>64.9</td>\n",
              "      <td>50.4</td>\n",
              "      <td>51.5</td>\n",
              "      <td>68.9</td>\n",
              "      <td>96.2</td>\n",
              "      <td>39.1</td>\n",
              "      <td>0.0</td>\n",
              "      <td>12.1</td>\n",
              "      <td>0.0</td>\n",
              "      <td>2.7</td>\n",
              "      <td>3.9</td>\n",
              "      <td>3.8</td>\n",
              "      <td>0.0</td>\n",
              "      <td>0.9</td>\n",
              "      <td>1.9</td>\n",
              "      <td>0.8</td>\n",
              "      <td>14.4</td>\n",
              "      <td>48.0</td>\n",
              "      <td>4.0</td>\n",
              "      <td>1.2</td>\n",
              "      <td>1.4</td>\n",
              "      <td>0.0</td>\n",
              "      <td>0.5</td>\n",
              "      <td>13.7</td>\n",
              "      <td>58.8</td>\n",
              "      <td>161.6</td>\n",
              "    </tr>\n",
              "    <tr>\n",
              "      <th>667</th>\n",
              "      <td>20201029</td>\n",
              "      <td>34978</td>\n",
              "      <td>31271</td>\n",
              "      <td>3707.0</td>\n",
              "      <td>11.86</td>\n",
              "      <td>362.440</td>\n",
              "      <td>309.387</td>\n",
              "      <td>0</td>\n",
              "      <td>0</td>\n",
              "      <td>97.8</td>\n",
              "      <td>98.0</td>\n",
              "      <td>94.6</td>\n",
              "      <td>94.3</td>\n",
              "      <td>76.0</td>\n",
              "      <td>76.1</td>\n",
              "      <td>76.2</td>\n",
              "      <td>37.5</td>\n",
              "      <td>0.0</td>\n",
              "      <td>0.0</td>\n",
              "      <td>32.8</td>\n",
              "      <td>34.0</td>\n",
              "      <td>33.0</td>\n",
              "      <td>0.0</td>\n",
              "      <td>0.0</td>\n",
              "      <td>43.4</td>\n",
              "      <td>33.4</td>\n",
              "      <td>0.0</td>\n",
              "      <td>23.1</td>\n",
              "      <td>0.0</td>\n",
              "      <td>25.7</td>\n",
              "      <td>75.7</td>\n",
              "      <td>76.2</td>\n",
              "      <td>60.3</td>\n",
              "      <td>60.2</td>\n",
              "      <td>37.8</td>\n",
              "      <td>37.4</td>\n",
              "      <td>57.3</td>\n",
              "      <td>79.3</td>\n",
              "      <td>352.6</td>\n",
              "      <td>278.4</td>\n",
              "      <td>163.6</td>\n",
              "      <td>103.3</td>\n",
              "      <td>43.2</td>\n",
              "      <td>92.0</td>\n",
              "      <td>47.9</td>\n",
              "      <td>60.0</td>\n",
              "      <td>50.5</td>\n",
              "      <td>51.4</td>\n",
              "      <td>66.4</td>\n",
              "      <td>96.7</td>\n",
              "      <td>13.5</td>\n",
              "      <td>0.0</td>\n",
              "      <td>12.3</td>\n",
              "      <td>3.3</td>\n",
              "      <td>6.4</td>\n",
              "      <td>4.3</td>\n",
              "      <td>4.1</td>\n",
              "      <td>0.0</td>\n",
              "      <td>0.9</td>\n",
              "      <td>0.8</td>\n",
              "      <td>0.2</td>\n",
              "      <td>20.5</td>\n",
              "      <td>50.0</td>\n",
              "      <td>1.0</td>\n",
              "      <td>1.2</td>\n",
              "      <td>1.3</td>\n",
              "      <td>0.0</td>\n",
              "      <td>0.5</td>\n",
              "      <td>16.2</td>\n",
              "      <td>60.8</td>\n",
              "      <td>143.3</td>\n",
              "    </tr>\n",
              "    <tr>\n",
              "      <th>668</th>\n",
              "      <td>20201030</td>\n",
              "      <td>34479</td>\n",
              "      <td>30264</td>\n",
              "      <td>4215.0</td>\n",
              "      <td>13.93</td>\n",
              "      <td>351.492</td>\n",
              "      <td>300.041</td>\n",
              "      <td>0</td>\n",
              "      <td>0</td>\n",
              "      <td>97.8</td>\n",
              "      <td>98.0</td>\n",
              "      <td>94.5</td>\n",
              "      <td>94.3</td>\n",
              "      <td>76.0</td>\n",
              "      <td>76.2</td>\n",
              "      <td>76.1</td>\n",
              "      <td>37.6</td>\n",
              "      <td>0.0</td>\n",
              "      <td>0.0</td>\n",
              "      <td>32.9</td>\n",
              "      <td>34.1</td>\n",
              "      <td>33.0</td>\n",
              "      <td>0.0</td>\n",
              "      <td>0.0</td>\n",
              "      <td>32.7</td>\n",
              "      <td>33.5</td>\n",
              "      <td>0.0</td>\n",
              "      <td>23.2</td>\n",
              "      <td>0.0</td>\n",
              "      <td>25.8</td>\n",
              "      <td>76.0</td>\n",
              "      <td>76.2</td>\n",
              "      <td>60.2</td>\n",
              "      <td>60.2</td>\n",
              "      <td>56.8</td>\n",
              "      <td>56.7</td>\n",
              "      <td>57.4</td>\n",
              "      <td>76.3</td>\n",
              "      <td>305.4</td>\n",
              "      <td>282.1</td>\n",
              "      <td>159.1</td>\n",
              "      <td>104.3</td>\n",
              "      <td>35.7</td>\n",
              "      <td>39.4</td>\n",
              "      <td>39.1</td>\n",
              "      <td>59.9</td>\n",
              "      <td>45.0</td>\n",
              "      <td>45.4</td>\n",
              "      <td>66.3</td>\n",
              "      <td>44.5</td>\n",
              "      <td>13.4</td>\n",
              "      <td>0.0</td>\n",
              "      <td>12.3</td>\n",
              "      <td>3.8</td>\n",
              "      <td>7.6</td>\n",
              "      <td>4.3</td>\n",
              "      <td>4.1</td>\n",
              "      <td>0.0</td>\n",
              "      <td>0.9</td>\n",
              "      <td>1.3</td>\n",
              "      <td>0.2</td>\n",
              "      <td>12.1</td>\n",
              "      <td>32.3</td>\n",
              "      <td>2.0</td>\n",
              "      <td>1.2</td>\n",
              "      <td>1.5</td>\n",
              "      <td>0.0</td>\n",
              "      <td>0.5</td>\n",
              "      <td>16.5</td>\n",
              "      <td>60.1</td>\n",
              "      <td>207.5</td>\n",
              "    </tr>\n",
              "    <tr>\n",
              "      <th>669</th>\n",
              "      <td>20201031</td>\n",
              "      <td>30482</td>\n",
              "      <td>26763</td>\n",
              "      <td>3719.0</td>\n",
              "      <td>13.90</td>\n",
              "      <td>319.096</td>\n",
              "      <td>272.388</td>\n",
              "      <td>0</td>\n",
              "      <td>0</td>\n",
              "      <td>98.1</td>\n",
              "      <td>98.4</td>\n",
              "      <td>94.6</td>\n",
              "      <td>94.3</td>\n",
              "      <td>72.4</td>\n",
              "      <td>75.9</td>\n",
              "      <td>75.9</td>\n",
              "      <td>34.7</td>\n",
              "      <td>0.0</td>\n",
              "      <td>0.0</td>\n",
              "      <td>33.0</td>\n",
              "      <td>34.1</td>\n",
              "      <td>33.0</td>\n",
              "      <td>0.0</td>\n",
              "      <td>0.0</td>\n",
              "      <td>37.6</td>\n",
              "      <td>33.5</td>\n",
              "      <td>0.0</td>\n",
              "      <td>23.2</td>\n",
              "      <td>0.0</td>\n",
              "      <td>25.7</td>\n",
              "      <td>75.9</td>\n",
              "      <td>76.2</td>\n",
              "      <td>0.0</td>\n",
              "      <td>46.3</td>\n",
              "      <td>37.8</td>\n",
              "      <td>37.3</td>\n",
              "      <td>57.4</td>\n",
              "      <td>63.7</td>\n",
              "      <td>328.4</td>\n",
              "      <td>259.2</td>\n",
              "      <td>206.8</td>\n",
              "      <td>102.6</td>\n",
              "      <td>35.7</td>\n",
              "      <td>0.0</td>\n",
              "      <td>0.0</td>\n",
              "      <td>0.0</td>\n",
              "      <td>45.3</td>\n",
              "      <td>45.5</td>\n",
              "      <td>66.4</td>\n",
              "      <td>44.6</td>\n",
              "      <td>13.4</td>\n",
              "      <td>0.0</td>\n",
              "      <td>12.3</td>\n",
              "      <td>3.1</td>\n",
              "      <td>4.4</td>\n",
              "      <td>4.2</td>\n",
              "      <td>4.1</td>\n",
              "      <td>0.0</td>\n",
              "      <td>0.9</td>\n",
              "      <td>2.0</td>\n",
              "      <td>0.6</td>\n",
              "      <td>29.2</td>\n",
              "      <td>81.5</td>\n",
              "      <td>3.2</td>\n",
              "      <td>1.2</td>\n",
              "      <td>3.0</td>\n",
              "      <td>1.7</td>\n",
              "      <td>0.4</td>\n",
              "      <td>24.1</td>\n",
              "      <td>55.2</td>\n",
              "      <td>0.0</td>\n",
              "    </tr>\n",
              "  </tbody>\n",
              "</table>\n",
              "<p>670 rows × 71 columns</p>\n",
              "</div>"
            ],
            "text/plain": [
              "           日期  淨尖峰供電能力(MW)  尖峰負載(MW)  備轉容量(MW)  ...   水里  其他小水力  風力發電  太陽能發電\n",
              "0    20190101        26429     23872    2557.0  ...  0.0   24.3  50.9    0.0\n",
              "1    20190102        30047     28148    1899.0  ...  0.0   23.4  37.9    0.0\n",
              "2    20190103        30343     28452    1891.0  ...  0.1   24.1  41.6    0.0\n",
              "3    20190104        30301     28490    1811.0  ...  0.0   19.3  12.4   11.0\n",
              "4    20190105        27957     26054    1903.0  ...  0.0   23.9  18.5    0.0\n",
              "..        ...          ...       ...       ...  ...  ...    ...   ...    ...\n",
              "665  20201027        35071     31669    3402.0  ...  0.8   13.9  34.6   41.5\n",
              "666  20201028        35429     31959    3470.0  ...  0.5   13.7  58.8  161.6\n",
              "667  20201029        34978     31271    3707.0  ...  0.5   16.2  60.8  143.3\n",
              "668  20201030        34479     30264    4215.0  ...  0.5   16.5  60.1  207.5\n",
              "669  20201031        30482     26763    3719.0  ...  0.4   24.1  55.2    0.0\n",
              "\n",
              "[670 rows x 71 columns]"
            ]
          },
          "metadata": {
            "tags": []
          },
          "execution_count": 128
        }
      ]
    },
    {
      "cell_type": "code",
      "metadata": {
        "colab": {
          "base_uri": "https://localhost:8080/",
          "height": 402
        },
        "id": "PnIpzisgR4pd",
        "outputId": "0a6cd412-bd09-4c30-943d-e5803bd82e17"
      },
      "source": [
        "df2 = pd.read_csv('/content/drive/MyDrive/Project_data/NCKU_DSAI/HW1/export2.csv',encoding='utf-8')\n",
        "df2"
      ],
      "execution_count": 129,
      "outputs": [
        {
          "output_type": "execute_result",
          "data": {
            "text/html": [
              "<div>\n",
              "<style scoped>\n",
              "    .dataframe tbody tr th:only-of-type {\n",
              "        vertical-align: middle;\n",
              "    }\n",
              "\n",
              "    .dataframe tbody tr th {\n",
              "        vertical-align: top;\n",
              "    }\n",
              "\n",
              "    .dataframe thead th {\n",
              "        text-align: right;\n",
              "    }\n",
              "</style>\n",
              "<table border=\"1\" class=\"dataframe\">\n",
              "  <thead>\n",
              "    <tr style=\"text-align: right;\">\n",
              "      <th></th>\n",
              "      <th>日期</th>\n",
              "      <th>備轉容量(萬瓩)</th>\n",
              "      <th>備轉容量率(%)</th>\n",
              "    </tr>\n",
              "  </thead>\n",
              "  <tbody>\n",
              "    <tr>\n",
              "      <th>0</th>\n",
              "      <td>2020/01/01</td>\n",
              "      <td>279.0</td>\n",
              "      <td>11.01</td>\n",
              "    </tr>\n",
              "    <tr>\n",
              "      <th>1</th>\n",
              "      <td>2020/01/02</td>\n",
              "      <td>308.0</td>\n",
              "      <td>10.91</td>\n",
              "    </tr>\n",
              "    <tr>\n",
              "      <th>2</th>\n",
              "      <td>2020/01/03</td>\n",
              "      <td>338.3</td>\n",
              "      <td>11.96</td>\n",
              "    </tr>\n",
              "    <tr>\n",
              "      <th>3</th>\n",
              "      <td>2020/01/04</td>\n",
              "      <td>363.6</td>\n",
              "      <td>14.21</td>\n",
              "    </tr>\n",
              "    <tr>\n",
              "      <th>4</th>\n",
              "      <td>2020/01/05</td>\n",
              "      <td>269.5</td>\n",
              "      <td>10.88</td>\n",
              "    </tr>\n",
              "    <tr>\n",
              "      <th>...</th>\n",
              "      <td>...</td>\n",
              "      <td>...</td>\n",
              "      <td>...</td>\n",
              "    </tr>\n",
              "    <tr>\n",
              "      <th>345</th>\n",
              "      <td>2020/12/11</td>\n",
              "      <td>312.9</td>\n",
              "      <td>10.46</td>\n",
              "    </tr>\n",
              "    <tr>\n",
              "      <th>346</th>\n",
              "      <td>2020/12/12</td>\n",
              "      <td>328.2</td>\n",
              "      <td>12.31</td>\n",
              "    </tr>\n",
              "    <tr>\n",
              "      <th>347</th>\n",
              "      <td>2020/12/13</td>\n",
              "      <td>283.0</td>\n",
              "      <td>11.12</td>\n",
              "    </tr>\n",
              "    <tr>\n",
              "      <th>348</th>\n",
              "      <td>2020/12/14</td>\n",
              "      <td>302.1</td>\n",
              "      <td>10.20</td>\n",
              "    </tr>\n",
              "    <tr>\n",
              "      <th>349</th>\n",
              "      <td>2020/12/15</td>\n",
              "      <td>301.2</td>\n",
              "      <td>10.14</td>\n",
              "    </tr>\n",
              "  </tbody>\n",
              "</table>\n",
              "<p>350 rows × 3 columns</p>\n",
              "</div>"
            ],
            "text/plain": [
              "             日期  備轉容量(萬瓩)  備轉容量率(%)\n",
              "0    2020/01/01     279.0     11.01\n",
              "1    2020/01/02     308.0     10.91\n",
              "2    2020/01/03     338.3     11.96\n",
              "3    2020/01/04     363.6     14.21\n",
              "4    2020/01/05     269.5     10.88\n",
              "..          ...       ...       ...\n",
              "345  2020/12/11     312.9     10.46\n",
              "346  2020/12/12     328.2     12.31\n",
              "347  2020/12/13     283.0     11.12\n",
              "348  2020/12/14     302.1     10.20\n",
              "349  2020/12/15     301.2     10.14\n",
              "\n",
              "[350 rows x 3 columns]"
            ]
          },
          "metadata": {
            "tags": []
          },
          "execution_count": 129
        }
      ]
    },
    {
      "cell_type": "code",
      "metadata": {
        "id": "SixqwYnjR8uH"
      },
      "source": [
        "df = df[['日期', '備轉容量(MW)']]\n",
        "df2 = df2[['日期','備轉容量(萬瓩)']]"
      ],
      "execution_count": 131,
      "outputs": []
    },
    {
      "cell_type": "code",
      "metadata": {
        "id": "2YVcczuITkBv",
        "colab": {
          "base_uri": "https://localhost:8080/",
          "height": 431
        },
        "outputId": "42b000c8-294f-404f-865c-bbb98e328806"
      },
      "source": [
        "date_list=[]\n",
        "or_list=[]\n",
        "for idx in range(len(df2)):\n",
        "    date, or_ = df2.iloc[idx]\n",
        "    or_ = or_*10\n",
        "    date = date.split('/')\n",
        "    date = ''.join(date)\n",
        "    date = pd.to_datetime(date, format='%Y%m%d')\n",
        "    date_list.append(date)\n",
        "    or_list.append(or_)\n",
        "df3 = pd.DataFrame({'日期':date_list, \"備轉容量(MW)\":or_list})\n",
        "df3=df3.set_index('日期')\n",
        "df3"
      ],
      "execution_count": 132,
      "outputs": [
        {
          "output_type": "execute_result",
          "data": {
            "text/html": [
              "<div>\n",
              "<style scoped>\n",
              "    .dataframe tbody tr th:only-of-type {\n",
              "        vertical-align: middle;\n",
              "    }\n",
              "\n",
              "    .dataframe tbody tr th {\n",
              "        vertical-align: top;\n",
              "    }\n",
              "\n",
              "    .dataframe thead th {\n",
              "        text-align: right;\n",
              "    }\n",
              "</style>\n",
              "<table border=\"1\" class=\"dataframe\">\n",
              "  <thead>\n",
              "    <tr style=\"text-align: right;\">\n",
              "      <th></th>\n",
              "      <th>備轉容量(MW)</th>\n",
              "    </tr>\n",
              "    <tr>\n",
              "      <th>日期</th>\n",
              "      <th></th>\n",
              "    </tr>\n",
              "  </thead>\n",
              "  <tbody>\n",
              "    <tr>\n",
              "      <th>2020-01-01</th>\n",
              "      <td>2790.0</td>\n",
              "    </tr>\n",
              "    <tr>\n",
              "      <th>2020-01-02</th>\n",
              "      <td>3080.0</td>\n",
              "    </tr>\n",
              "    <tr>\n",
              "      <th>2020-01-03</th>\n",
              "      <td>3383.0</td>\n",
              "    </tr>\n",
              "    <tr>\n",
              "      <th>2020-01-04</th>\n",
              "      <td>3636.0</td>\n",
              "    </tr>\n",
              "    <tr>\n",
              "      <th>2020-01-05</th>\n",
              "      <td>2695.0</td>\n",
              "    </tr>\n",
              "    <tr>\n",
              "      <th>...</th>\n",
              "      <td>...</td>\n",
              "    </tr>\n",
              "    <tr>\n",
              "      <th>2020-12-11</th>\n",
              "      <td>3129.0</td>\n",
              "    </tr>\n",
              "    <tr>\n",
              "      <th>2020-12-12</th>\n",
              "      <td>3282.0</td>\n",
              "    </tr>\n",
              "    <tr>\n",
              "      <th>2020-12-13</th>\n",
              "      <td>2830.0</td>\n",
              "    </tr>\n",
              "    <tr>\n",
              "      <th>2020-12-14</th>\n",
              "      <td>3021.0</td>\n",
              "    </tr>\n",
              "    <tr>\n",
              "      <th>2020-12-15</th>\n",
              "      <td>3012.0</td>\n",
              "    </tr>\n",
              "  </tbody>\n",
              "</table>\n",
              "<p>350 rows × 1 columns</p>\n",
              "</div>"
            ],
            "text/plain": [
              "            備轉容量(MW)\n",
              "日期                  \n",
              "2020-01-01    2790.0\n",
              "2020-01-02    3080.0\n",
              "2020-01-03    3383.0\n",
              "2020-01-04    3636.0\n",
              "2020-01-05    2695.0\n",
              "...              ...\n",
              "2020-12-11    3129.0\n",
              "2020-12-12    3282.0\n",
              "2020-12-13    2830.0\n",
              "2020-12-14    3021.0\n",
              "2020-12-15    3012.0\n",
              "\n",
              "[350 rows x 1 columns]"
            ]
          },
          "metadata": {
            "tags": []
          },
          "execution_count": 132
        }
      ]
    },
    {
      "cell_type": "code",
      "metadata": {
        "colab": {
          "base_uri": "https://localhost:8080/",
          "height": 431
        },
        "id": "dbfQl95tqvJn",
        "outputId": "eaa9a342-07e7-4125-926b-6a55119a0dbe"
      },
      "source": [
        "date_list=[]\n",
        "or_list=[]\n",
        "for idx in range(len(df)):\n",
        "    date, or_ = df.iloc[idx]\n",
        "    date = pd.to_datetime(date, format='%Y%m%d')\n",
        "    date_list.append(date)\n",
        "    or_list.append(or_)\n",
        "df4 = pd.DataFrame({'日期':date_list, \"備轉容量(MW)\":or_list})\n",
        "df4=df4.set_index('日期')\n",
        "df4"
      ],
      "execution_count": 133,
      "outputs": [
        {
          "output_type": "execute_result",
          "data": {
            "text/html": [
              "<div>\n",
              "<style scoped>\n",
              "    .dataframe tbody tr th:only-of-type {\n",
              "        vertical-align: middle;\n",
              "    }\n",
              "\n",
              "    .dataframe tbody tr th {\n",
              "        vertical-align: top;\n",
              "    }\n",
              "\n",
              "    .dataframe thead th {\n",
              "        text-align: right;\n",
              "    }\n",
              "</style>\n",
              "<table border=\"1\" class=\"dataframe\">\n",
              "  <thead>\n",
              "    <tr style=\"text-align: right;\">\n",
              "      <th></th>\n",
              "      <th>備轉容量(MW)</th>\n",
              "    </tr>\n",
              "    <tr>\n",
              "      <th>日期</th>\n",
              "      <th></th>\n",
              "    </tr>\n",
              "  </thead>\n",
              "  <tbody>\n",
              "    <tr>\n",
              "      <th>2019-01-01</th>\n",
              "      <td>2557.0</td>\n",
              "    </tr>\n",
              "    <tr>\n",
              "      <th>2019-01-02</th>\n",
              "      <td>1899.0</td>\n",
              "    </tr>\n",
              "    <tr>\n",
              "      <th>2019-01-03</th>\n",
              "      <td>1891.0</td>\n",
              "    </tr>\n",
              "    <tr>\n",
              "      <th>2019-01-04</th>\n",
              "      <td>1811.0</td>\n",
              "    </tr>\n",
              "    <tr>\n",
              "      <th>2019-01-05</th>\n",
              "      <td>1903.0</td>\n",
              "    </tr>\n",
              "    <tr>\n",
              "      <th>...</th>\n",
              "      <td>...</td>\n",
              "    </tr>\n",
              "    <tr>\n",
              "      <th>2020-10-27</th>\n",
              "      <td>3402.0</td>\n",
              "    </tr>\n",
              "    <tr>\n",
              "      <th>2020-10-28</th>\n",
              "      <td>3470.0</td>\n",
              "    </tr>\n",
              "    <tr>\n",
              "      <th>2020-10-29</th>\n",
              "      <td>3707.0</td>\n",
              "    </tr>\n",
              "    <tr>\n",
              "      <th>2020-10-30</th>\n",
              "      <td>4215.0</td>\n",
              "    </tr>\n",
              "    <tr>\n",
              "      <th>2020-10-31</th>\n",
              "      <td>3719.0</td>\n",
              "    </tr>\n",
              "  </tbody>\n",
              "</table>\n",
              "<p>670 rows × 1 columns</p>\n",
              "</div>"
            ],
            "text/plain": [
              "            備轉容量(MW)\n",
              "日期                  \n",
              "2019-01-01    2557.0\n",
              "2019-01-02    1899.0\n",
              "2019-01-03    1891.0\n",
              "2019-01-04    1811.0\n",
              "2019-01-05    1903.0\n",
              "...              ...\n",
              "2020-10-27    3402.0\n",
              "2020-10-28    3470.0\n",
              "2020-10-29    3707.0\n",
              "2020-10-30    4215.0\n",
              "2020-10-31    3719.0\n",
              "\n",
              "[670 rows x 1 columns]"
            ]
          },
          "metadata": {
            "tags": []
          },
          "execution_count": 133
        }
      ]
    },
    {
      "cell_type": "code",
      "metadata": {
        "colab": {
          "base_uri": "https://localhost:8080/",
          "height": 431
        },
        "id": "nyG8NijUNxUt",
        "outputId": "34419d4d-26b1-4f3c-ecdc-776d07564dcd"
      },
      "source": [
        "df5 = pd.concat([df3, df4]).sort_values('日期')\n",
        "df5"
      ],
      "execution_count": 134,
      "outputs": [
        {
          "output_type": "execute_result",
          "data": {
            "text/html": [
              "<div>\n",
              "<style scoped>\n",
              "    .dataframe tbody tr th:only-of-type {\n",
              "        vertical-align: middle;\n",
              "    }\n",
              "\n",
              "    .dataframe tbody tr th {\n",
              "        vertical-align: top;\n",
              "    }\n",
              "\n",
              "    .dataframe thead th {\n",
              "        text-align: right;\n",
              "    }\n",
              "</style>\n",
              "<table border=\"1\" class=\"dataframe\">\n",
              "  <thead>\n",
              "    <tr style=\"text-align: right;\">\n",
              "      <th></th>\n",
              "      <th>備轉容量(MW)</th>\n",
              "    </tr>\n",
              "    <tr>\n",
              "      <th>日期</th>\n",
              "      <th></th>\n",
              "    </tr>\n",
              "  </thead>\n",
              "  <tbody>\n",
              "    <tr>\n",
              "      <th>2019-01-01</th>\n",
              "      <td>2557.0</td>\n",
              "    </tr>\n",
              "    <tr>\n",
              "      <th>2019-01-02</th>\n",
              "      <td>1899.0</td>\n",
              "    </tr>\n",
              "    <tr>\n",
              "      <th>2019-01-03</th>\n",
              "      <td>1891.0</td>\n",
              "    </tr>\n",
              "    <tr>\n",
              "      <th>2019-01-04</th>\n",
              "      <td>1811.0</td>\n",
              "    </tr>\n",
              "    <tr>\n",
              "      <th>2019-01-05</th>\n",
              "      <td>1903.0</td>\n",
              "    </tr>\n",
              "    <tr>\n",
              "      <th>...</th>\n",
              "      <td>...</td>\n",
              "    </tr>\n",
              "    <tr>\n",
              "      <th>2020-12-11</th>\n",
              "      <td>3129.0</td>\n",
              "    </tr>\n",
              "    <tr>\n",
              "      <th>2020-12-12</th>\n",
              "      <td>3282.0</td>\n",
              "    </tr>\n",
              "    <tr>\n",
              "      <th>2020-12-13</th>\n",
              "      <td>2830.0</td>\n",
              "    </tr>\n",
              "    <tr>\n",
              "      <th>2020-12-14</th>\n",
              "      <td>3021.0</td>\n",
              "    </tr>\n",
              "    <tr>\n",
              "      <th>2020-12-15</th>\n",
              "      <td>3012.0</td>\n",
              "    </tr>\n",
              "  </tbody>\n",
              "</table>\n",
              "<p>1020 rows × 1 columns</p>\n",
              "</div>"
            ],
            "text/plain": [
              "            備轉容量(MW)\n",
              "日期                  \n",
              "2019-01-01    2557.0\n",
              "2019-01-02    1899.0\n",
              "2019-01-03    1891.0\n",
              "2019-01-04    1811.0\n",
              "2019-01-05    1903.0\n",
              "...              ...\n",
              "2020-12-11    3129.0\n",
              "2020-12-12    3282.0\n",
              "2020-12-13    2830.0\n",
              "2020-12-14    3021.0\n",
              "2020-12-15    3012.0\n",
              "\n",
              "[1020 rows x 1 columns]"
            ]
          },
          "metadata": {
            "tags": []
          },
          "execution_count": 134
        }
      ]
    },
    {
      "cell_type": "code",
      "metadata": {
        "colab": {
          "base_uri": "https://localhost:8080/",
          "height": 431
        },
        "id": "xqFuYQXOsaw4",
        "outputId": "179f2be4-5906-4643-af69-628658e7751a"
      },
      "source": [
        "df5 = df5[~df5.index.duplicated(keep='first')]\n",
        "df5"
      ],
      "execution_count": 135,
      "outputs": [
        {
          "output_type": "execute_result",
          "data": {
            "text/html": [
              "<div>\n",
              "<style scoped>\n",
              "    .dataframe tbody tr th:only-of-type {\n",
              "        vertical-align: middle;\n",
              "    }\n",
              "\n",
              "    .dataframe tbody tr th {\n",
              "        vertical-align: top;\n",
              "    }\n",
              "\n",
              "    .dataframe thead th {\n",
              "        text-align: right;\n",
              "    }\n",
              "</style>\n",
              "<table border=\"1\" class=\"dataframe\">\n",
              "  <thead>\n",
              "    <tr style=\"text-align: right;\">\n",
              "      <th></th>\n",
              "      <th>備轉容量(MW)</th>\n",
              "    </tr>\n",
              "    <tr>\n",
              "      <th>日期</th>\n",
              "      <th></th>\n",
              "    </tr>\n",
              "  </thead>\n",
              "  <tbody>\n",
              "    <tr>\n",
              "      <th>2019-01-01</th>\n",
              "      <td>2557.0</td>\n",
              "    </tr>\n",
              "    <tr>\n",
              "      <th>2019-01-02</th>\n",
              "      <td>1899.0</td>\n",
              "    </tr>\n",
              "    <tr>\n",
              "      <th>2019-01-03</th>\n",
              "      <td>1891.0</td>\n",
              "    </tr>\n",
              "    <tr>\n",
              "      <th>2019-01-04</th>\n",
              "      <td>1811.0</td>\n",
              "    </tr>\n",
              "    <tr>\n",
              "      <th>2019-01-05</th>\n",
              "      <td>1903.0</td>\n",
              "    </tr>\n",
              "    <tr>\n",
              "      <th>...</th>\n",
              "      <td>...</td>\n",
              "    </tr>\n",
              "    <tr>\n",
              "      <th>2020-12-11</th>\n",
              "      <td>3129.0</td>\n",
              "    </tr>\n",
              "    <tr>\n",
              "      <th>2020-12-12</th>\n",
              "      <td>3282.0</td>\n",
              "    </tr>\n",
              "    <tr>\n",
              "      <th>2020-12-13</th>\n",
              "      <td>2830.0</td>\n",
              "    </tr>\n",
              "    <tr>\n",
              "      <th>2020-12-14</th>\n",
              "      <td>3021.0</td>\n",
              "    </tr>\n",
              "    <tr>\n",
              "      <th>2020-12-15</th>\n",
              "      <td>3012.0</td>\n",
              "    </tr>\n",
              "  </tbody>\n",
              "</table>\n",
              "<p>715 rows × 1 columns</p>\n",
              "</div>"
            ],
            "text/plain": [
              "            備轉容量(MW)\n",
              "日期                  \n",
              "2019-01-01    2557.0\n",
              "2019-01-02    1899.0\n",
              "2019-01-03    1891.0\n",
              "2019-01-04    1811.0\n",
              "2019-01-05    1903.0\n",
              "...              ...\n",
              "2020-12-11    3129.0\n",
              "2020-12-12    3282.0\n",
              "2020-12-13    2830.0\n",
              "2020-12-14    3021.0\n",
              "2020-12-15    3012.0\n",
              "\n",
              "[715 rows x 1 columns]"
            ]
          },
          "metadata": {
            "tags": []
          },
          "execution_count": 135
        }
      ]
    },
    {
      "cell_type": "code",
      "metadata": {
        "colab": {
          "base_uri": "https://localhost:8080/"
        },
        "id": "8897vjQdTKcF",
        "outputId": "47272206-9839-418a-987b-34e3d06f881a"
      },
      "source": [
        "# check if nan exist\n",
        "df5.isna().sum()"
      ],
      "execution_count": 136,
      "outputs": [
        {
          "output_type": "execute_result",
          "data": {
            "text/plain": [
              "備轉容量(MW)    0\n",
              "dtype: int64"
            ]
          },
          "metadata": {
            "tags": []
          },
          "execution_count": 136
        }
      ]
    },
    {
      "cell_type": "code",
      "metadata": {
        "colab": {
          "base_uri": "https://localhost:8080/",
          "height": 513
        },
        "id": "snJAfUT2V_vK",
        "outputId": "a2ce77f7-920c-46f5-9126-1d2eac257edf"
      },
      "source": [
        "plt.title('Operating Reserve(MW)')\n",
        "plt.plot(df5['備轉容量(MW)'])\n",
        "plt.xlabel('time step')\n",
        "plt.ylabel('MW')\n",
        "plt.grid()\n",
        "plt.show()"
      ],
      "execution_count": 137,
      "outputs": [
        {
          "output_type": "display_data",
          "data": {
            "image/png": "[encoded data removed]",
            "text/plain": [
              "<Figure size 864x576 with 1 Axes>"
            ]
          },
          "metadata": {
            "tags": [],
            "needs_background": "light"
          }
        }
      ]
    },
    {
      "cell_type": "code",
      "metadata": {
        "colab": {
          "base_uri": "https://localhost:8080/"
        },
        "id": "iAn8yfMOtogG",
        "outputId": "6e939062-d28e-424e-f2f7-98cee5ddd1d8"
      },
      "source": [
        "data = df5.values\n",
        "data[:10]"
      ],
      "execution_count": 138,
      "outputs": [
        {
          "output_type": "execute_result",
          "data": {
            "text/plain": [
              "array([[2557.],\n",
              "       [1899.],\n",
              "       [1891.],\n",
              "       [1811.],\n",
              "       [1903.],\n",
              "       [2333.],\n",
              "       [1800.],\n",
              "       [1843.],\n",
              "       [1954.],\n",
              "       [1847.]])"
            ]
          },
          "metadata": {
            "tags": []
          },
          "execution_count": 138
        }
      ]
    },
    {
      "cell_type": "markdown",
      "metadata": {
        "id": "FCnFjgFEtaeW"
      },
      "source": [
        "split data"
      ]
    },
    {
      "cell_type": "code",
      "metadata": {
        "id": "RmlHMmBdQ2O9",
        "colab": {
          "base_uri": "https://localhost:8080/"
        },
        "outputId": "9d52dfcd-4fb8-42e6-bd81-39fc4e6aa3bb"
      },
      "source": [
        "from sklearn.model_selection import train_test_split\n",
        "X_train, X_test, y_train, y_test = train_test_split(data, data, test_size=0.1, random_state=0, shuffle=False)\n",
        "print('training samples:',len(X_train))\n",
        "print('validation samples:',len(X_test))"
      ],
      "execution_count": 140,
      "outputs": [
        {
          "output_type": "stream",
          "text": [
            "training samples: 643\n",
            "validation samples: 72\n"
          ],
          "name": "stdout"
        }
      ]
    },
    {
      "cell_type": "code",
      "metadata": {
        "colab": {
          "base_uri": "https://localhost:8080/"
        },
        "id": "hrGQ5-Qst5Ll",
        "outputId": "df9be145-50f1-47b9-84ce-a459480e3bdb"
      },
      "source": [
        "X_train.shape"
      ],
      "execution_count": 141,
      "outputs": [
        {
          "output_type": "execute_result",
          "data": {
            "text/plain": [
              "(643, 1)"
            ]
          },
          "metadata": {
            "tags": []
          },
          "execution_count": 141
        }
      ]
    },
    {
      "cell_type": "markdown",
      "metadata": {
        "id": "uF6nstnhKR2c"
      },
      "source": [
        "### normaliation features"
      ]
    },
    {
      "cell_type": "code",
      "metadata": {
        "id": "s6OHj7ezvMnR"
      },
      "source": [
        "from sklearn.preprocessing import MinMaxScaler\n",
        "scaler = MinMaxScaler()\n",
        "X_scaled = scaler.fit_transform(X_train)\n",
        "y_scaled = scaler.fit_transform(y_train)\n",
        "X_test_scaled = scaler.fit_transform(X_test)\n",
        "y_test_scaled = scaler.fit_transform(y_test)"
      ],
      "execution_count": 142,
      "outputs": []
    },
    {
      "cell_type": "code",
      "metadata": {
        "id": "qsnd6_y-Jn-r",
        "colab": {
          "base_uri": "https://localhost:8080/"
        },
        "outputId": "517da3dc-924d-4f1f-8217-37caa48b677b"
      },
      "source": [
        "def split_sequences(df_x, df_y, n_steps):\n",
        "    X, y = list(), list()\n",
        "    for i in range(len(df_x)):\n",
        "        # find the end of this pattern\n",
        "        end_ix = i + n_steps\n",
        "\n",
        "        # check if we are beyond the dataset\n",
        "        if end_ix > len(df_x)-1:\n",
        "            break\n",
        "\n",
        "        # gather input and output parts of the pattern\n",
        "        seq_x, seq_y = df_x[i:end_ix,:], df_y[end_ix]\n",
        "        X.append(seq_x)\n",
        "        y.append(seq_y)\n",
        "\n",
        "    return np.array(X), np.array(y)\n",
        "\n",
        "train_window = 1 #<---------------------\n",
        "\n",
        "X_train_split, y_train_split = split_sequences(X_scaled, y_scaled, train_window)\n",
        "X_test_split, y_test_split = split_sequences(X_test_scaled, y_test_scaled, train_window)\n",
        "print('split x_train:',len(X_train_split))\n",
        "print('split x_test:',len(X_test_split))"
      ],
      "execution_count": 143,
      "outputs": [
        {
          "output_type": "stream",
          "text": [
            "split x_train: 642\n",
            "split x_test: 71\n"
          ],
          "name": "stdout"
        }
      ]
    },
    {
      "cell_type": "code",
      "metadata": {
        "colab": {
          "base_uri": "https://localhost:8080/"
        },
        "id": "OTszUUh3uezP",
        "outputId": "a19056a1-424f-40ab-c2df-f8171e343738"
      },
      "source": [
        "X_train_split[:3]"
      ],
      "execution_count": 144,
      "outputs": [
        {
          "output_type": "execute_result",
          "data": {
            "text/plain": [
              "array([[[0.31897392]],\n",
              "\n",
              "       [[0.2311082 ]],\n",
              "\n",
              "       [[0.23003993]]])"
            ]
          },
          "metadata": {
            "tags": []
          },
          "execution_count": 144
        }
      ]
    },
    {
      "cell_type": "code",
      "metadata": {
        "colab": {
          "base_uri": "https://localhost:8080/"
        },
        "id": "1ah986rpuvM-",
        "outputId": "9e0aa653-b2ef-492a-e846-369d750362f4"
      },
      "source": [
        "y_train_split[:3]"
      ],
      "execution_count": 145,
      "outputs": [
        {
          "output_type": "execute_result",
          "data": {
            "text/plain": [
              "array([[0.2311082 ],\n",
              "       [0.23003993],\n",
              "       [0.21935716]])"
            ]
          },
          "metadata": {
            "tags": []
          },
          "execution_count": 145
        }
      ]
    },
    {
      "cell_type": "markdown",
      "metadata": {
        "id": "FBIxMyPBu67V"
      },
      "source": [
        "## sk learn"
      ]
    },
    {
      "cell_type": "code",
      "metadata": {
        "id": "WTMLpPS6u8od"
      },
      "source": [
        "from sklearn import datasets, linear_model\n",
        "from sklearn.metrics import mean_squared_error, r2_score"
      ],
      "execution_count": 146,
      "outputs": []
    },
    {
      "cell_type": "code",
      "metadata": {
        "id": "_9_14SzHvCuE"
      },
      "source": [
        "# Create linear regression object\n",
        "regr = linear_model.LinearRegression()"
      ],
      "execution_count": 147,
      "outputs": []
    },
    {
      "cell_type": "code",
      "metadata": {
        "colab": {
          "base_uri": "https://localhost:8080/"
        },
        "id": "fDRzF8KavH1M",
        "outputId": "a59e06ec-f4f3-4dda-bdf6-56951c4d61c5"
      },
      "source": [
        "# Train the model using the training sets\n",
        "regr.fit(X_train_split.squeeze(1), y_train_split.squeeze())"
      ],
      "execution_count": 148,
      "outputs": [
        {
          "output_type": "execute_result",
          "data": {
            "text/plain": [
              "LinearRegression(copy_X=True, fit_intercept=True, n_jobs=None, normalize=False)"
            ]
          },
          "metadata": {
            "tags": []
          },
          "execution_count": 148
        }
      ]
    },
    {
      "cell_type": "code",
      "metadata": {
        "id": "_gN79jmpvToc"
      },
      "source": [
        "# Make predictions using the testing set\n",
        "y_pred = regr.predict(X_test_split.squeeze(1))"
      ],
      "execution_count": 149,
      "outputs": []
    },
    {
      "cell_type": "code",
      "metadata": {
        "colab": {
          "base_uri": "https://localhost:8080/"
        },
        "id": "fYZhluzN1wDf",
        "outputId": "47f7563a-9d22-4590-ab7d-ea553c627774"
      },
      "source": [
        "y_pred"
      ],
      "execution_count": 150,
      "outputs": [
        {
          "output_type": "execute_result",
          "data": {
            "text/plain": [
              "array([0.85784437, 0.72719487, 0.6666606 , 0.93579857, 0.75811525,\n",
              "       0.31608444, 0.22593628, 0.34482733, 0.39011916, 0.61962678,\n",
              "       0.59088389, 0.5364466 , 0.66099912, 0.59959386, 0.84303743,\n",
              "       0.72937236, 0.32218142, 0.7716157 , 0.62441726, 0.57607695,\n",
              "       0.63399822, 0.40666809, 0.36224726, 0.39229665, 0.49594525,\n",
              "       0.71674291, 0.50073573, 0.43541098, 0.41537806, 0.26992162,\n",
              "       0.42757201, 0.3265364 , 0.30214849, 0.2742766 , 0.59175489,\n",
              "       0.65795063, 0.44455645, 0.49594525, 0.27079261, 0.35005331,\n",
              "       0.34613383, 0.38924816, 0.25163069, 0.2755831 , 0.34482733,\n",
              "       0.32435891, 0.46763786, 0.15625655, 0.08527032, 0.25075969,\n",
              "       0.24596921, 0.32087492, 0.25075969, 0.40318411, 0.17759597,\n",
              "       0.31260045, 0.3269719 , 0.29082554, 0.20938735, 0.26077615,\n",
              "       0.22419429, 0.4567504 , 0.05304345, 0.23377525, 0.25903416,\n",
              "       0.22854927, 0.22506529, 0.24379172, 0.31042296, 0.11357771,\n",
              "       0.1967579 ])"
            ]
          },
          "metadata": {
            "tags": []
          },
          "execution_count": 150
        }
      ]
    },
    {
      "cell_type": "code",
      "metadata": {
        "colab": {
          "base_uri": "https://localhost:8080/"
        },
        "id": "neyULu7Bvpu1",
        "outputId": "3173c6e0-9d25-4a58-8b95-2a6a4d08a940"
      },
      "source": [
        "# The coefficients\n",
        "print('Coefficients: \\n', regr.coef_)\n",
        "\n",
        "# The mean squared error\n",
        "print('Mean squared error: %.2f'\n",
        "      % mean_squared_error(y_test_split.squeeze(), y_pred))\n",
        "\n",
        "# The coefficient of determination: 1 is perfect prediction\n",
        "print('Coefficient of determination: %.2f'\n",
        "      % r2_score(y_test_split.squeeze(), y_pred))"
      ],
      "execution_count": 151,
      "outputs": [
        {
          "output_type": "stream",
          "text": [
            "Coefficients: \n",
            " [0.88275513]\n",
            "Mean squared error: 0.03\n",
            "Coefficient of determination: 0.34\n"
          ],
          "name": "stdout"
        }
      ]
    },
    {
      "cell_type": "code",
      "metadata": {
        "id": "OggAJVBBxc2G"
      },
      "source": [
        "y_pred_all = regr.predict(data)"
      ],
      "execution_count": 152,
      "outputs": []
    },
    {
      "cell_type": "code",
      "metadata": {
        "colab": {
          "base_uri": "https://localhost:8080/",
          "height": 485
        },
        "id": "eQs-ygs01zoX",
        "outputId": "d9b949fe-72ea-4358-c393-5e05b427fb63"
      },
      "source": [
        "plt.plot(data, label='ground truth')\n",
        "plt.plot(y_pred_all, label='prediction')\n",
        "plt.legend()\n",
        "plt.show()"
      ],
      "execution_count": 156,
      "outputs": [
        {
          "output_type": "display_data",
          "data": {
            "image/png": "[encoded data removed]",
            "text/plain": [
              "<Figure size 864x576 with 1 Axes>"
            ]
          },
          "metadata": {
            "tags": [],
            "needs_background": "light"
          }
        }
      ]
    },
    {
      "cell_type": "code",
      "metadata": {
        "colab": {
          "base_uri": "https://localhost:8080/"
        },
        "id": "7UyoWe_K2_F3",
        "outputId": "141f621b-1afb-4a6c-d8be-6fb5f2b074bf"
      },
      "source": [
        "np.sqrt(np.mean(np.abs(data.squeeze()-y_pred_all)))"
      ],
      "execution_count": 163,
      "outputs": [
        {
          "output_type": "execute_result",
          "data": {
            "text/plain": [
              "20.367639085997613"
            ]
          },
          "metadata": {
            "tags": []
          },
          "execution_count": 163
        }
      ]
    },
    {
      "cell_type": "code",
      "metadata": {
        "colab": {
          "base_uri": "https://localhost:8080/"
        },
        "id": "1paoHoOSQOgd",
        "outputId": "8834e95e-1999-478f-fc67-b5b5502f244e"
      },
      "source": [
        "data[0:20]"
      ],
      "execution_count": 177,
      "outputs": [
        {
          "output_type": "execute_result",
          "data": {
            "text/plain": [
              "array([[2557.],\n",
              "       [1899.],\n",
              "       [1891.],\n",
              "       [1811.],\n",
              "       [1903.],\n",
              "       [2333.],\n",
              "       [1800.],\n",
              "       [1843.],\n",
              "       [1954.],\n",
              "       [1847.],\n",
              "       [1884.],\n",
              "       [2497.],\n",
              "       [2398.],\n",
              "       [1745.],\n",
              "       [1844.],\n",
              "       [1849.],\n",
              "       [1933.],\n",
              "       [1935.],\n",
              "       [1954.],\n",
              "       [2599.]])"
            ]
          },
          "metadata": {
            "tags": []
          },
          "execution_count": 177
        }
      ]
    },
    {
      "cell_type": "code",
      "metadata": {
        "colab": {
          "base_uri": "https://localhost:8080/"
        },
        "id": "QLKNRMUvTizN",
        "outputId": "da105aa8-a76a-48aa-a005-91d879757d8a"
      },
      "source": [
        "ans = []\n",
        "pred_ = data[0]\n",
        "print(pred_.reshape(-1,1))\n",
        "print('='*20)\n",
        "for i in range(20):\n",
        "    pred_ = regr.predict(pred_.reshape(-1,1))\n",
        "    print(pred_)\n",
        "    ans.append(pred_)"
      ],
      "execution_count": 183,
      "outputs": [
        {
          "output_type": "stream",
          "text": [
            "[[2557.]]\n",
            "====================\n",
            "[2257.25789913]\n",
            "[1992.65902328]\n",
            "[1759.08300945]\n",
            "[1552.89258607]\n",
            "[1370.87693302]\n",
            "[1210.20168238]\n",
            "[1068.36478135]\n",
            "[943.15753]\n",
            "[832.63018712]\n",
            "[735.0616087]\n",
            "[648.93244602]\n",
            "[572.90148622]\n",
            "[505.78476676]\n",
            "[446.53713866]\n",
            "[394.23599129]\n",
            "[348.06688538]\n",
            "[307.3108705]\n",
            "[271.33328948]\n",
            "[239.57389543]\n",
            "[211.53812755]\n"
          ],
          "name": "stdout"
        }
      ]
    },
    {
      "cell_type": "code",
      "metadata": {
        "colab": {
          "base_uri": "https://localhost:8080/",
          "height": 499
        },
        "id": "QhyAbuHzXzCA",
        "outputId": "91937fd9-5d26-40b7-f8cc-5bc5b97cea0f"
      },
      "source": [
        "plt.title('Prediction')\n",
        "plt.plot(data[0:20],label='ground truth')\n",
        "plt.plot(ans,label='predict')\n",
        "plt.legend()\n",
        "plt.grid()\n",
        "plt.show()"
      ],
      "execution_count": 185,
      "outputs": [
        {
          "output_type": "display_data",
          "data": {
            "image/png": "[encoded data removed]",
            "text/plain": [
              "<Figure size 864x576 with 1 Axes>"
            ]
          },
          "metadata": {
            "tags": [],
            "needs_background": "light"
          }
        }
      ]
    },
    {
      "cell_type": "code",
      "metadata": {
        "id": "h_eRiMlRX1EP"
      },
      "source": [
        ""
      ],
      "execution_count": null,
      "outputs": []
    },
    {
      "cell_type": "code",
      "metadata": {
        "colab": {
          "base_uri": "https://localhost:8080/"
        },
        "id": "59mDh3pxgNSw",
        "outputId": "44891a9b-01d4-4a76-fea2-93032bb8778f"
      },
      "source": [
        "ans = []\n",
        "pred_ = np.array([3186])\n",
        "print(pred_.reshape(-1,1))\n",
        "print('='*20)\n",
        "for i in range(7):\n",
        "    pred_ = regr.predict(pred_.reshape(-1,1))\n",
        "    print(pred_)\n",
        "    ans.append(pred_)"
      ],
      "execution_count": 180,
      "outputs": [
        {
          "output_type": "stream",
          "text": [
            "[[3186]]\n",
            "====================\n",
            "[2812.51087302]\n",
            "[2482.81143188]\n",
            "[2191.76756038]\n",
            "[1934.84709109]\n",
            "[1708.04923]\n",
            "[1507.84225568]\n",
            "[1331.10852297]\n"
          ],
          "name": "stdout"
        }
      ]
    }
  ]
}