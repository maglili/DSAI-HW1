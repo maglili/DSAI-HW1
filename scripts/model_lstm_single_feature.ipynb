{
  "nbformat": 4,
  "nbformat_minor": 0,
  "metadata": {
    "colab": {
      "name": "model-lstm-single_feature.ipynb",
      "provenance": [],
      "collapsed_sections": []
    },
    "kernelspec": {
      "name": "python3",
      "display_name": "Python 3"
    },
    "widgets": {
      "application/vnd.jupyter.widget-state+json": {
        "40e1fc90a749478bbaa0849b8cfb5411": {
          "model_module": "@jupyter-widgets/controls",
          "model_name": "HBoxModel",
          "state": {
            "_view_name": "HBoxView",
            "_dom_classes": [],
            "_model_name": "HBoxModel",
            "_view_module": "@jupyter-widgets/controls",
            "_model_module_version": "1.5.0",
            "_view_count": null,
            "_view_module_version": "1.5.0",
            "box_style": "",
            "layout": "IPY_MODEL_8071d2f3777d4ab1bd926c5c8b547624",
            "_model_module": "@jupyter-widgets/controls",
            "children": [
              "IPY_MODEL_3031cff928384aebb162efef5e522a7b",
              "IPY_MODEL_909f2a8dc56b43d7a16e30983dc18fb5"
            ]
          }
        },
        "8071d2f3777d4ab1bd926c5c8b547624": {
          "model_module": "@jupyter-widgets/base",
          "model_name": "LayoutModel",
          "state": {
            "_view_name": "LayoutView",
            "grid_template_rows": null,
            "right": null,
            "justify_content": null,
            "_view_module": "@jupyter-widgets/base",
            "overflow": null,
            "_model_module_version": "1.2.0",
            "_view_count": null,
            "flex_flow": null,
            "width": null,
            "min_width": null,
            "border": null,
            "align_items": null,
            "bottom": null,
            "_model_module": "@jupyter-widgets/base",
            "top": null,
            "grid_column": null,
            "overflow_y": null,
            "overflow_x": null,
            "grid_auto_flow": null,
            "grid_area": null,
            "grid_template_columns": null,
            "flex": null,
            "_model_name": "LayoutModel",
            "justify_items": null,
            "grid_row": null,
            "max_height": null,
            "align_content": null,
            "visibility": null,
            "align_self": null,
            "height": null,
            "min_height": null,
            "padding": null,
            "grid_auto_rows": null,
            "grid_gap": null,
            "max_width": null,
            "order": null,
            "_view_module_version": "1.2.0",
            "grid_template_areas": null,
            "object_position": null,
            "object_fit": null,
            "grid_auto_columns": null,
            "margin": null,
            "display": null,
            "left": null
          }
        },
        "3031cff928384aebb162efef5e522a7b": {
          "model_module": "@jupyter-widgets/controls",
          "model_name": "FloatProgressModel",
          "state": {
            "_view_name": "ProgressView",
            "style": "IPY_MODEL_cac61142d08844778d5028c7de004b8b",
            "_dom_classes": [],
            "description": "100%",
            "_model_name": "FloatProgressModel",
            "bar_style": "success",
            "max": 100,
            "_view_module": "@jupyter-widgets/controls",
            "_model_module_version": "1.5.0",
            "value": 100,
            "_view_count": null,
            "_view_module_version": "1.5.0",
            "orientation": "horizontal",
            "min": 0,
            "description_tooltip": null,
            "_model_module": "@jupyter-widgets/controls",
            "layout": "IPY_MODEL_f0f593043fa649bea3e8daeeea97e1ee"
          }
        },
        "909f2a8dc56b43d7a16e30983dc18fb5": {
          "model_module": "@jupyter-widgets/controls",
          "model_name": "HTMLModel",
          "state": {
            "_view_name": "HTMLView",
            "style": "IPY_MODEL_4564eb73ca524d859672c2068eea3ba0",
            "_dom_classes": [],
            "description": "",
            "_model_name": "HTMLModel",
            "placeholder": "​",
            "_view_module": "@jupyter-widgets/controls",
            "_model_module_version": "1.5.0",
            "value": " 100/100 [06:29&lt;00:00,  3.90s/it]",
            "_view_count": null,
            "_view_module_version": "1.5.0",
            "description_tooltip": null,
            "_model_module": "@jupyter-widgets/controls",
            "layout": "IPY_MODEL_425bc07cdf8f4f42a1186c2738e568b3"
          }
        },
        "cac61142d08844778d5028c7de004b8b": {
          "model_module": "@jupyter-widgets/controls",
          "model_name": "ProgressStyleModel",
          "state": {
            "_view_name": "StyleView",
            "_model_name": "ProgressStyleModel",
            "description_width": "initial",
            "_view_module": "@jupyter-widgets/base",
            "_model_module_version": "1.5.0",
            "_view_count": null,
            "_view_module_version": "1.2.0",
            "bar_color": null,
            "_model_module": "@jupyter-widgets/controls"
          }
        },
        "f0f593043fa649bea3e8daeeea97e1ee": {
          "model_module": "@jupyter-widgets/base",
          "model_name": "LayoutModel",
          "state": {
            "_view_name": "LayoutView",
            "grid_template_rows": null,
            "right": null,
            "justify_content": null,
            "_view_module": "@jupyter-widgets/base",
            "overflow": null,
            "_model_module_version": "1.2.0",
            "_view_count": null,
            "flex_flow": null,
            "width": null,
            "min_width": null,
            "border": null,
            "align_items": null,
            "bottom": null,
            "_model_module": "@jupyter-widgets/base",
            "top": null,
            "grid_column": null,
            "overflow_y": null,
            "overflow_x": null,
            "grid_auto_flow": null,
            "grid_area": null,
            "grid_template_columns": null,
            "flex": null,
            "_model_name": "LayoutModel",
            "justify_items": null,
            "grid_row": null,
            "max_height": null,
            "align_content": null,
            "visibility": null,
            "align_self": null,
            "height": null,
            "min_height": null,
            "padding": null,
            "grid_auto_rows": null,
            "grid_gap": null,
            "max_width": null,
            "order": null,
            "_view_module_version": "1.2.0",
            "grid_template_areas": null,
            "object_position": null,
            "object_fit": null,
            "grid_auto_columns": null,
            "margin": null,
            "display": null,
            "left": null
          }
        },
        "4564eb73ca524d859672c2068eea3ba0": {
          "model_module": "@jupyter-widgets/controls",
          "model_name": "DescriptionStyleModel",
          "state": {
            "_view_name": "StyleView",
            "_model_name": "DescriptionStyleModel",
            "description_width": "",
            "_view_module": "@jupyter-widgets/base",
            "_model_module_version": "1.5.0",
            "_view_count": null,
            "_view_module_version": "1.2.0",
            "_model_module": "@jupyter-widgets/controls"
          }
        },
        "425bc07cdf8f4f42a1186c2738e568b3": {
          "model_module": "@jupyter-widgets/base",
          "model_name": "LayoutModel",
          "state": {
            "_view_name": "LayoutView",
            "grid_template_rows": null,
            "right": null,
            "justify_content": null,
            "_view_module": "@jupyter-widgets/base",
            "overflow": null,
            "_model_module_version": "1.2.0",
            "_view_count": null,
            "flex_flow": null,
            "width": null,
            "min_width": null,
            "border": null,
            "align_items": null,
            "bottom": null,
            "_model_module": "@jupyter-widgets/base",
            "top": null,
            "grid_column": null,
            "overflow_y": null,
            "overflow_x": null,
            "grid_auto_flow": null,
            "grid_area": null,
            "grid_template_columns": null,
            "flex": null,
            "_model_name": "LayoutModel",
            "justify_items": null,
            "grid_row": null,
            "max_height": null,
            "align_content": null,
            "visibility": null,
            "align_self": null,
            "height": null,
            "min_height": null,
            "padding": null,
            "grid_auto_rows": null,
            "grid_gap": null,
            "max_width": null,
            "order": null,
            "_view_module_version": "1.2.0",
            "grid_template_areas": null,
            "object_position": null,
            "object_fit": null,
            "grid_auto_columns": null,
            "margin": null,
            "display": null,
            "left": null
          }
        }
      }
    },
    "accelerator": "GPU"
  },
  "cells": [
    {
      "cell_type": "markdown",
      "metadata": {
        "id": "v_tPBwgsldSn"
      },
      "source": [
        "## Preprocessing Data"
      ]
    },
    {
      "cell_type": "code",
      "metadata": {
        "id": "YFIOsHTEIuUl"
      },
      "source": [
        "import pandas as pd\n",
        "import numpy as np\n",
        "import matplotlib.pyplot as plt"
      ],
      "execution_count": null,
      "outputs": []
    },
    {
      "cell_type": "code",
      "metadata": {
        "id": "3f9F1_SKiWgf"
      },
      "source": [
        "#plt.rcParams[\"figure.figsize\"]=[6,4]\n",
        "plt.rcParams[\"figure.figsize\"] = (12,8)"
      ],
      "execution_count": null,
      "outputs": []
    },
    {
      "cell_type": "code",
      "metadata": {
        "colab": {
          "base_uri": "https://localhost:8080/",
          "height": 489
        },
        "id": "WpaUdmXPJGWR",
        "outputId": "e4cd63ee-aba1-4f62-f67a-d9fb4fe7df9a"
      },
      "source": [
        "df = pd.read_csv('/content/drive/MyDrive/Project_data/NCKU_DSAI/HW1/export.csv',encoding='utf-8')\n",
        "df"
      ],
      "execution_count": null,
      "outputs": [
        {
          "output_type": "execute_result",
          "data": {
            "text/html": [
              "<div>\n",
              "<style scoped>\n",
              "    .dataframe tbody tr th:only-of-type {\n",
              "        vertical-align: middle;\n",
              "    }\n",
              "\n",
              "    .dataframe tbody tr th {\n",
              "        vertical-align: top;\n",
              "    }\n",
              "\n",
              "    .dataframe thead th {\n",
              "        text-align: right;\n",
              "    }\n",
              "</style>\n",
              "<table border=\"1\" class=\"dataframe\">\n",
              "  <thead>\n",
              "    <tr style=\"text-align: right;\">\n",
              "      <th></th>\n",
              "      <th>日期</th>\n",
              "      <th>淨尖峰供電能力(MW)</th>\n",
              "      <th>尖峰負載(MW)</th>\n",
              "      <th>備轉容量(MW)</th>\n",
              "      <th>備轉容量率(%)</th>\n",
              "      <th>工業用電(百萬度)</th>\n",
              "      <th>民生用電(百萬度)</th>\n",
              "      <th>核一#1(萬瓩)</th>\n",
              "      <th>核一#2(萬瓩)</th>\n",
              "      <th>核二#1(萬瓩)</th>\n",
              "      <th>核二#2(萬瓩)</th>\n",
              "      <th>核三#1</th>\n",
              "      <th>核三#2</th>\n",
              "      <th>林口#1</th>\n",
              "      <th>林口#2</th>\n",
              "      <th>林口#3</th>\n",
              "      <th>台中#1</th>\n",
              "      <th>台中#2</th>\n",
              "      <th>台中#3</th>\n",
              "      <th>台中#4</th>\n",
              "      <th>台中#5</th>\n",
              "      <th>台中#6</th>\n",
              "      <th>台中#7</th>\n",
              "      <th>台中#8</th>\n",
              "      <th>台中#9</th>\n",
              "      <th>台中#10</th>\n",
              "      <th>興達#1</th>\n",
              "      <th>興達#2</th>\n",
              "      <th>興達#3</th>\n",
              "      <th>興達#4</th>\n",
              "      <th>大林#1</th>\n",
              "      <th>大林#2</th>\n",
              "      <th>和平#1</th>\n",
              "      <th>和平#2</th>\n",
              "      <th>麥寮#1</th>\n",
              "      <th>麥寮#2</th>\n",
              "      <th>麥寮#3</th>\n",
              "      <th>汽電共生</th>\n",
              "      <th>大潭 (#1-#6)</th>\n",
              "      <th>通霄 (#1-#6)</th>\n",
              "      <th>興達 (#1-#5)</th>\n",
              "      <th>南部 (#1-#4)</th>\n",
              "      <th>大林(#5-#6)</th>\n",
              "      <th>海湖 (#1-#2)</th>\n",
              "      <th>國光 #1</th>\n",
              "      <th>新桃#1</th>\n",
              "      <th>星彰#1</th>\n",
              "      <th>星元#1</th>\n",
              "      <th>嘉惠#1</th>\n",
              "      <th>豐德(#1-#2)</th>\n",
              "      <th>協和 (#1-#4)</th>\n",
              "      <th>氣渦輪</th>\n",
              "      <th>離島</th>\n",
              "      <th>德基</th>\n",
              "      <th>青山</th>\n",
              "      <th>谷關</th>\n",
              "      <th>天輪</th>\n",
              "      <th>馬鞍</th>\n",
              "      <th>萬大</th>\n",
              "      <th>大觀</th>\n",
              "      <th>鉅工</th>\n",
              "      <th>大觀二</th>\n",
              "      <th>明潭</th>\n",
              "      <th>碧海</th>\n",
              "      <th>立霧</th>\n",
              "      <th>龍澗</th>\n",
              "      <th>卓蘭</th>\n",
              "      <th>水里</th>\n",
              "      <th>其他小水力</th>\n",
              "      <th>風力發電</th>\n",
              "      <th>太陽能發電</th>\n",
              "    </tr>\n",
              "  </thead>\n",
              "  <tbody>\n",
              "    <tr>\n",
              "      <th>0</th>\n",
              "      <td>20190101</td>\n",
              "      <td>26429</td>\n",
              "      <td>23872</td>\n",
              "      <td>2557.0</td>\n",
              "      <td>10.71</td>\n",
              "      <td>279.870</td>\n",
              "      <td>192.192</td>\n",
              "      <td>0</td>\n",
              "      <td>0</td>\n",
              "      <td>98.4</td>\n",
              "      <td>98.3</td>\n",
              "      <td>94.3</td>\n",
              "      <td>0.0</td>\n",
              "      <td>76.0</td>\n",
              "      <td>76.1</td>\n",
              "      <td>NaN</td>\n",
              "      <td>52.5</td>\n",
              "      <td>0.0</td>\n",
              "      <td>0.0</td>\n",
              "      <td>52.1</td>\n",
              "      <td>52.5</td>\n",
              "      <td>52.2</td>\n",
              "      <td>51.9</td>\n",
              "      <td>0.0</td>\n",
              "      <td>47.3</td>\n",
              "      <td>0.0</td>\n",
              "      <td>28.1</td>\n",
              "      <td>28.1</td>\n",
              "      <td>38.4</td>\n",
              "      <td>52.5</td>\n",
              "      <td>75.6</td>\n",
              "      <td>76.4</td>\n",
              "      <td>56.3</td>\n",
              "      <td>56.5</td>\n",
              "      <td>56.8</td>\n",
              "      <td>0.0</td>\n",
              "      <td>52.3</td>\n",
              "      <td>39.7</td>\n",
              "      <td>217.2</td>\n",
              "      <td>128.8</td>\n",
              "      <td>79.9</td>\n",
              "      <td>104.9</td>\n",
              "      <td>74.9</td>\n",
              "      <td>45.9</td>\n",
              "      <td>0.0</td>\n",
              "      <td>0.0</td>\n",
              "      <td>53.7</td>\n",
              "      <td>56.9</td>\n",
              "      <td>0.0</td>\n",
              "      <td>105.0</td>\n",
              "      <td>13.3</td>\n",
              "      <td>0.0</td>\n",
              "      <td>10.9</td>\n",
              "      <td>0.0</td>\n",
              "      <td>2.7</td>\n",
              "      <td>2.5</td>\n",
              "      <td>2.2</td>\n",
              "      <td>1.2</td>\n",
              "      <td>0.9</td>\n",
              "      <td>0.0</td>\n",
              "      <td>0.1</td>\n",
              "      <td>16.0</td>\n",
              "      <td>54.0</td>\n",
              "      <td>0.0</td>\n",
              "      <td>1.2</td>\n",
              "      <td>3.0</td>\n",
              "      <td>2.2</td>\n",
              "      <td>0.0</td>\n",
              "      <td>24.3</td>\n",
              "      <td>50.9</td>\n",
              "      <td>0.0</td>\n",
              "    </tr>\n",
              "    <tr>\n",
              "      <th>1</th>\n",
              "      <td>20190102</td>\n",
              "      <td>30047</td>\n",
              "      <td>28148</td>\n",
              "      <td>1899.0</td>\n",
              "      <td>6.75</td>\n",
              "      <td>323.080</td>\n",
              "      <td>221.864</td>\n",
              "      <td>0</td>\n",
              "      <td>0</td>\n",
              "      <td>98.5</td>\n",
              "      <td>98.6</td>\n",
              "      <td>94.3</td>\n",
              "      <td>0.0</td>\n",
              "      <td>76.0</td>\n",
              "      <td>76.0</td>\n",
              "      <td>NaN</td>\n",
              "      <td>53.3</td>\n",
              "      <td>0.0</td>\n",
              "      <td>0.0</td>\n",
              "      <td>52.1</td>\n",
              "      <td>52.7</td>\n",
              "      <td>52.3</td>\n",
              "      <td>51.9</td>\n",
              "      <td>0.0</td>\n",
              "      <td>0.0</td>\n",
              "      <td>0.0</td>\n",
              "      <td>33.1</td>\n",
              "      <td>33.0</td>\n",
              "      <td>42.2</td>\n",
              "      <td>52.6</td>\n",
              "      <td>75.6</td>\n",
              "      <td>76.4</td>\n",
              "      <td>60.0</td>\n",
              "      <td>60.3</td>\n",
              "      <td>56.8</td>\n",
              "      <td>0.0</td>\n",
              "      <td>57.1</td>\n",
              "      <td>104.4</td>\n",
              "      <td>243.0</td>\n",
              "      <td>135.8</td>\n",
              "      <td>151.1</td>\n",
              "      <td>101.9</td>\n",
              "      <td>91.7</td>\n",
              "      <td>92.0</td>\n",
              "      <td>49.5</td>\n",
              "      <td>60.1</td>\n",
              "      <td>53.3</td>\n",
              "      <td>56.5</td>\n",
              "      <td>66.5</td>\n",
              "      <td>102.4</td>\n",
              "      <td>41.1</td>\n",
              "      <td>0.0</td>\n",
              "      <td>11.0</td>\n",
              "      <td>3.4</td>\n",
              "      <td>3.2</td>\n",
              "      <td>2.5</td>\n",
              "      <td>2.2</td>\n",
              "      <td>1.2</td>\n",
              "      <td>1.0</td>\n",
              "      <td>0.0</td>\n",
              "      <td>0.0</td>\n",
              "      <td>29.9</td>\n",
              "      <td>52.3</td>\n",
              "      <td>0.0</td>\n",
              "      <td>1.2</td>\n",
              "      <td>2.0</td>\n",
              "      <td>2.1</td>\n",
              "      <td>0.0</td>\n",
              "      <td>23.4</td>\n",
              "      <td>37.9</td>\n",
              "      <td>0.0</td>\n",
              "    </tr>\n",
              "    <tr>\n",
              "      <th>2</th>\n",
              "      <td>20190103</td>\n",
              "      <td>30343</td>\n",
              "      <td>28452</td>\n",
              "      <td>1891.0</td>\n",
              "      <td>6.65</td>\n",
              "      <td>336.597</td>\n",
              "      <td>231.146</td>\n",
              "      <td>0</td>\n",
              "      <td>0</td>\n",
              "      <td>98.7</td>\n",
              "      <td>98.6</td>\n",
              "      <td>94.1</td>\n",
              "      <td>0.0</td>\n",
              "      <td>75.9</td>\n",
              "      <td>75.9</td>\n",
              "      <td>NaN</td>\n",
              "      <td>53.3</td>\n",
              "      <td>0.0</td>\n",
              "      <td>0.0</td>\n",
              "      <td>52.0</td>\n",
              "      <td>52.7</td>\n",
              "      <td>52.2</td>\n",
              "      <td>51.9</td>\n",
              "      <td>0.0</td>\n",
              "      <td>0.0</td>\n",
              "      <td>0.0</td>\n",
              "      <td>28.2</td>\n",
              "      <td>28.1</td>\n",
              "      <td>37.8</td>\n",
              "      <td>52.6</td>\n",
              "      <td>75.8</td>\n",
              "      <td>76.4</td>\n",
              "      <td>59.9</td>\n",
              "      <td>49.3</td>\n",
              "      <td>56.8</td>\n",
              "      <td>0.0</td>\n",
              "      <td>57.1</td>\n",
              "      <td>104.0</td>\n",
              "      <td>261.6</td>\n",
              "      <td>129.0</td>\n",
              "      <td>147.5</td>\n",
              "      <td>93.8</td>\n",
              "      <td>91.6</td>\n",
              "      <td>92.0</td>\n",
              "      <td>49.2</td>\n",
              "      <td>60.2</td>\n",
              "      <td>53.4</td>\n",
              "      <td>56.3</td>\n",
              "      <td>66.5</td>\n",
              "      <td>104.0</td>\n",
              "      <td>86.9</td>\n",
              "      <td>0.0</td>\n",
              "      <td>10.9</td>\n",
              "      <td>3.1</td>\n",
              "      <td>1.4</td>\n",
              "      <td>2.5</td>\n",
              "      <td>2.2</td>\n",
              "      <td>1.1</td>\n",
              "      <td>2.4</td>\n",
              "      <td>1.9</td>\n",
              "      <td>0.5</td>\n",
              "      <td>14.3</td>\n",
              "      <td>65.5</td>\n",
              "      <td>0.0</td>\n",
              "      <td>1.4</td>\n",
              "      <td>1.2</td>\n",
              "      <td>2.0</td>\n",
              "      <td>0.1</td>\n",
              "      <td>24.1</td>\n",
              "      <td>41.6</td>\n",
              "      <td>0.0</td>\n",
              "    </tr>\n",
              "    <tr>\n",
              "      <th>3</th>\n",
              "      <td>20190104</td>\n",
              "      <td>30301</td>\n",
              "      <td>28490</td>\n",
              "      <td>1811.0</td>\n",
              "      <td>6.36</td>\n",
              "      <td>339.020</td>\n",
              "      <td>232.810</td>\n",
              "      <td>0</td>\n",
              "      <td>0</td>\n",
              "      <td>98.7</td>\n",
              "      <td>98.4</td>\n",
              "      <td>94.1</td>\n",
              "      <td>0.0</td>\n",
              "      <td>76.0</td>\n",
              "      <td>76.0</td>\n",
              "      <td>NaN</td>\n",
              "      <td>53.2</td>\n",
              "      <td>0.0</td>\n",
              "      <td>0.0</td>\n",
              "      <td>52.3</td>\n",
              "      <td>52.8</td>\n",
              "      <td>52.2</td>\n",
              "      <td>51.9</td>\n",
              "      <td>0.0</td>\n",
              "      <td>0.0</td>\n",
              "      <td>0.0</td>\n",
              "      <td>32.7</td>\n",
              "      <td>33.1</td>\n",
              "      <td>38.4</td>\n",
              "      <td>52.6</td>\n",
              "      <td>75.6</td>\n",
              "      <td>76.4</td>\n",
              "      <td>60.2</td>\n",
              "      <td>0.0</td>\n",
              "      <td>56.8</td>\n",
              "      <td>0.0</td>\n",
              "      <td>57.1</td>\n",
              "      <td>106.9</td>\n",
              "      <td>315.1</td>\n",
              "      <td>147.8</td>\n",
              "      <td>160.6</td>\n",
              "      <td>87.6</td>\n",
              "      <td>91.6</td>\n",
              "      <td>92.0</td>\n",
              "      <td>49.0</td>\n",
              "      <td>60.2</td>\n",
              "      <td>53.6</td>\n",
              "      <td>56.6</td>\n",
              "      <td>66.6</td>\n",
              "      <td>103.1</td>\n",
              "      <td>75.2</td>\n",
              "      <td>0.0</td>\n",
              "      <td>11.4</td>\n",
              "      <td>3.9</td>\n",
              "      <td>3.7</td>\n",
              "      <td>2.5</td>\n",
              "      <td>2.2</td>\n",
              "      <td>1.2</td>\n",
              "      <td>1.0</td>\n",
              "      <td>3.4</td>\n",
              "      <td>1.0</td>\n",
              "      <td>18.1</td>\n",
              "      <td>52.3</td>\n",
              "      <td>0.0</td>\n",
              "      <td>1.4</td>\n",
              "      <td>1.4</td>\n",
              "      <td>0.0</td>\n",
              "      <td>0.0</td>\n",
              "      <td>19.3</td>\n",
              "      <td>12.4</td>\n",
              "      <td>11.0</td>\n",
              "    </tr>\n",
              "    <tr>\n",
              "      <th>4</th>\n",
              "      <td>20190105</td>\n",
              "      <td>27957</td>\n",
              "      <td>26054</td>\n",
              "      <td>1903.0</td>\n",
              "      <td>7.30</td>\n",
              "      <td>315.825</td>\n",
              "      <td>216.882</td>\n",
              "      <td>0</td>\n",
              "      <td>0</td>\n",
              "      <td>98.7</td>\n",
              "      <td>98.6</td>\n",
              "      <td>94.1</td>\n",
              "      <td>0.0</td>\n",
              "      <td>75.7</td>\n",
              "      <td>75.8</td>\n",
              "      <td>NaN</td>\n",
              "      <td>53.1</td>\n",
              "      <td>0.0</td>\n",
              "      <td>0.0</td>\n",
              "      <td>52.2</td>\n",
              "      <td>52.9</td>\n",
              "      <td>52.2</td>\n",
              "      <td>51.8</td>\n",
              "      <td>28.1</td>\n",
              "      <td>0.0</td>\n",
              "      <td>0.0</td>\n",
              "      <td>28.2</td>\n",
              "      <td>28.1</td>\n",
              "      <td>32.8</td>\n",
              "      <td>52.7</td>\n",
              "      <td>75.8</td>\n",
              "      <td>76.5</td>\n",
              "      <td>57.5</td>\n",
              "      <td>0.0</td>\n",
              "      <td>56.8</td>\n",
              "      <td>0.0</td>\n",
              "      <td>57.1</td>\n",
              "      <td>40.6</td>\n",
              "      <td>264.4</td>\n",
              "      <td>146.4</td>\n",
              "      <td>161.3</td>\n",
              "      <td>106.2</td>\n",
              "      <td>88.7</td>\n",
              "      <td>46.1</td>\n",
              "      <td>0.0</td>\n",
              "      <td>60.1</td>\n",
              "      <td>53.2</td>\n",
              "      <td>55.8</td>\n",
              "      <td>68.6</td>\n",
              "      <td>102.3</td>\n",
              "      <td>13.1</td>\n",
              "      <td>0.0</td>\n",
              "      <td>11.3</td>\n",
              "      <td>0.3</td>\n",
              "      <td>1.2</td>\n",
              "      <td>2.2</td>\n",
              "      <td>1.8</td>\n",
              "      <td>0.8</td>\n",
              "      <td>0.9</td>\n",
              "      <td>1.8</td>\n",
              "      <td>0.7</td>\n",
              "      <td>30.4</td>\n",
              "      <td>57.6</td>\n",
              "      <td>0.0</td>\n",
              "      <td>1.3</td>\n",
              "      <td>3.0</td>\n",
              "      <td>2.9</td>\n",
              "      <td>0.0</td>\n",
              "      <td>23.9</td>\n",
              "      <td>18.5</td>\n",
              "      <td>0.0</td>\n",
              "    </tr>\n",
              "    <tr>\n",
              "      <th>...</th>\n",
              "      <td>...</td>\n",
              "      <td>...</td>\n",
              "      <td>...</td>\n",
              "      <td>...</td>\n",
              "      <td>...</td>\n",
              "      <td>...</td>\n",
              "      <td>...</td>\n",
              "      <td>...</td>\n",
              "      <td>...</td>\n",
              "      <td>...</td>\n",
              "      <td>...</td>\n",
              "      <td>...</td>\n",
              "      <td>...</td>\n",
              "      <td>...</td>\n",
              "      <td>...</td>\n",
              "      <td>...</td>\n",
              "      <td>...</td>\n",
              "      <td>...</td>\n",
              "      <td>...</td>\n",
              "      <td>...</td>\n",
              "      <td>...</td>\n",
              "      <td>...</td>\n",
              "      <td>...</td>\n",
              "      <td>...</td>\n",
              "      <td>...</td>\n",
              "      <td>...</td>\n",
              "      <td>...</td>\n",
              "      <td>...</td>\n",
              "      <td>...</td>\n",
              "      <td>...</td>\n",
              "      <td>...</td>\n",
              "      <td>...</td>\n",
              "      <td>...</td>\n",
              "      <td>...</td>\n",
              "      <td>...</td>\n",
              "      <td>...</td>\n",
              "      <td>...</td>\n",
              "      <td>...</td>\n",
              "      <td>...</td>\n",
              "      <td>...</td>\n",
              "      <td>...</td>\n",
              "      <td>...</td>\n",
              "      <td>...</td>\n",
              "      <td>...</td>\n",
              "      <td>...</td>\n",
              "      <td>...</td>\n",
              "      <td>...</td>\n",
              "      <td>...</td>\n",
              "      <td>...</td>\n",
              "      <td>...</td>\n",
              "      <td>...</td>\n",
              "      <td>...</td>\n",
              "      <td>...</td>\n",
              "      <td>...</td>\n",
              "      <td>...</td>\n",
              "      <td>...</td>\n",
              "      <td>...</td>\n",
              "      <td>...</td>\n",
              "      <td>...</td>\n",
              "      <td>...</td>\n",
              "      <td>...</td>\n",
              "      <td>...</td>\n",
              "      <td>...</td>\n",
              "      <td>...</td>\n",
              "      <td>...</td>\n",
              "      <td>...</td>\n",
              "      <td>...</td>\n",
              "      <td>...</td>\n",
              "      <td>...</td>\n",
              "      <td>...</td>\n",
              "      <td>...</td>\n",
              "    </tr>\n",
              "    <tr>\n",
              "      <th>665</th>\n",
              "      <td>20201027</td>\n",
              "      <td>35071</td>\n",
              "      <td>31669</td>\n",
              "      <td>3402.0</td>\n",
              "      <td>10.74</td>\n",
              "      <td>362.462</td>\n",
              "      <td>309.405</td>\n",
              "      <td>0</td>\n",
              "      <td>0</td>\n",
              "      <td>98.1</td>\n",
              "      <td>89.9</td>\n",
              "      <td>94.4</td>\n",
              "      <td>94.2</td>\n",
              "      <td>75.8</td>\n",
              "      <td>76.0</td>\n",
              "      <td>75.9</td>\n",
              "      <td>40.0</td>\n",
              "      <td>0.0</td>\n",
              "      <td>0.0</td>\n",
              "      <td>39.9</td>\n",
              "      <td>38.0</td>\n",
              "      <td>43.9</td>\n",
              "      <td>0.0</td>\n",
              "      <td>0.0</td>\n",
              "      <td>40.5</td>\n",
              "      <td>41.0</td>\n",
              "      <td>0.0</td>\n",
              "      <td>23.0</td>\n",
              "      <td>0.0</td>\n",
              "      <td>28.5</td>\n",
              "      <td>76.0</td>\n",
              "      <td>76.1</td>\n",
              "      <td>60.4</td>\n",
              "      <td>60.3</td>\n",
              "      <td>41.0</td>\n",
              "      <td>40.9</td>\n",
              "      <td>57.4</td>\n",
              "      <td>71.6</td>\n",
              "      <td>375.1</td>\n",
              "      <td>277.9</td>\n",
              "      <td>165.6</td>\n",
              "      <td>113.4</td>\n",
              "      <td>98.4</td>\n",
              "      <td>91.8</td>\n",
              "      <td>47.3</td>\n",
              "      <td>62.9</td>\n",
              "      <td>50.4</td>\n",
              "      <td>51.6</td>\n",
              "      <td>68.9</td>\n",
              "      <td>97.6</td>\n",
              "      <td>13.5</td>\n",
              "      <td>0.0</td>\n",
              "      <td>11.4</td>\n",
              "      <td>2.5</td>\n",
              "      <td>5.3</td>\n",
              "      <td>3.8</td>\n",
              "      <td>3.7</td>\n",
              "      <td>0.0</td>\n",
              "      <td>1.0</td>\n",
              "      <td>1.0</td>\n",
              "      <td>0.1</td>\n",
              "      <td>43.5</td>\n",
              "      <td>63.8</td>\n",
              "      <td>4.8</td>\n",
              "      <td>1.4</td>\n",
              "      <td>1.9</td>\n",
              "      <td>1.7</td>\n",
              "      <td>0.8</td>\n",
              "      <td>13.9</td>\n",
              "      <td>34.6</td>\n",
              "      <td>41.5</td>\n",
              "    </tr>\n",
              "    <tr>\n",
              "      <th>666</th>\n",
              "      <td>20201028</td>\n",
              "      <td>35429</td>\n",
              "      <td>31959</td>\n",
              "      <td>3470.0</td>\n",
              "      <td>10.86</td>\n",
              "      <td>365.469</td>\n",
              "      <td>311.972</td>\n",
              "      <td>0</td>\n",
              "      <td>0</td>\n",
              "      <td>98.0</td>\n",
              "      <td>98.2</td>\n",
              "      <td>94.6</td>\n",
              "      <td>94.3</td>\n",
              "      <td>75.9</td>\n",
              "      <td>76.0</td>\n",
              "      <td>76.0</td>\n",
              "      <td>37.6</td>\n",
              "      <td>0.0</td>\n",
              "      <td>0.0</td>\n",
              "      <td>33.0</td>\n",
              "      <td>34.1</td>\n",
              "      <td>33.1</td>\n",
              "      <td>0.0</td>\n",
              "      <td>0.0</td>\n",
              "      <td>43.6</td>\n",
              "      <td>33.3</td>\n",
              "      <td>0.0</td>\n",
              "      <td>22.2</td>\n",
              "      <td>0.0</td>\n",
              "      <td>25.8</td>\n",
              "      <td>75.9</td>\n",
              "      <td>76.1</td>\n",
              "      <td>60.2</td>\n",
              "      <td>60.3</td>\n",
              "      <td>37.5</td>\n",
              "      <td>37.4</td>\n",
              "      <td>57.4</td>\n",
              "      <td>70.1</td>\n",
              "      <td>383.7</td>\n",
              "      <td>275.8</td>\n",
              "      <td>150.7</td>\n",
              "      <td>101.5</td>\n",
              "      <td>72.3</td>\n",
              "      <td>92.0</td>\n",
              "      <td>46.9</td>\n",
              "      <td>64.9</td>\n",
              "      <td>50.4</td>\n",
              "      <td>51.5</td>\n",
              "      <td>68.9</td>\n",
              "      <td>96.2</td>\n",
              "      <td>39.1</td>\n",
              "      <td>0.0</td>\n",
              "      <td>12.1</td>\n",
              "      <td>0.0</td>\n",
              "      <td>2.7</td>\n",
              "      <td>3.9</td>\n",
              "      <td>3.8</td>\n",
              "      <td>0.0</td>\n",
              "      <td>0.9</td>\n",
              "      <td>1.9</td>\n",
              "      <td>0.8</td>\n",
              "      <td>14.4</td>\n",
              "      <td>48.0</td>\n",
              "      <td>4.0</td>\n",
              "      <td>1.2</td>\n",
              "      <td>1.4</td>\n",
              "      <td>0.0</td>\n",
              "      <td>0.5</td>\n",
              "      <td>13.7</td>\n",
              "      <td>58.8</td>\n",
              "      <td>161.6</td>\n",
              "    </tr>\n",
              "    <tr>\n",
              "      <th>667</th>\n",
              "      <td>20201029</td>\n",
              "      <td>34978</td>\n",
              "      <td>31271</td>\n",
              "      <td>3707.0</td>\n",
              "      <td>11.86</td>\n",
              "      <td>362.440</td>\n",
              "      <td>309.387</td>\n",
              "      <td>0</td>\n",
              "      <td>0</td>\n",
              "      <td>97.8</td>\n",
              "      <td>98.0</td>\n",
              "      <td>94.6</td>\n",
              "      <td>94.3</td>\n",
              "      <td>76.0</td>\n",
              "      <td>76.1</td>\n",
              "      <td>76.2</td>\n",
              "      <td>37.5</td>\n",
              "      <td>0.0</td>\n",
              "      <td>0.0</td>\n",
              "      <td>32.8</td>\n",
              "      <td>34.0</td>\n",
              "      <td>33.0</td>\n",
              "      <td>0.0</td>\n",
              "      <td>0.0</td>\n",
              "      <td>43.4</td>\n",
              "      <td>33.4</td>\n",
              "      <td>0.0</td>\n",
              "      <td>23.1</td>\n",
              "      <td>0.0</td>\n",
              "      <td>25.7</td>\n",
              "      <td>75.7</td>\n",
              "      <td>76.2</td>\n",
              "      <td>60.3</td>\n",
              "      <td>60.2</td>\n",
              "      <td>37.8</td>\n",
              "      <td>37.4</td>\n",
              "      <td>57.3</td>\n",
              "      <td>79.3</td>\n",
              "      <td>352.6</td>\n",
              "      <td>278.4</td>\n",
              "      <td>163.6</td>\n",
              "      <td>103.3</td>\n",
              "      <td>43.2</td>\n",
              "      <td>92.0</td>\n",
              "      <td>47.9</td>\n",
              "      <td>60.0</td>\n",
              "      <td>50.5</td>\n",
              "      <td>51.4</td>\n",
              "      <td>66.4</td>\n",
              "      <td>96.7</td>\n",
              "      <td>13.5</td>\n",
              "      <td>0.0</td>\n",
              "      <td>12.3</td>\n",
              "      <td>3.3</td>\n",
              "      <td>6.4</td>\n",
              "      <td>4.3</td>\n",
              "      <td>4.1</td>\n",
              "      <td>0.0</td>\n",
              "      <td>0.9</td>\n",
              "      <td>0.8</td>\n",
              "      <td>0.2</td>\n",
              "      <td>20.5</td>\n",
              "      <td>50.0</td>\n",
              "      <td>1.0</td>\n",
              "      <td>1.2</td>\n",
              "      <td>1.3</td>\n",
              "      <td>0.0</td>\n",
              "      <td>0.5</td>\n",
              "      <td>16.2</td>\n",
              "      <td>60.8</td>\n",
              "      <td>143.3</td>\n",
              "    </tr>\n",
              "    <tr>\n",
              "      <th>668</th>\n",
              "      <td>20201030</td>\n",
              "      <td>34479</td>\n",
              "      <td>30264</td>\n",
              "      <td>4215.0</td>\n",
              "      <td>13.93</td>\n",
              "      <td>351.492</td>\n",
              "      <td>300.041</td>\n",
              "      <td>0</td>\n",
              "      <td>0</td>\n",
              "      <td>97.8</td>\n",
              "      <td>98.0</td>\n",
              "      <td>94.5</td>\n",
              "      <td>94.3</td>\n",
              "      <td>76.0</td>\n",
              "      <td>76.2</td>\n",
              "      <td>76.1</td>\n",
              "      <td>37.6</td>\n",
              "      <td>0.0</td>\n",
              "      <td>0.0</td>\n",
              "      <td>32.9</td>\n",
              "      <td>34.1</td>\n",
              "      <td>33.0</td>\n",
              "      <td>0.0</td>\n",
              "      <td>0.0</td>\n",
              "      <td>32.7</td>\n",
              "      <td>33.5</td>\n",
              "      <td>0.0</td>\n",
              "      <td>23.2</td>\n",
              "      <td>0.0</td>\n",
              "      <td>25.8</td>\n",
              "      <td>76.0</td>\n",
              "      <td>76.2</td>\n",
              "      <td>60.2</td>\n",
              "      <td>60.2</td>\n",
              "      <td>56.8</td>\n",
              "      <td>56.7</td>\n",
              "      <td>57.4</td>\n",
              "      <td>76.3</td>\n",
              "      <td>305.4</td>\n",
              "      <td>282.1</td>\n",
              "      <td>159.1</td>\n",
              "      <td>104.3</td>\n",
              "      <td>35.7</td>\n",
              "      <td>39.4</td>\n",
              "      <td>39.1</td>\n",
              "      <td>59.9</td>\n",
              "      <td>45.0</td>\n",
              "      <td>45.4</td>\n",
              "      <td>66.3</td>\n",
              "      <td>44.5</td>\n",
              "      <td>13.4</td>\n",
              "      <td>0.0</td>\n",
              "      <td>12.3</td>\n",
              "      <td>3.8</td>\n",
              "      <td>7.6</td>\n",
              "      <td>4.3</td>\n",
              "      <td>4.1</td>\n",
              "      <td>0.0</td>\n",
              "      <td>0.9</td>\n",
              "      <td>1.3</td>\n",
              "      <td>0.2</td>\n",
              "      <td>12.1</td>\n",
              "      <td>32.3</td>\n",
              "      <td>2.0</td>\n",
              "      <td>1.2</td>\n",
              "      <td>1.5</td>\n",
              "      <td>0.0</td>\n",
              "      <td>0.5</td>\n",
              "      <td>16.5</td>\n",
              "      <td>60.1</td>\n",
              "      <td>207.5</td>\n",
              "    </tr>\n",
              "    <tr>\n",
              "      <th>669</th>\n",
              "      <td>20201031</td>\n",
              "      <td>30482</td>\n",
              "      <td>26763</td>\n",
              "      <td>3719.0</td>\n",
              "      <td>13.90</td>\n",
              "      <td>319.096</td>\n",
              "      <td>272.388</td>\n",
              "      <td>0</td>\n",
              "      <td>0</td>\n",
              "      <td>98.1</td>\n",
              "      <td>98.4</td>\n",
              "      <td>94.6</td>\n",
              "      <td>94.3</td>\n",
              "      <td>72.4</td>\n",
              "      <td>75.9</td>\n",
              "      <td>75.9</td>\n",
              "      <td>34.7</td>\n",
              "      <td>0.0</td>\n",
              "      <td>0.0</td>\n",
              "      <td>33.0</td>\n",
              "      <td>34.1</td>\n",
              "      <td>33.0</td>\n",
              "      <td>0.0</td>\n",
              "      <td>0.0</td>\n",
              "      <td>37.6</td>\n",
              "      <td>33.5</td>\n",
              "      <td>0.0</td>\n",
              "      <td>23.2</td>\n",
              "      <td>0.0</td>\n",
              "      <td>25.7</td>\n",
              "      <td>75.9</td>\n",
              "      <td>76.2</td>\n",
              "      <td>0.0</td>\n",
              "      <td>46.3</td>\n",
              "      <td>37.8</td>\n",
              "      <td>37.3</td>\n",
              "      <td>57.4</td>\n",
              "      <td>63.7</td>\n",
              "      <td>328.4</td>\n",
              "      <td>259.2</td>\n",
              "      <td>206.8</td>\n",
              "      <td>102.6</td>\n",
              "      <td>35.7</td>\n",
              "      <td>0.0</td>\n",
              "      <td>0.0</td>\n",
              "      <td>0.0</td>\n",
              "      <td>45.3</td>\n",
              "      <td>45.5</td>\n",
              "      <td>66.4</td>\n",
              "      <td>44.6</td>\n",
              "      <td>13.4</td>\n",
              "      <td>0.0</td>\n",
              "      <td>12.3</td>\n",
              "      <td>3.1</td>\n",
              "      <td>4.4</td>\n",
              "      <td>4.2</td>\n",
              "      <td>4.1</td>\n",
              "      <td>0.0</td>\n",
              "      <td>0.9</td>\n",
              "      <td>2.0</td>\n",
              "      <td>0.6</td>\n",
              "      <td>29.2</td>\n",
              "      <td>81.5</td>\n",
              "      <td>3.2</td>\n",
              "      <td>1.2</td>\n",
              "      <td>3.0</td>\n",
              "      <td>1.7</td>\n",
              "      <td>0.4</td>\n",
              "      <td>24.1</td>\n",
              "      <td>55.2</td>\n",
              "      <td>0.0</td>\n",
              "    </tr>\n",
              "  </tbody>\n",
              "</table>\n",
              "<p>670 rows × 71 columns</p>\n",
              "</div>"
            ],
            "text/plain": [
              "           日期  淨尖峰供電能力(MW)  尖峰負載(MW)  備轉容量(MW)  ...   水里  其他小水力  風力發電  太陽能發電\n",
              "0    20190101        26429     23872    2557.0  ...  0.0   24.3  50.9    0.0\n",
              "1    20190102        30047     28148    1899.0  ...  0.0   23.4  37.9    0.0\n",
              "2    20190103        30343     28452    1891.0  ...  0.1   24.1  41.6    0.0\n",
              "3    20190104        30301     28490    1811.0  ...  0.0   19.3  12.4   11.0\n",
              "4    20190105        27957     26054    1903.0  ...  0.0   23.9  18.5    0.0\n",
              "..        ...          ...       ...       ...  ...  ...    ...   ...    ...\n",
              "665  20201027        35071     31669    3402.0  ...  0.8   13.9  34.6   41.5\n",
              "666  20201028        35429     31959    3470.0  ...  0.5   13.7  58.8  161.6\n",
              "667  20201029        34978     31271    3707.0  ...  0.5   16.2  60.8  143.3\n",
              "668  20201030        34479     30264    4215.0  ...  0.5   16.5  60.1  207.5\n",
              "669  20201031        30482     26763    3719.0  ...  0.4   24.1  55.2    0.0\n",
              "\n",
              "[670 rows x 71 columns]"
            ]
          },
          "metadata": {
            "tags": []
          },
          "execution_count": 24
        }
      ]
    },
    {
      "cell_type": "code",
      "metadata": {
        "colab": {
          "base_uri": "https://localhost:8080/",
          "height": 402
        },
        "id": "PnIpzisgR4pd",
        "outputId": "d0585777-b3a5-41ea-8edd-afb52ba82291"
      },
      "source": [
        "df2 = pd.read_csv('/content/drive/MyDrive/Project_data/NCKU_DSAI/HW1/export2.csv',encoding='utf-8')\n",
        "df2"
      ],
      "execution_count": null,
      "outputs": [
        {
          "output_type": "execute_result",
          "data": {
            "text/html": [
              "<div>\n",
              "<style scoped>\n",
              "    .dataframe tbody tr th:only-of-type {\n",
              "        vertical-align: middle;\n",
              "    }\n",
              "\n",
              "    .dataframe tbody tr th {\n",
              "        vertical-align: top;\n",
              "    }\n",
              "\n",
              "    .dataframe thead th {\n",
              "        text-align: right;\n",
              "    }\n",
              "</style>\n",
              "<table border=\"1\" class=\"dataframe\">\n",
              "  <thead>\n",
              "    <tr style=\"text-align: right;\">\n",
              "      <th></th>\n",
              "      <th>日期</th>\n",
              "      <th>備轉容量(萬瓩)</th>\n",
              "      <th>備轉容量率(%)</th>\n",
              "    </tr>\n",
              "  </thead>\n",
              "  <tbody>\n",
              "    <tr>\n",
              "      <th>0</th>\n",
              "      <td>2014/01/01</td>\n",
              "      <td>433.4</td>\n",
              "      <td>18.86</td>\n",
              "    </tr>\n",
              "    <tr>\n",
              "      <th>1</th>\n",
              "      <td>2014/01/02</td>\n",
              "      <td>411.9</td>\n",
              "      <td>15.82</td>\n",
              "    </tr>\n",
              "    <tr>\n",
              "      <th>2</th>\n",
              "      <td>2014/01/03</td>\n",
              "      <td>359.3</td>\n",
              "      <td>13.56</td>\n",
              "    </tr>\n",
              "    <tr>\n",
              "      <th>3</th>\n",
              "      <td>2014/01/04</td>\n",
              "      <td>418.5</td>\n",
              "      <td>17.07</td>\n",
              "    </tr>\n",
              "    <tr>\n",
              "      <th>4</th>\n",
              "      <td>2014/01/05</td>\n",
              "      <td>441.5</td>\n",
              "      <td>19.20</td>\n",
              "    </tr>\n",
              "    <tr>\n",
              "      <th>...</th>\n",
              "      <td>...</td>\n",
              "      <td>...</td>\n",
              "      <td>...</td>\n",
              "    </tr>\n",
              "    <tr>\n",
              "      <th>2183</th>\n",
              "      <td>2019/12/27</td>\n",
              "      <td>320.6</td>\n",
              "      <td>11.50</td>\n",
              "    </tr>\n",
              "    <tr>\n",
              "      <th>2184</th>\n",
              "      <td>2019/12/28</td>\n",
              "      <td>315.2</td>\n",
              "      <td>12.43</td>\n",
              "    </tr>\n",
              "    <tr>\n",
              "      <th>2185</th>\n",
              "      <td>2019/12/29</td>\n",
              "      <td>289.9</td>\n",
              "      <td>11.60</td>\n",
              "    </tr>\n",
              "    <tr>\n",
              "      <th>2186</th>\n",
              "      <td>2019/12/30</td>\n",
              "      <td>314.3</td>\n",
              "      <td>11.23</td>\n",
              "    </tr>\n",
              "    <tr>\n",
              "      <th>2187</th>\n",
              "      <td>2019/12/31</td>\n",
              "      <td>310.7</td>\n",
              "      <td>11.36</td>\n",
              "    </tr>\n",
              "  </tbody>\n",
              "</table>\n",
              "<p>2188 rows × 3 columns</p>\n",
              "</div>"
            ],
            "text/plain": [
              "              日期  備轉容量(萬瓩)  備轉容量率(%)\n",
              "0     2014/01/01     433.4     18.86\n",
              "1     2014/01/02     411.9     15.82\n",
              "2     2014/01/03     359.3     13.56\n",
              "3     2014/01/04     418.5     17.07\n",
              "4     2014/01/05     441.5     19.20\n",
              "...          ...       ...       ...\n",
              "2183  2019/12/27     320.6     11.50\n",
              "2184  2019/12/28     315.2     12.43\n",
              "2185  2019/12/29     289.9     11.60\n",
              "2186  2019/12/30     314.3     11.23\n",
              "2187  2019/12/31     310.7     11.36\n",
              "\n",
              "[2188 rows x 3 columns]"
            ]
          },
          "metadata": {
            "tags": []
          },
          "execution_count": 25
        }
      ]
    },
    {
      "cell_type": "code",
      "metadata": {
        "colab": {
          "base_uri": "https://localhost:8080/",
          "height": 402
        },
        "id": "SixqwYnjR8uH",
        "outputId": "4af3dfc9-12d7-4be4-8c0a-6a090abda47e"
      },
      "source": [
        "df3 = pd.read_csv('/content/drive/MyDrive/Project_data/NCKU_DSAI/HW1/export3.csv',encoding='utf-8')\n",
        "df3"
      ],
      "execution_count": null,
      "outputs": [
        {
          "output_type": "execute_result",
          "data": {
            "text/html": [
              "<div>\n",
              "<style scoped>\n",
              "    .dataframe tbody tr th:only-of-type {\n",
              "        vertical-align: middle;\n",
              "    }\n",
              "\n",
              "    .dataframe tbody tr th {\n",
              "        vertical-align: top;\n",
              "    }\n",
              "\n",
              "    .dataframe thead th {\n",
              "        text-align: right;\n",
              "    }\n",
              "</style>\n",
              "<table border=\"1\" class=\"dataframe\">\n",
              "  <thead>\n",
              "    <tr style=\"text-align: right;\">\n",
              "      <th></th>\n",
              "      <th>日期</th>\n",
              "      <th>備轉容量(萬瓩)</th>\n",
              "      <th>備轉容量率(%)</th>\n",
              "    </tr>\n",
              "  </thead>\n",
              "  <tbody>\n",
              "    <tr>\n",
              "      <th>0</th>\n",
              "      <td>2020/01/01</td>\n",
              "      <td>279.0</td>\n",
              "      <td>11.01</td>\n",
              "    </tr>\n",
              "    <tr>\n",
              "      <th>1</th>\n",
              "      <td>2020/01/02</td>\n",
              "      <td>308.0</td>\n",
              "      <td>10.91</td>\n",
              "    </tr>\n",
              "    <tr>\n",
              "      <th>2</th>\n",
              "      <td>2020/01/03</td>\n",
              "      <td>338.3</td>\n",
              "      <td>11.96</td>\n",
              "    </tr>\n",
              "    <tr>\n",
              "      <th>3</th>\n",
              "      <td>2020/01/04</td>\n",
              "      <td>363.6</td>\n",
              "      <td>14.21</td>\n",
              "    </tr>\n",
              "    <tr>\n",
              "      <th>4</th>\n",
              "      <td>2020/01/05</td>\n",
              "      <td>269.5</td>\n",
              "      <td>10.88</td>\n",
              "    </tr>\n",
              "    <tr>\n",
              "      <th>...</th>\n",
              "      <td>...</td>\n",
              "      <td>...</td>\n",
              "      <td>...</td>\n",
              "    </tr>\n",
              "    <tr>\n",
              "      <th>345</th>\n",
              "      <td>2020/12/11</td>\n",
              "      <td>312.9</td>\n",
              "      <td>10.46</td>\n",
              "    </tr>\n",
              "    <tr>\n",
              "      <th>346</th>\n",
              "      <td>2020/12/12</td>\n",
              "      <td>328.2</td>\n",
              "      <td>12.31</td>\n",
              "    </tr>\n",
              "    <tr>\n",
              "      <th>347</th>\n",
              "      <td>2020/12/13</td>\n",
              "      <td>283.0</td>\n",
              "      <td>11.12</td>\n",
              "    </tr>\n",
              "    <tr>\n",
              "      <th>348</th>\n",
              "      <td>2020/12/14</td>\n",
              "      <td>302.1</td>\n",
              "      <td>10.20</td>\n",
              "    </tr>\n",
              "    <tr>\n",
              "      <th>349</th>\n",
              "      <td>2020/12/15</td>\n",
              "      <td>301.2</td>\n",
              "      <td>10.14</td>\n",
              "    </tr>\n",
              "  </tbody>\n",
              "</table>\n",
              "<p>350 rows × 3 columns</p>\n",
              "</div>"
            ],
            "text/plain": [
              "             日期  備轉容量(萬瓩)  備轉容量率(%)\n",
              "0    2020/01/01     279.0     11.01\n",
              "1    2020/01/02     308.0     10.91\n",
              "2    2020/01/03     338.3     11.96\n",
              "3    2020/01/04     363.6     14.21\n",
              "4    2020/01/05     269.5     10.88\n",
              "..          ...       ...       ...\n",
              "345  2020/12/11     312.9     10.46\n",
              "346  2020/12/12     328.2     12.31\n",
              "347  2020/12/13     283.0     11.12\n",
              "348  2020/12/14     302.1     10.20\n",
              "349  2020/12/15     301.2     10.14\n",
              "\n",
              "[350 rows x 3 columns]"
            ]
          },
          "metadata": {
            "tags": []
          },
          "execution_count": 26
        }
      ]
    },
    {
      "cell_type": "code",
      "metadata": {
        "colab": {
          "base_uri": "https://localhost:8080/",
          "height": 402
        },
        "id": "8gQlMvegSoH2",
        "outputId": "7adc79c6-f992-41ca-a00c-64f19a3c8972"
      },
      "source": [
        "df4 = pd.concat([df2, df3],ignore_index=True)\n",
        "df4"
      ],
      "execution_count": null,
      "outputs": [
        {
          "output_type": "execute_result",
          "data": {
            "text/html": [
              "<div>\n",
              "<style scoped>\n",
              "    .dataframe tbody tr th:only-of-type {\n",
              "        vertical-align: middle;\n",
              "    }\n",
              "\n",
              "    .dataframe tbody tr th {\n",
              "        vertical-align: top;\n",
              "    }\n",
              "\n",
              "    .dataframe thead th {\n",
              "        text-align: right;\n",
              "    }\n",
              "</style>\n",
              "<table border=\"1\" class=\"dataframe\">\n",
              "  <thead>\n",
              "    <tr style=\"text-align: right;\">\n",
              "      <th></th>\n",
              "      <th>日期</th>\n",
              "      <th>備轉容量(萬瓩)</th>\n",
              "      <th>備轉容量率(%)</th>\n",
              "    </tr>\n",
              "  </thead>\n",
              "  <tbody>\n",
              "    <tr>\n",
              "      <th>0</th>\n",
              "      <td>2014/01/01</td>\n",
              "      <td>433.4</td>\n",
              "      <td>18.86</td>\n",
              "    </tr>\n",
              "    <tr>\n",
              "      <th>1</th>\n",
              "      <td>2014/01/02</td>\n",
              "      <td>411.9</td>\n",
              "      <td>15.82</td>\n",
              "    </tr>\n",
              "    <tr>\n",
              "      <th>2</th>\n",
              "      <td>2014/01/03</td>\n",
              "      <td>359.3</td>\n",
              "      <td>13.56</td>\n",
              "    </tr>\n",
              "    <tr>\n",
              "      <th>3</th>\n",
              "      <td>2014/01/04</td>\n",
              "      <td>418.5</td>\n",
              "      <td>17.07</td>\n",
              "    </tr>\n",
              "    <tr>\n",
              "      <th>4</th>\n",
              "      <td>2014/01/05</td>\n",
              "      <td>441.5</td>\n",
              "      <td>19.20</td>\n",
              "    </tr>\n",
              "    <tr>\n",
              "      <th>...</th>\n",
              "      <td>...</td>\n",
              "      <td>...</td>\n",
              "      <td>...</td>\n",
              "    </tr>\n",
              "    <tr>\n",
              "      <th>2533</th>\n",
              "      <td>2020/12/11</td>\n",
              "      <td>312.9</td>\n",
              "      <td>10.46</td>\n",
              "    </tr>\n",
              "    <tr>\n",
              "      <th>2534</th>\n",
              "      <td>2020/12/12</td>\n",
              "      <td>328.2</td>\n",
              "      <td>12.31</td>\n",
              "    </tr>\n",
              "    <tr>\n",
              "      <th>2535</th>\n",
              "      <td>2020/12/13</td>\n",
              "      <td>283.0</td>\n",
              "      <td>11.12</td>\n",
              "    </tr>\n",
              "    <tr>\n",
              "      <th>2536</th>\n",
              "      <td>2020/12/14</td>\n",
              "      <td>302.1</td>\n",
              "      <td>10.20</td>\n",
              "    </tr>\n",
              "    <tr>\n",
              "      <th>2537</th>\n",
              "      <td>2020/12/15</td>\n",
              "      <td>301.2</td>\n",
              "      <td>10.14</td>\n",
              "    </tr>\n",
              "  </tbody>\n",
              "</table>\n",
              "<p>2538 rows × 3 columns</p>\n",
              "</div>"
            ],
            "text/plain": [
              "              日期  備轉容量(萬瓩)  備轉容量率(%)\n",
              "0     2014/01/01     433.4     18.86\n",
              "1     2014/01/02     411.9     15.82\n",
              "2     2014/01/03     359.3     13.56\n",
              "3     2014/01/04     418.5     17.07\n",
              "4     2014/01/05     441.5     19.20\n",
              "...          ...       ...       ...\n",
              "2533  2020/12/11     312.9     10.46\n",
              "2534  2020/12/12     328.2     12.31\n",
              "2535  2020/12/13     283.0     11.12\n",
              "2536  2020/12/14     302.1     10.20\n",
              "2537  2020/12/15     301.2     10.14\n",
              "\n",
              "[2538 rows x 3 columns]"
            ]
          },
          "metadata": {
            "tags": []
          },
          "execution_count": 39
        }
      ]
    },
    {
      "cell_type": "code",
      "metadata": {
        "id": "2YVcczuITkBv"
      },
      "source": [
        "df4['備轉容量(萬瓩)'] *= 10\n",
        "df4 = df4.rename(columns={\"備轉容量(萬瓩)\":\"備轉容量(MW)\"})"
      ],
      "execution_count": null,
      "outputs": []
    },
    {
      "cell_type": "code",
      "metadata": {
        "colab": {
          "base_uri": "https://localhost:8080/",
          "height": 402
        },
        "id": "c5HilegcUfOV",
        "outputId": "2b74aa80-05da-4454-e90f-5a173b2bfa92"
      },
      "source": [
        "df4"
      ],
      "execution_count": null,
      "outputs": [
        {
          "output_type": "execute_result",
          "data": {
            "text/html": [
              "<div>\n",
              "<style scoped>\n",
              "    .dataframe tbody tr th:only-of-type {\n",
              "        vertical-align: middle;\n",
              "    }\n",
              "\n",
              "    .dataframe tbody tr th {\n",
              "        vertical-align: top;\n",
              "    }\n",
              "\n",
              "    .dataframe thead th {\n",
              "        text-align: right;\n",
              "    }\n",
              "</style>\n",
              "<table border=\"1\" class=\"dataframe\">\n",
              "  <thead>\n",
              "    <tr style=\"text-align: right;\">\n",
              "      <th></th>\n",
              "      <th>日期</th>\n",
              "      <th>備轉容量(MW)</th>\n",
              "      <th>備轉容量率(%)</th>\n",
              "    </tr>\n",
              "  </thead>\n",
              "  <tbody>\n",
              "    <tr>\n",
              "      <th>0</th>\n",
              "      <td>2014/01/01</td>\n",
              "      <td>4334.0</td>\n",
              "      <td>18.86</td>\n",
              "    </tr>\n",
              "    <tr>\n",
              "      <th>1</th>\n",
              "      <td>2014/01/02</td>\n",
              "      <td>4119.0</td>\n",
              "      <td>15.82</td>\n",
              "    </tr>\n",
              "    <tr>\n",
              "      <th>2</th>\n",
              "      <td>2014/01/03</td>\n",
              "      <td>3593.0</td>\n",
              "      <td>13.56</td>\n",
              "    </tr>\n",
              "    <tr>\n",
              "      <th>3</th>\n",
              "      <td>2014/01/04</td>\n",
              "      <td>4185.0</td>\n",
              "      <td>17.07</td>\n",
              "    </tr>\n",
              "    <tr>\n",
              "      <th>4</th>\n",
              "      <td>2014/01/05</td>\n",
              "      <td>4415.0</td>\n",
              "      <td>19.20</td>\n",
              "    </tr>\n",
              "    <tr>\n",
              "      <th>...</th>\n",
              "      <td>...</td>\n",
              "      <td>...</td>\n",
              "      <td>...</td>\n",
              "    </tr>\n",
              "    <tr>\n",
              "      <th>2533</th>\n",
              "      <td>2020/12/11</td>\n",
              "      <td>3129.0</td>\n",
              "      <td>10.46</td>\n",
              "    </tr>\n",
              "    <tr>\n",
              "      <th>2534</th>\n",
              "      <td>2020/12/12</td>\n",
              "      <td>3282.0</td>\n",
              "      <td>12.31</td>\n",
              "    </tr>\n",
              "    <tr>\n",
              "      <th>2535</th>\n",
              "      <td>2020/12/13</td>\n",
              "      <td>2830.0</td>\n",
              "      <td>11.12</td>\n",
              "    </tr>\n",
              "    <tr>\n",
              "      <th>2536</th>\n",
              "      <td>2020/12/14</td>\n",
              "      <td>3021.0</td>\n",
              "      <td>10.20</td>\n",
              "    </tr>\n",
              "    <tr>\n",
              "      <th>2537</th>\n",
              "      <td>2020/12/15</td>\n",
              "      <td>3012.0</td>\n",
              "      <td>10.14</td>\n",
              "    </tr>\n",
              "  </tbody>\n",
              "</table>\n",
              "<p>2538 rows × 3 columns</p>\n",
              "</div>"
            ],
            "text/plain": [
              "              日期  備轉容量(MW)  備轉容量率(%)\n",
              "0     2014/01/01    4334.0     18.86\n",
              "1     2014/01/02    4119.0     15.82\n",
              "2     2014/01/03    3593.0     13.56\n",
              "3     2014/01/04    4185.0     17.07\n",
              "4     2014/01/05    4415.0     19.20\n",
              "...          ...       ...       ...\n",
              "2533  2020/12/11    3129.0     10.46\n",
              "2534  2020/12/12    3282.0     12.31\n",
              "2535  2020/12/13    2830.0     11.12\n",
              "2536  2020/12/14    3021.0     10.20\n",
              "2537  2020/12/15    3012.0     10.14\n",
              "\n",
              "[2538 rows x 3 columns]"
            ]
          },
          "metadata": {
            "tags": []
          },
          "execution_count": 41
        }
      ]
    },
    {
      "cell_type": "code",
      "metadata": {
        "colab": {
          "base_uri": "https://localhost:8080/"
        },
        "id": "gNVU7xNzTr3_",
        "outputId": "bcfaac8a-9057-47fe-eddc-d1349f0b3e89"
      },
      "source": [
        "data = df4['備轉容量(MW)']\n",
        "data"
      ],
      "execution_count": null,
      "outputs": [
        {
          "output_type": "execute_result",
          "data": {
            "text/plain": [
              "0       4334.0\n",
              "1       4119.0\n",
              "2       3593.0\n",
              "3       4185.0\n",
              "4       4415.0\n",
              "         ...  \n",
              "2533    3129.0\n",
              "2534    3282.0\n",
              "2535    2830.0\n",
              "2536    3021.0\n",
              "2537    3012.0\n",
              "Name: 備轉容量(MW), Length: 2538, dtype: float64"
            ]
          },
          "metadata": {
            "tags": []
          },
          "execution_count": 42
        }
      ]
    },
    {
      "cell_type": "code",
      "metadata": {
        "colab": {
          "base_uri": "https://localhost:8080/"
        },
        "id": "8897vjQdTKcF",
        "outputId": "6f8a1139-fe78-4588-a65c-fd5694632535"
      },
      "source": [
        "# check if nan exist\n",
        "data.isna().sum()"
      ],
      "execution_count": null,
      "outputs": [
        {
          "output_type": "execute_result",
          "data": {
            "text/plain": [
              "0"
            ]
          },
          "metadata": {
            "tags": []
          },
          "execution_count": 43
        }
      ]
    },
    {
      "cell_type": "code",
      "metadata": {
        "colab": {
          "base_uri": "https://localhost:8080/",
          "height": 513
        },
        "id": "snJAfUT2V_vK",
        "outputId": "153a2747-4920-4405-9238-b62496f65333"
      },
      "source": [
        "plt.title('Operating Reserve(MW)')\n",
        "plt.plot(data)\n",
        "plt.xlabel('time step')\n",
        "plt.ylabel('MW')\n",
        "plt.grid()\n",
        "plt.show()"
      ],
      "execution_count": null,
      "outputs": [
        {
          "output_type": "display_data",
          "data": {
            "image/png": "[encoded data removed]",
            "text/plain": [
              "<Figure size 864x576 with 1 Axes>"
            ]
          },
          "metadata": {
            "tags": [],
            "needs_background": "light"
          }
        }
      ]
    },
    {
      "cell_type": "code",
      "metadata": {
        "id": "RmlHMmBdQ2O9",
        "colab": {
          "base_uri": "https://localhost:8080/"
        },
        "outputId": "5db40cda-444d-4503-cb85-f1eafd903e18"
      },
      "source": [
        "from sklearn.model_selection import train_test_split\n",
        "X_train, X_test, y_train, y_test = train_test_split(data, data, test_size=0.1, random_state=0, shuffle=False)\n",
        "print('training samples:',len(X_train))\n",
        "print('validation samples:',len(X_test))"
      ],
      "execution_count": null,
      "outputs": [
        {
          "output_type": "stream",
          "text": [
            "training samples: 2284\n",
            "validation samples: 254\n"
          ],
          "name": "stdout"
        }
      ]
    },
    {
      "cell_type": "code",
      "metadata": {
        "colab": {
          "base_uri": "https://localhost:8080/"
        },
        "id": "suYh9GPsV1OK",
        "outputId": "db2ae480-68ef-4e4f-e495-9d26275f044f"
      },
      "source": [
        "X_train"
      ],
      "execution_count": null,
      "outputs": [
        {
          "output_type": "execute_result",
          "data": {
            "text/plain": [
              "0       4334.0\n",
              "1       4119.0\n",
              "2       3593.0\n",
              "3       4185.0\n",
              "4       4415.0\n",
              "         ...  \n",
              "2279    4095.0\n",
              "2280    4108.0\n",
              "2281    3749.0\n",
              "2282    4414.0\n",
              "2283    4249.0\n",
              "Name: 備轉容量(MW), Length: 2284, dtype: float64"
            ]
          },
          "metadata": {
            "tags": []
          },
          "execution_count": 148
        }
      ]
    },
    {
      "cell_type": "markdown",
      "metadata": {
        "id": "uF6nstnhKR2c"
      },
      "source": [
        "### normaliation features"
      ]
    },
    {
      "cell_type": "code",
      "metadata": {
        "id": "s6OHj7ezvMnR",
        "colab": {
          "base_uri": "https://localhost:8080/"
        },
        "outputId": "9fd7693a-d13a-40fa-fa20-95f73ac3a524"
      },
      "source": [
        "from sklearn.preprocessing import MinMaxScaler\n",
        "scaler = MinMaxScaler()\n",
        "X_scaled = scaler.fit_transform(X_train.values.reshape(-1,1))\n",
        "y_scaled = scaler.fit_transform(y_train.values.reshape(-1,1))\n",
        "X_test_scaled = scaler.fit_transform(X_test.values.reshape(-1,1))\n",
        "y_test_scaled = scaler.fit_transform(y_test.values.reshape(-1,1))\n",
        "X_scaled"
      ],
      "execution_count": null,
      "outputs": [
        {
          "output_type": "execute_result",
          "data": {
            "text/plain": [
              "array([[0.53150994],\n",
              "       [0.50119836],\n",
              "       [0.42704074],\n",
              "       ...,\n",
              "       [0.44903426],\n",
              "       [0.54278866],\n",
              "       [0.51952629]])"
            ]
          },
          "metadata": {
            "tags": []
          },
          "execution_count": 471
        }
      ]
    },
    {
      "cell_type": "code",
      "metadata": {
        "id": "qsnd6_y-Jn-r",
        "colab": {
          "base_uri": "https://localhost:8080/"
        },
        "outputId": "ef3cc900-fc19-45ec-9d3c-b482025ad9cd"
      },
      "source": [
        "# split a multivariate sequence into samples\n",
        "def split_sequences(df_x, df_y, n_steps):\n",
        "    X, y = list(), list()\n",
        "    for i in range(len(df_x)):\n",
        "        # find the end of this pattern\n",
        "        end_ix = i + n_steps\n",
        "        # check if we are beyond the dataset\n",
        "        if end_ix > len(df_x)-1:\n",
        "            break\n",
        "        # gather input and output parts of the pattern\n",
        "        seq_x, seq_y = df_x[i:end_ix,:], df_y[end_ix]\n",
        "        X.append(seq_x)\n",
        "        y.append(seq_y)\n",
        "    return np.array(X), np.array(y)\n",
        "\n",
        "train_window = 1\n",
        "X_train_split, y_train_split = split_sequences(X_scaled, y_scaled, train_window)\n",
        "#X_test_split, y_test_split = split_sequences(X_test.values, y_test.values, train_window)\n",
        "print('split x:',len(X_train_split))"
      ],
      "execution_count": null,
      "outputs": [
        {
          "output_type": "stream",
          "text": [
            "split x: 2283\n"
          ],
          "name": "stdout"
        }
      ]
    },
    {
      "cell_type": "code",
      "metadata": {
        "colab": {
          "base_uri": "https://localhost:8080/"
        },
        "id": "8eEb8ncHtq8x",
        "outputId": "c784e286-ae8c-4d43-f4d2-03655c431cb3"
      },
      "source": [
        "X_train_split[:2]"
      ],
      "execution_count": null,
      "outputs": [
        {
          "output_type": "execute_result",
          "data": {
            "text/plain": [
              "array([[[0.53150994]],\n",
              "\n",
              "       [[0.50119836]]])"
            ]
          },
          "metadata": {
            "tags": []
          },
          "execution_count": 438
        }
      ]
    },
    {
      "cell_type": "code",
      "metadata": {
        "colab": {
          "base_uri": "https://localhost:8080/"
        },
        "id": "ilTeyMrqtuSI",
        "outputId": "47b71e55-e915-4314-b56e-ebec5ced76ad"
      },
      "source": [
        "y_train_split[:2]"
      ],
      "execution_count": null,
      "outputs": [
        {
          "output_type": "execute_result",
          "data": {
            "text/plain": [
              "array([[0.50119836],\n",
              "       [0.42704074]])"
            ]
          },
          "metadata": {
            "tags": []
          },
          "execution_count": 439
        }
      ]
    },
    {
      "cell_type": "markdown",
      "metadata": {
        "id": "E0BOrIcDUZtv"
      },
      "source": [
        "## pytorch"
      ]
    },
    {
      "cell_type": "code",
      "metadata": {
        "id": "yIOErHv0Ua7H",
        "colab": {
          "base_uri": "https://localhost:8080/"
        },
        "outputId": "d8238f5d-9dec-4c8a-d4a5-1d4da46981b2"
      },
      "source": [
        "import torch\n",
        "import torch.nn as nn\n",
        "from torch.utils.data import Dataset, DataLoader\n",
        "from tqdm.notebook import tqdm\n",
        "torch.manual_seed(0)"
      ],
      "execution_count": null,
      "outputs": [
        {
          "output_type": "execute_result",
          "data": {
            "text/plain": [
              "<torch._C.Generator at 0x7fb7b3a5d8b0>"
            ]
          },
          "metadata": {
            "tags": []
          },
          "execution_count": 440
        }
      ]
    },
    {
      "cell_type": "code",
      "metadata": {
        "colab": {
          "base_uri": "https://localhost:8080/"
        },
        "id": "OLRpRWrYJP8D",
        "outputId": "a2fdea6a-8017-42f4-f4f3-4ffae3d34625"
      },
      "source": [
        "if torch.cuda.is_available():\n",
        "  device = torch.device('cuda:0')\n",
        "  print('GPU is avalible')\n",
        "  print('Working on ',torch.cuda.get_device_name())\n",
        "else:\n",
        "  device = torch.device('cpu')\n",
        "  print('GPU is not avalible')"
      ],
      "execution_count": null,
      "outputs": [
        {
          "output_type": "stream",
          "text": [
            "GPU is avalible\n",
            "Working on  Tesla K80\n"
          ],
          "name": "stdout"
        }
      ]
    },
    {
      "cell_type": "code",
      "metadata": {
        "id": "fFY_6uttA18g"
      },
      "source": [
        "class Data(Dataset):\n",
        "    # Constructor\n",
        "    def __init__(self, X, y):\n",
        "        self.x = torch.from_numpy(X).float()\n",
        "        self.y = torch.from_numpy(y).unsqueeze(1).float()\n",
        "        self.len = len(X)\n",
        "            \n",
        "    # Getter\n",
        "    def __getitem__(self, index):\n",
        "        return self.x[index], self.y[index]\n",
        "    \n",
        "    # Get Length\n",
        "    def __len__(self):\n",
        "        return self.len\n",
        "        \n",
        "train_data = Data(X_train_split, y_train_split)"
      ],
      "execution_count": null,
      "outputs": []
    },
    {
      "cell_type": "code",
      "metadata": {
        "id": "yf8JRft6GgG7"
      },
      "source": [
        "class LSTM(nn.Module):\n",
        "    def __init__(self ,input_size, hidden_size, num_layers, batchsize, device, out_dim):\n",
        "        super(LSTM, self).__init__()\n",
        "\n",
        "        self.input_size = input_size\n",
        "        self.hidden_size = hidden_size\n",
        "        self.num_layers = num_layers\n",
        "\n",
        "        self.lstm = nn.LSTM(input_size = self.input_size, \n",
        "                        hidden_size = self.hidden_size,\n",
        "                        num_layers = self.num_layers, \n",
        "                        batch_first = True)\n",
        "\n",
        "        self.fc = nn.Linear(self.hidden_size, out_dim)\n",
        "        \n",
        "        self.hidden_cell = (torch.zeros(self.num_layers,batchsize,self.hidden_size).to(device),\n",
        "                    torch.zeros(self.num_layers,batchsize,self.hidden_size).to(device))\n",
        "    \n",
        "    def forward(self, x):\n",
        "\n",
        "        output, self.hidden_cell = self.lstm(x, self.hidden_cell)   \n",
        "\n",
        "        x = self.fc(output)\n",
        "\n",
        "        x = x[:,-1,:]\n",
        "\n",
        "        x = x.unsqueeze(1)\n",
        "\n",
        "        return x"
      ],
      "execution_count": null,
      "outputs": []
    },
    {
      "cell_type": "code",
      "metadata": {
        "id": "cOuXyN1DFdve"
      },
      "source": [
        "def train(model, train_loader, optimizer, criterion, epochs=20):\n",
        "    train_cost = []\n",
        "    clipping_value = 5\n",
        "    for epoch in tqdm(range(epochs)):\n",
        "        #training===========================================\n",
        "        model.train() # Switch to train mode\n",
        "        correct = 0\n",
        "        training_loss=[]\n",
        "        for x, y in train_loader:\n",
        "            x, y = x.to(device), y.to(device)\n",
        "            optimizer.zero_grad()\n",
        "            #print('bs:',len(x))\n",
        "            model.hidden_cell = (torch.zeros(model.num_layers, len(x), model.hidden_size).to(device),\n",
        "                        torch.zeros(model.num_layers, len(x), model.hidden_size).to(device))\n",
        "            z = model(x)\n",
        "            loss = criterion(z, y)\n",
        "            loss.backward(retain_graph=True)\n",
        "            torch.nn.utils.clip_grad_norm_(model.parameters(), clipping_value)\n",
        "            optimizer.step()\n",
        "            training_loss.append(loss.data.item())  \n",
        "        train_cost.append(np.mean(training_loss))\n",
        "        scheduler.step(np.mean(training_loss))\n",
        "    # print('y',y)\n",
        "    # print('z',z)\n",
        "\n",
        "    return train_cost"
      ],
      "execution_count": null,
      "outputs": []
    },
    {
      "cell_type": "code",
      "metadata": {
        "id": "iAwRSScuMs_a"
      },
      "source": [
        "batch_size = 16\n",
        "train_loader = DataLoader(dataset=train_data, batch_size=batch_size, shuffle=True)\n",
        "\n",
        "model = LSTM(input_size=1, hidden_size=100, num_layers=2, batchsize=batch_size, device=device, out_dim=1)\n",
        "model.to(device)\n",
        "\n",
        "#criterion = torch.nn.MSELoss()\n",
        "criterion = torch.nn.L1Loss() \n",
        "optimizer = torch.optim.Adam(model.parameters(), lr=1e-1)\n",
        "scheduler = torch.optim.lr_scheduler.ReduceLROnPlateau(optimizer, 'min', patience=5, factor=0.6)"
      ],
      "execution_count": null,
      "outputs": []
    },
    {
      "cell_type": "code",
      "metadata": {
        "colab": {
          "base_uri": "https://localhost:8080/"
        },
        "id": "9C6AKWUaloiN",
        "outputId": "3f1018ee-59c4-42d5-8316-e46de2235c9c"
      },
      "source": [
        "model"
      ],
      "execution_count": null,
      "outputs": [
        {
          "output_type": "execute_result",
          "data": {
            "text/plain": [
              "LSTM(\n",
              "  (lstm): LSTM(1, 100, num_layers=2, batch_first=True)\n",
              "  (fc): Linear(in_features=100, out_features=1, bias=True)\n",
              ")"
            ]
          },
          "metadata": {
            "tags": []
          },
          "execution_count": 446
        }
      ]
    },
    {
      "cell_type": "code",
      "metadata": {
        "id": "0yHVKtWcPUZo"
      },
      "source": [
        "# for x, y in train_loader:\n",
        "#     x, y = x.to(device), y.to(device)\n",
        "#     optimizer.zero_grad()\n",
        "#     model.hidden_cell = (torch.zeros(model.num_layers, len(x), model.hidden_size).to(device),\n",
        "#             torch.zeros(model.num_layers, len(x), model.hidden_size).to(device))\n",
        "#     z = model(x)\n",
        "#     print('='*10)\n",
        "#     print('x',x.shape)\n",
        "#     print('y',y.shape)\n",
        "#     print('z',z.shape)\n",
        "#     break"
      ],
      "execution_count": null,
      "outputs": []
    },
    {
      "cell_type": "code",
      "metadata": {
        "colab": {
          "base_uri": "https://localhost:8080/",
          "height": 66,
          "referenced_widgets": [
            "40e1fc90a749478bbaa0849b8cfb5411",
            "8071d2f3777d4ab1bd926c5c8b547624",
            "3031cff928384aebb162efef5e522a7b",
            "909f2a8dc56b43d7a16e30983dc18fb5",
            "cac61142d08844778d5028c7de004b8b",
            "f0f593043fa649bea3e8daeeea97e1ee",
            "4564eb73ca524d859672c2068eea3ba0",
            "425bc07cdf8f4f42a1186c2738e568b3"
          ]
        },
        "id": "uwoiOyvxSMZf",
        "outputId": "07d62b2b-b9bd-45de-c6a7-937a5fa4b7fe"
      },
      "source": [
        "train_cost = train(model=model, train_loader=train_loader, optimizer=optimizer, criterion=criterion,epochs=100)"
      ],
      "execution_count": null,
      "outputs": [
        {
          "output_type": "display_data",
          "data": {
            "application/vnd.jupyter.widget-view+json": {
              "model_id": "40e1fc90a749478bbaa0849b8cfb5411",
              "version_minor": 0,
              "version_major": 2
            },
            "text/plain": [
              "HBox(children=(FloatProgress(value=0.0), HTML(value='')))"
            ]
          },
          "metadata": {
            "tags": []
          }
        },
        {
          "output_type": "stream",
          "text": [
            "\n"
          ],
          "name": "stdout"
        }
      ]
    },
    {
      "cell_type": "code",
      "metadata": {
        "colab": {
          "base_uri": "https://localhost:8080/",
          "height": 513
        },
        "id": "DKStap4BswCx",
        "outputId": "d1a5624b-61fe-454d-a327-50b037bd064f"
      },
      "source": [
        "plt.plot(train_cost, label = 'train')\n",
        "plt.ylabel('MAE loss')\n",
        "plt.xlabel('epochs')\n",
        "#axes = plt.gca()\n",
        "#axes.set_ylim([0,1])\n",
        "plt.legend()\n",
        "plt.title('bs=16, train_window = 1, shuffle=True')\n",
        "plt.grid()\n",
        "plt.show()"
      ],
      "execution_count": null,
      "outputs": [
        {
          "output_type": "display_data",
          "data": {
            "image/png": "[encoded data removed]",
            "text/plain": [
              "<Figure size 864x576 with 1 Axes>"
            ]
          },
          "metadata": {
            "tags": [],
            "needs_background": "light"
          }
        }
      ]
    },
    {
      "cell_type": "code",
      "metadata": {
        "colab": {
          "base_uri": "https://localhost:8080/",
          "height": 513
        },
        "id": "VRtSEVVMsQEl",
        "outputId": "406b4e78-0276-4f28-e923-eccfea4d7b3c"
      },
      "source": [
        "plt.plot(train_cost, label = 'train')\n",
        "plt.ylabel('MAE loss')\n",
        "plt.xlabel('epochs')\n",
        "#axes = plt.gca()\n",
        "#axes.set_ylim([0,1])\n",
        "plt.legend()\n",
        "plt.title('bs=16, train_window = 2, shuffle=True')\n",
        "plt.grid()\n",
        "plt.show()"
      ],
      "execution_count": null,
      "outputs": [
        {
          "output_type": "display_data",
          "data": {
            "image/png": "[encoded data removed]",
            "text/plain": [
              "<Figure size 864x576 with 1 Axes>"
            ]
          },
          "metadata": {
            "tags": [],
            "needs_background": "light"
          }
        }
      ]
    },
    {
      "cell_type": "code",
      "metadata": {
        "colab": {
          "base_uri": "https://localhost:8080/",
          "height": 513
        },
        "id": "EEAA7jDzrILs",
        "outputId": "2601b3e0-d12b-4c17-9622-97cc7a6de6dd"
      },
      "source": [
        "plt.plot(train_cost, label = 'train')\n",
        "plt.ylabel('MAE loss')\n",
        "plt.xlabel('epochs')\n",
        "#axes = plt.gca()\n",
        "#axes.set_ylim([0,1])\n",
        "plt.legend()\n",
        "plt.title('bs=16, train_window = 3, shuffle=True')\n",
        "plt.grid()\n",
        "plt.show()"
      ],
      "execution_count": null,
      "outputs": [
        {
          "output_type": "display_data",
          "data": {
            "image/png": "[encoded data removed]",
            "text/plain": [
              "<Figure size 864x576 with 1 Axes>"
            ]
          },
          "metadata": {
            "tags": [],
            "needs_background": "light"
          }
        }
      ]
    },
    {
      "cell_type": "code",
      "metadata": {
        "colab": {
          "base_uri": "https://localhost:8080/",
          "height": 513
        },
        "id": "AMNaCksbqNp0",
        "outputId": "c30bad85-0e7e-4f70-e38c-9b70a9f4135e"
      },
      "source": [
        "plt.plot(train_cost, label = 'train')\n",
        "plt.ylabel('MAE loss')\n",
        "plt.xlabel('epochs')\n",
        "#axes = plt.gca()\n",
        "#axes.set_ylim([0,1])\n",
        "plt.legend()\n",
        "plt.title('bs=16, train_window = 7, shuffle=True')\n",
        "plt.grid()\n",
        "plt.show()"
      ],
      "execution_count": null,
      "outputs": [
        {
          "output_type": "display_data",
          "data": {
            "image/png": "[encoded data removed]",
            "text/plain": [
              "<Figure size 864x576 with 1 Axes>"
            ]
          },
          "metadata": {
            "tags": [],
            "needs_background": "light"
          }
        }
      ]
    },
    {
      "cell_type": "code",
      "metadata": {
        "colab": {
          "base_uri": "https://localhost:8080/",
          "height": 513
        },
        "id": "mu10YVMjpYe6",
        "outputId": "1b698381-d358-4e4e-8035-a61f289249de"
      },
      "source": [
        "plt.plot(train_cost, label = 'train')\n",
        "plt.ylabel('MAE loss')\n",
        "plt.xlabel('epochs')\n",
        "#axes = plt.gca()\n",
        "#axes.set_ylim([0,1])\n",
        "plt.legend()\n",
        "plt.title('bs=16, train_window = 5, shuffle=True, (-1,1)')\n",
        "plt.grid()\n",
        "plt.show()"
      ],
      "execution_count": null,
      "outputs": [
        {
          "output_type": "display_data",
          "data": {
            "image/png": "[encoded data removed]",
            "text/plain": [
              "<Figure size 864x576 with 1 Axes>"
            ]
          },
          "metadata": {
            "tags": [],
            "needs_background": "light"
          }
        }
      ]
    },
    {
      "cell_type": "code",
      "metadata": {
        "colab": {
          "base_uri": "https://localhost:8080/",
          "height": 513
        },
        "id": "Ce73wvM4odc7",
        "outputId": "44d64782-b37f-4267-aada-31298dcd6596"
      },
      "source": [
        "plt.plot(train_cost, label = 'train')\n",
        "plt.ylabel('MAE loss')\n",
        "plt.xlabel('epochs')\n",
        "#axes = plt.gca()\n",
        "#axes.set_ylim([0,1])\n",
        "plt.legend()\n",
        "plt.title('bs=16, train_window = 5, shuffle=True')\n",
        "plt.grid()\n",
        "plt.show()"
      ],
      "execution_count": null,
      "outputs": [
        {
          "output_type": "display_data",
          "data": {
            "image/png": "[encoded data removed]",
            "text/plain": [
              "<Figure size 864x576 with 1 Axes>"
            ]
          },
          "metadata": {
            "tags": [],
            "needs_background": "light"
          }
        }
      ]
    },
    {
      "cell_type": "markdown",
      "metadata": {
        "id": "mJtymFRIBKjn"
      },
      "source": [
        "## eval"
      ]
    },
    {
      "cell_type": "code",
      "metadata": {
        "colab": {
          "base_uri": "https://localhost:8080/"
        },
        "id": "kBXSx9GJBLJg",
        "outputId": "6fd7577b-77e6-4570-fa97-07259faae98d"
      },
      "source": [
        "fut_pred = 7\n",
        "\n",
        "test_inputs = X_train_split[-1].squeeze().tolist()\n",
        "if type(test_inputs) == float:\n",
        "    test_inputs = [test_inputs]\n",
        "test_inputs"
      ],
      "execution_count": null,
      "outputs": [
        {
          "output_type": "execute_result",
          "data": {
            "text/plain": [
              "[0.5427886648808685]"
            ]
          },
          "metadata": {
            "tags": []
          },
          "execution_count": 513
        }
      ]
    },
    {
      "cell_type": "code",
      "metadata": {
        "id": "CGAwIeD0CFfo"
      },
      "source": [
        "model.eval()\n",
        "loss_list = []\n",
        "\n",
        "for i in range(len(X_test)):\n",
        "    seq = torch.FloatTensor(test_inputs[-fut_pred:])\n",
        "    #print(seq.shape)\n",
        "    seq = seq.unsqueeze(0)\n",
        "    #print(seq.shape)\n",
        "    seq = seq.unsqueeze(2)\n",
        "    #print(seq.shape)\n",
        "    seq = seq.to(device)\n",
        "    #print(seq.shape)\n",
        "    #print(len(seq))\n",
        "    #print('='*10)\n",
        "\n",
        "    with torch.no_grad():\n",
        "        model.hidden_cell = (torch.zeros(model.num_layers, len(seq), model.hidden_size).to(device),\n",
        "                        torch.zeros(model.num_layers, len(seq), model.hidden_size).to(device))\n",
        "        test_inputs.append(model(seq).squeeze().tolist())\n",
        "        loss_list.append(criterion(model(seq).squeeze().cpu().detach(), torch.from_numpy(y_test_scaled[i]).squeeze()))"
      ],
      "execution_count": null,
      "outputs": []
    },
    {
      "cell_type": "code",
      "metadata": {
        "colab": {
          "base_uri": "https://localhost:8080/"
        },
        "id": "HiC6C6IrxA2Q",
        "outputId": "b606240c-b9b1-4b8c-942d-8b71115b68cb"
      },
      "source": [
        "print('sum loss:',np.sum(loss_list))\n",
        "print('mean loss:',np.mean(loss_list))"
      ],
      "execution_count": null,
      "outputs": [
        {
          "output_type": "stream",
          "text": [
            "sum loss: 157.48325\n",
            "mean loss: 0.62001276\n"
          ],
          "name": "stdout"
        }
      ]
    },
    {
      "cell_type": "code",
      "metadata": {
        "id": "wP9IN1z8GiYe",
        "colab": {
          "base_uri": "https://localhost:8080/"
        },
        "outputId": "64182caf-9711-4982-d17a-e9a4ef8fbb56"
      },
      "source": [
        "actual_predictions = scaler.inverse_transform(np.array(test_inputs[train_window:]).reshape(-1, 1))\n",
        "#actual_predictions = np.array(test_inputs[train_window:]).reshape(-1, 1)\n",
        "actual_predictions[:5]"
      ],
      "execution_count": null,
      "outputs": [
        {
          "output_type": "execute_result",
          "data": {
            "text/plain": [
              "array([[4124.76551539],\n",
              "       [4262.29872197],\n",
              "       [4432.87712574],\n",
              "       [4637.20117879],\n",
              "       [4867.9172895 ]])"
            ]
          },
          "metadata": {
            "tags": []
          },
          "execution_count": 516
        }
      ]
    },
    {
      "cell_type": "code",
      "metadata": {
        "colab": {
          "base_uri": "https://localhost:8080/"
        },
        "id": "_pkpjDx3zDqO",
        "outputId": "2ab5ae29-bfd2-466b-ee23-0423f417b67b"
      },
      "source": [
        "torch.from_numpy(actual_predictions)[:10]"
      ],
      "execution_count": null,
      "outputs": [
        {
          "output_type": "execute_result",
          "data": {
            "text/plain": [
              "tensor([[4124.7655],\n",
              "        [4262.2987],\n",
              "        [4432.8771],\n",
              "        [4637.2012],\n",
              "        [4867.9173],\n",
              "        [5093.7656],\n",
              "        [5278.0713],\n",
              "        [5408.8201],\n",
              "        [5495.8254],\n",
              "        [5549.8589]], dtype=torch.float64)"
            ]
          },
          "metadata": {
            "tags": []
          },
          "execution_count": 535
        }
      ]
    },
    {
      "cell_type": "code",
      "metadata": {
        "colab": {
          "base_uri": "https://localhost:8080/"
        },
        "id": "ZsS4G7dRyxjF",
        "outputId": "24acd7eb-04f4-4c76-8576-fb635c2bdfea"
      },
      "source": [
        "torch.from_numpy(y_test.values).unsqueeze(1)[:10]"
      ],
      "execution_count": null,
      "outputs": [
        {
          "output_type": "execute_result",
          "data": {
            "text/plain": [
              "tensor([[4054.],\n",
              "        [4037.],\n",
              "        [3364.],\n",
              "        [3678.],\n",
              "        [4650.],\n",
              "        [3179.],\n",
              "        [2809.],\n",
              "        [3328.],\n",
              "        [3563.],\n",
              "        [3497.]], dtype=torch.float64)"
            ]
          },
          "metadata": {
            "tags": []
          },
          "execution_count": 534
        }
      ]
    },
    {
      "cell_type": "code",
      "metadata": {
        "colab": {
          "base_uri": "https://localhost:8080/"
        },
        "id": "Ei1dctA8yqH6",
        "outputId": "fc3af581-818a-48d6-f0fb-58bbdf96e309"
      },
      "source": [
        "criterion(torch.from_numpy(actual_predictions), torch.from_numpy(y_test.values).unsqueeze(1))"
      ],
      "execution_count": null,
      "outputs": [
        {
          "output_type": "execute_result",
          "data": {
            "text/plain": [
              "tensor(1697.4073, dtype=torch.float64)"
            ]
          },
          "metadata": {
            "tags": []
          },
          "execution_count": 533
        }
      ]
    },
    {
      "cell_type": "code",
      "metadata": {
        "id": "xm0h795JHgr6"
      },
      "source": [
        "x = np.arange(len(data)-len(X_test), len(data), 1)"
      ],
      "execution_count": null,
      "outputs": []
    },
    {
      "cell_type": "code",
      "metadata": {
        "colab": {
          "base_uri": "https://localhost:8080/",
          "height": 513
        },
        "id": "TSzWvhRu3XiZ",
        "outputId": "7c654ae6-898a-4d29-b9bc-03aaa085d264"
      },
      "source": [
        "plt.grid(True)\n",
        "plt.title('Operating Reserve(MW)')\n",
        "plt.plot(data, label='ground truth')\n",
        "plt.plot(x,actual_predictions, label='predict')\n",
        "plt.xlabel('time step')\n",
        "plt.ylabel('MW')\n",
        "plt.show()"
      ],
      "execution_count": null,
      "outputs": [
        {
          "output_type": "display_data",
          "data": {
            "image/png": "[encoded data removed]",
            "text/plain": [
              "<Figure size 864x576 with 1 Axes>"
            ]
          },
          "metadata": {
            "tags": [],
            "needs_background": "light"
          }
        }
      ]
    },
    {
      "cell_type": "code",
      "metadata": {
        "colab": {
          "base_uri": "https://localhost:8080/",
          "height": 513
        },
        "id": "6L6loaN-3co6",
        "outputId": "75d1501a-d8db-4eb1-dfe7-1b0ebb75adbd"
      },
      "source": [
        "plt.grid(True)\n",
        "plt.title('Operating Reserve(MW) Zoom in')\n",
        "plt.plot(data[-len(X_test):], label='ground truth')\n",
        "plt.plot(x,actual_predictions, label='predicct')\n",
        "plt.xlabel('time step')\n",
        "plt.ylabel('MW')\n",
        "plt.legend()\n",
        "plt.show()"
      ],
      "execution_count": null,
      "outputs": [
        {
          "output_type": "display_data",
          "data": {
            "image/png": "[encoded data removed]",
            "text/plain": [
              "<Figure size 864x576 with 1 Axes>"
            ]
          },
          "metadata": {
            "tags": [],
            "needs_background": "light"
          }
        }
      ]
    },
    {
      "cell_type": "code",
      "metadata": {
        "id": "nDtkeTCMIsxc"
      },
      "source": [
        ""
      ],
      "execution_count": null,
      "outputs": []
    }
  ]
}