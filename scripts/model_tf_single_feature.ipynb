{
  "nbformat": 4,
  "nbformat_minor": 0,
  "metadata": {
    "colab": {
      "name": "model-tf-single_feature.ipynb",
      "provenance": [],
      "collapsed_sections": []
    },
    "kernelspec": {
      "name": "python3",
      "display_name": "Python 3"
    },
    "widgets": {
      "application/vnd.jupyter.widget-state+json": {
        "e36a2032bf20442e97c410c36e1d82b7": {
          "model_module": "@jupyter-widgets/controls",
          "model_name": "HBoxModel",
          "state": {
            "_view_name": "HBoxView",
            "_dom_classes": [],
            "_model_name": "HBoxModel",
            "_view_module": "@jupyter-widgets/controls",
            "_model_module_version": "1.5.0",
            "_view_count": null,
            "_view_module_version": "1.5.0",
            "box_style": "",
            "layout": "IPY_MODEL_687a4696bffe43b29e3a311ad1dafc49",
            "_model_module": "@jupyter-widgets/controls",
            "children": [
              "IPY_MODEL_2e802c456242409fae29eb5d0013d6a0",
              "IPY_MODEL_58bab57613724f1b89fc730c2128e478"
            ]
          }
        },
        "687a4696bffe43b29e3a311ad1dafc49": {
          "model_module": "@jupyter-widgets/base",
          "model_name": "LayoutModel",
          "state": {
            "_view_name": "LayoutView",
            "grid_template_rows": null,
            "right": null,
            "justify_content": null,
            "_view_module": "@jupyter-widgets/base",
            "overflow": null,
            "_model_module_version": "1.2.0",
            "_view_count": null,
            "flex_flow": null,
            "width": null,
            "min_width": null,
            "border": null,
            "align_items": null,
            "bottom": null,
            "_model_module": "@jupyter-widgets/base",
            "top": null,
            "grid_column": null,
            "overflow_y": null,
            "overflow_x": null,
            "grid_auto_flow": null,
            "grid_area": null,
            "grid_template_columns": null,
            "flex": null,
            "_model_name": "LayoutModel",
            "justify_items": null,
            "grid_row": null,
            "max_height": null,
            "align_content": null,
            "visibility": null,
            "align_self": null,
            "height": null,
            "min_height": null,
            "padding": null,
            "grid_auto_rows": null,
            "grid_gap": null,
            "max_width": null,
            "order": null,
            "_view_module_version": "1.2.0",
            "grid_template_areas": null,
            "object_position": null,
            "object_fit": null,
            "grid_auto_columns": null,
            "margin": null,
            "display": null,
            "left": null
          }
        },
        "2e802c456242409fae29eb5d0013d6a0": {
          "model_module": "@jupyter-widgets/controls",
          "model_name": "FloatProgressModel",
          "state": {
            "_view_name": "ProgressView",
            "style": "IPY_MODEL_afa9eb2d7d6b4d698f78d8462e2b396c",
            "_dom_classes": [],
            "description": "100%",
            "_model_name": "FloatProgressModel",
            "bar_style": "success",
            "max": 400,
            "_view_module": "@jupyter-widgets/controls",
            "_model_module_version": "1.5.0",
            "value": 400,
            "_view_count": null,
            "_view_module_version": "1.5.0",
            "orientation": "horizontal",
            "min": 0,
            "description_tooltip": null,
            "_model_module": "@jupyter-widgets/controls",
            "layout": "IPY_MODEL_d1da5fefe4a04556b2f4f4c65f90565e"
          }
        },
        "58bab57613724f1b89fc730c2128e478": {
          "model_module": "@jupyter-widgets/controls",
          "model_name": "HTMLModel",
          "state": {
            "_view_name": "HTMLView",
            "style": "IPY_MODEL_3113bba0a8594551bac5fa4031a812b8",
            "_dom_classes": [],
            "description": "",
            "_model_name": "HTMLModel",
            "placeholder": "​",
            "_view_module": "@jupyter-widgets/controls",
            "_model_module_version": "1.5.0",
            "value": " 400/400 [01:43&lt;00:00,  3.86it/s]",
            "_view_count": null,
            "_view_module_version": "1.5.0",
            "description_tooltip": null,
            "_model_module": "@jupyter-widgets/controls",
            "layout": "IPY_MODEL_b1c23d335ea644a58b9a275927f33be2"
          }
        },
        "afa9eb2d7d6b4d698f78d8462e2b396c": {
          "model_module": "@jupyter-widgets/controls",
          "model_name": "ProgressStyleModel",
          "state": {
            "_view_name": "StyleView",
            "_model_name": "ProgressStyleModel",
            "description_width": "initial",
            "_view_module": "@jupyter-widgets/base",
            "_model_module_version": "1.5.0",
            "_view_count": null,
            "_view_module_version": "1.2.0",
            "bar_color": null,
            "_model_module": "@jupyter-widgets/controls"
          }
        },
        "d1da5fefe4a04556b2f4f4c65f90565e": {
          "model_module": "@jupyter-widgets/base",
          "model_name": "LayoutModel",
          "state": {
            "_view_name": "LayoutView",
            "grid_template_rows": null,
            "right": null,
            "justify_content": null,
            "_view_module": "@jupyter-widgets/base",
            "overflow": null,
            "_model_module_version": "1.2.0",
            "_view_count": null,
            "flex_flow": null,
            "width": null,
            "min_width": null,
            "border": null,
            "align_items": null,
            "bottom": null,
            "_model_module": "@jupyter-widgets/base",
            "top": null,
            "grid_column": null,
            "overflow_y": null,
            "overflow_x": null,
            "grid_auto_flow": null,
            "grid_area": null,
            "grid_template_columns": null,
            "flex": null,
            "_model_name": "LayoutModel",
            "justify_items": null,
            "grid_row": null,
            "max_height": null,
            "align_content": null,
            "visibility": null,
            "align_self": null,
            "height": null,
            "min_height": null,
            "padding": null,
            "grid_auto_rows": null,
            "grid_gap": null,
            "max_width": null,
            "order": null,
            "_view_module_version": "1.2.0",
            "grid_template_areas": null,
            "object_position": null,
            "object_fit": null,
            "grid_auto_columns": null,
            "margin": null,
            "display": null,
            "left": null
          }
        },
        "3113bba0a8594551bac5fa4031a812b8": {
          "model_module": "@jupyter-widgets/controls",
          "model_name": "DescriptionStyleModel",
          "state": {
            "_view_name": "StyleView",
            "_model_name": "DescriptionStyleModel",
            "description_width": "",
            "_view_module": "@jupyter-widgets/base",
            "_model_module_version": "1.5.0",
            "_view_count": null,
            "_view_module_version": "1.2.0",
            "_model_module": "@jupyter-widgets/controls"
          }
        },
        "b1c23d335ea644a58b9a275927f33be2": {
          "model_module": "@jupyter-widgets/base",
          "model_name": "LayoutModel",
          "state": {
            "_view_name": "LayoutView",
            "grid_template_rows": null,
            "right": null,
            "justify_content": null,
            "_view_module": "@jupyter-widgets/base",
            "overflow": null,
            "_model_module_version": "1.2.0",
            "_view_count": null,
            "flex_flow": null,
            "width": null,
            "min_width": null,
            "border": null,
            "align_items": null,
            "bottom": null,
            "_model_module": "@jupyter-widgets/base",
            "top": null,
            "grid_column": null,
            "overflow_y": null,
            "overflow_x": null,
            "grid_auto_flow": null,
            "grid_area": null,
            "grid_template_columns": null,
            "flex": null,
            "_model_name": "LayoutModel",
            "justify_items": null,
            "grid_row": null,
            "max_height": null,
            "align_content": null,
            "visibility": null,
            "align_self": null,
            "height": null,
            "min_height": null,
            "padding": null,
            "grid_auto_rows": null,
            "grid_gap": null,
            "max_width": null,
            "order": null,
            "_view_module_version": "1.2.0",
            "grid_template_areas": null,
            "object_position": null,
            "object_fit": null,
            "grid_auto_columns": null,
            "margin": null,
            "display": null,
            "left": null
          }
        }
      }
    },
    "accelerator": "GPU"
  },
  "cells": [
    {
      "cell_type": "markdown",
      "metadata": {
        "id": "v_tPBwgsldSn"
      },
      "source": [
        "## Preprocessing Data"
      ]
    },
    {
      "cell_type": "code",
      "metadata": {
        "id": "YFIOsHTEIuUl"
      },
      "source": [
        "import pandas as pd\n",
        "import numpy as np\n",
        "import matplotlib.pyplot as plt"
      ],
      "execution_count": null,
      "outputs": []
    },
    {
      "cell_type": "code",
      "metadata": {
        "id": "3f9F1_SKiWgf"
      },
      "source": [
        "#plt.rcParams[\"figure.figsize\"]=[6,4]\n",
        "plt.rcParams[\"figure.figsize\"] = (12,8)"
      ],
      "execution_count": null,
      "outputs": []
    },
    {
      "cell_type": "code",
      "metadata": {
        "colab": {
          "base_uri": "https://localhost:8080/",
          "height": 489
        },
        "id": "WpaUdmXPJGWR",
        "outputId": "bdecebad-8e7e-48d4-93e1-60140c4590a5"
      },
      "source": [
        "df = pd.read_csv('/content/drive/MyDrive/Project_data/NCKU_DSAI/HW1/export.csv',encoding='utf-8')\n",
        "df"
      ],
      "execution_count": null,
      "outputs": [
        {
          "output_type": "execute_result",
          "data": {
            "text/html": [
              "<div>\n",
              "<style scoped>\n",
              "    .dataframe tbody tr th:only-of-type {\n",
              "        vertical-align: middle;\n",
              "    }\n",
              "\n",
              "    .dataframe tbody tr th {\n",
              "        vertical-align: top;\n",
              "    }\n",
              "\n",
              "    .dataframe thead th {\n",
              "        text-align: right;\n",
              "    }\n",
              "</style>\n",
              "<table border=\"1\" class=\"dataframe\">\n",
              "  <thead>\n",
              "    <tr style=\"text-align: right;\">\n",
              "      <th></th>\n",
              "      <th>日期</th>\n",
              "      <th>淨尖峰供電能力(MW)</th>\n",
              "      <th>尖峰負載(MW)</th>\n",
              "      <th>備轉容量(MW)</th>\n",
              "      <th>備轉容量率(%)</th>\n",
              "      <th>工業用電(百萬度)</th>\n",
              "      <th>民生用電(百萬度)</th>\n",
              "      <th>核一#1(萬瓩)</th>\n",
              "      <th>核一#2(萬瓩)</th>\n",
              "      <th>核二#1(萬瓩)</th>\n",
              "      <th>核二#2(萬瓩)</th>\n",
              "      <th>核三#1</th>\n",
              "      <th>核三#2</th>\n",
              "      <th>林口#1</th>\n",
              "      <th>林口#2</th>\n",
              "      <th>林口#3</th>\n",
              "      <th>台中#1</th>\n",
              "      <th>台中#2</th>\n",
              "      <th>台中#3</th>\n",
              "      <th>台中#4</th>\n",
              "      <th>台中#5</th>\n",
              "      <th>台中#6</th>\n",
              "      <th>台中#7</th>\n",
              "      <th>台中#8</th>\n",
              "      <th>台中#9</th>\n",
              "      <th>台中#10</th>\n",
              "      <th>興達#1</th>\n",
              "      <th>興達#2</th>\n",
              "      <th>興達#3</th>\n",
              "      <th>興達#4</th>\n",
              "      <th>大林#1</th>\n",
              "      <th>大林#2</th>\n",
              "      <th>和平#1</th>\n",
              "      <th>和平#2</th>\n",
              "      <th>麥寮#1</th>\n",
              "      <th>麥寮#2</th>\n",
              "      <th>麥寮#3</th>\n",
              "      <th>汽電共生</th>\n",
              "      <th>大潭 (#1-#6)</th>\n",
              "      <th>通霄 (#1-#6)</th>\n",
              "      <th>興達 (#1-#5)</th>\n",
              "      <th>南部 (#1-#4)</th>\n",
              "      <th>大林(#5-#6)</th>\n",
              "      <th>海湖 (#1-#2)</th>\n",
              "      <th>國光 #1</th>\n",
              "      <th>新桃#1</th>\n",
              "      <th>星彰#1</th>\n",
              "      <th>星元#1</th>\n",
              "      <th>嘉惠#1</th>\n",
              "      <th>豐德(#1-#2)</th>\n",
              "      <th>協和 (#1-#4)</th>\n",
              "      <th>氣渦輪</th>\n",
              "      <th>離島</th>\n",
              "      <th>德基</th>\n",
              "      <th>青山</th>\n",
              "      <th>谷關</th>\n",
              "      <th>天輪</th>\n",
              "      <th>馬鞍</th>\n",
              "      <th>萬大</th>\n",
              "      <th>大觀</th>\n",
              "      <th>鉅工</th>\n",
              "      <th>大觀二</th>\n",
              "      <th>明潭</th>\n",
              "      <th>碧海</th>\n",
              "      <th>立霧</th>\n",
              "      <th>龍澗</th>\n",
              "      <th>卓蘭</th>\n",
              "      <th>水里</th>\n",
              "      <th>其他小水力</th>\n",
              "      <th>風力發電</th>\n",
              "      <th>太陽能發電</th>\n",
              "    </tr>\n",
              "  </thead>\n",
              "  <tbody>\n",
              "    <tr>\n",
              "      <th>0</th>\n",
              "      <td>20190101</td>\n",
              "      <td>26429</td>\n",
              "      <td>23872</td>\n",
              "      <td>2557.0</td>\n",
              "      <td>10.71</td>\n",
              "      <td>279.870</td>\n",
              "      <td>192.192</td>\n",
              "      <td>0</td>\n",
              "      <td>0</td>\n",
              "      <td>98.4</td>\n",
              "      <td>98.3</td>\n",
              "      <td>94.3</td>\n",
              "      <td>0.0</td>\n",
              "      <td>76.0</td>\n",
              "      <td>76.1</td>\n",
              "      <td>NaN</td>\n",
              "      <td>52.5</td>\n",
              "      <td>0.0</td>\n",
              "      <td>0.0</td>\n",
              "      <td>52.1</td>\n",
              "      <td>52.5</td>\n",
              "      <td>52.2</td>\n",
              "      <td>51.9</td>\n",
              "      <td>0.0</td>\n",
              "      <td>47.3</td>\n",
              "      <td>0.0</td>\n",
              "      <td>28.1</td>\n",
              "      <td>28.1</td>\n",
              "      <td>38.4</td>\n",
              "      <td>52.5</td>\n",
              "      <td>75.6</td>\n",
              "      <td>76.4</td>\n",
              "      <td>56.3</td>\n",
              "      <td>56.5</td>\n",
              "      <td>56.8</td>\n",
              "      <td>0.0</td>\n",
              "      <td>52.3</td>\n",
              "      <td>39.7</td>\n",
              "      <td>217.2</td>\n",
              "      <td>128.8</td>\n",
              "      <td>79.9</td>\n",
              "      <td>104.9</td>\n",
              "      <td>74.9</td>\n",
              "      <td>45.9</td>\n",
              "      <td>0.0</td>\n",
              "      <td>0.0</td>\n",
              "      <td>53.7</td>\n",
              "      <td>56.9</td>\n",
              "      <td>0.0</td>\n",
              "      <td>105.0</td>\n",
              "      <td>13.3</td>\n",
              "      <td>0.0</td>\n",
              "      <td>10.9</td>\n",
              "      <td>0.0</td>\n",
              "      <td>2.7</td>\n",
              "      <td>2.5</td>\n",
              "      <td>2.2</td>\n",
              "      <td>1.2</td>\n",
              "      <td>0.9</td>\n",
              "      <td>0.0</td>\n",
              "      <td>0.1</td>\n",
              "      <td>16.0</td>\n",
              "      <td>54.0</td>\n",
              "      <td>0.0</td>\n",
              "      <td>1.2</td>\n",
              "      <td>3.0</td>\n",
              "      <td>2.2</td>\n",
              "      <td>0.0</td>\n",
              "      <td>24.3</td>\n",
              "      <td>50.9</td>\n",
              "      <td>0.0</td>\n",
              "    </tr>\n",
              "    <tr>\n",
              "      <th>1</th>\n",
              "      <td>20190102</td>\n",
              "      <td>30047</td>\n",
              "      <td>28148</td>\n",
              "      <td>1899.0</td>\n",
              "      <td>6.75</td>\n",
              "      <td>323.080</td>\n",
              "      <td>221.864</td>\n",
              "      <td>0</td>\n",
              "      <td>0</td>\n",
              "      <td>98.5</td>\n",
              "      <td>98.6</td>\n",
              "      <td>94.3</td>\n",
              "      <td>0.0</td>\n",
              "      <td>76.0</td>\n",
              "      <td>76.0</td>\n",
              "      <td>NaN</td>\n",
              "      <td>53.3</td>\n",
              "      <td>0.0</td>\n",
              "      <td>0.0</td>\n",
              "      <td>52.1</td>\n",
              "      <td>52.7</td>\n",
              "      <td>52.3</td>\n",
              "      <td>51.9</td>\n",
              "      <td>0.0</td>\n",
              "      <td>0.0</td>\n",
              "      <td>0.0</td>\n",
              "      <td>33.1</td>\n",
              "      <td>33.0</td>\n",
              "      <td>42.2</td>\n",
              "      <td>52.6</td>\n",
              "      <td>75.6</td>\n",
              "      <td>76.4</td>\n",
              "      <td>60.0</td>\n",
              "      <td>60.3</td>\n",
              "      <td>56.8</td>\n",
              "      <td>0.0</td>\n",
              "      <td>57.1</td>\n",
              "      <td>104.4</td>\n",
              "      <td>243.0</td>\n",
              "      <td>135.8</td>\n",
              "      <td>151.1</td>\n",
              "      <td>101.9</td>\n",
              "      <td>91.7</td>\n",
              "      <td>92.0</td>\n",
              "      <td>49.5</td>\n",
              "      <td>60.1</td>\n",
              "      <td>53.3</td>\n",
              "      <td>56.5</td>\n",
              "      <td>66.5</td>\n",
              "      <td>102.4</td>\n",
              "      <td>41.1</td>\n",
              "      <td>0.0</td>\n",
              "      <td>11.0</td>\n",
              "      <td>3.4</td>\n",
              "      <td>3.2</td>\n",
              "      <td>2.5</td>\n",
              "      <td>2.2</td>\n",
              "      <td>1.2</td>\n",
              "      <td>1.0</td>\n",
              "      <td>0.0</td>\n",
              "      <td>0.0</td>\n",
              "      <td>29.9</td>\n",
              "      <td>52.3</td>\n",
              "      <td>0.0</td>\n",
              "      <td>1.2</td>\n",
              "      <td>2.0</td>\n",
              "      <td>2.1</td>\n",
              "      <td>0.0</td>\n",
              "      <td>23.4</td>\n",
              "      <td>37.9</td>\n",
              "      <td>0.0</td>\n",
              "    </tr>\n",
              "    <tr>\n",
              "      <th>2</th>\n",
              "      <td>20190103</td>\n",
              "      <td>30343</td>\n",
              "      <td>28452</td>\n",
              "      <td>1891.0</td>\n",
              "      <td>6.65</td>\n",
              "      <td>336.597</td>\n",
              "      <td>231.146</td>\n",
              "      <td>0</td>\n",
              "      <td>0</td>\n",
              "      <td>98.7</td>\n",
              "      <td>98.6</td>\n",
              "      <td>94.1</td>\n",
              "      <td>0.0</td>\n",
              "      <td>75.9</td>\n",
              "      <td>75.9</td>\n",
              "      <td>NaN</td>\n",
              "      <td>53.3</td>\n",
              "      <td>0.0</td>\n",
              "      <td>0.0</td>\n",
              "      <td>52.0</td>\n",
              "      <td>52.7</td>\n",
              "      <td>52.2</td>\n",
              "      <td>51.9</td>\n",
              "      <td>0.0</td>\n",
              "      <td>0.0</td>\n",
              "      <td>0.0</td>\n",
              "      <td>28.2</td>\n",
              "      <td>28.1</td>\n",
              "      <td>37.8</td>\n",
              "      <td>52.6</td>\n",
              "      <td>75.8</td>\n",
              "      <td>76.4</td>\n",
              "      <td>59.9</td>\n",
              "      <td>49.3</td>\n",
              "      <td>56.8</td>\n",
              "      <td>0.0</td>\n",
              "      <td>57.1</td>\n",
              "      <td>104.0</td>\n",
              "      <td>261.6</td>\n",
              "      <td>129.0</td>\n",
              "      <td>147.5</td>\n",
              "      <td>93.8</td>\n",
              "      <td>91.6</td>\n",
              "      <td>92.0</td>\n",
              "      <td>49.2</td>\n",
              "      <td>60.2</td>\n",
              "      <td>53.4</td>\n",
              "      <td>56.3</td>\n",
              "      <td>66.5</td>\n",
              "      <td>104.0</td>\n",
              "      <td>86.9</td>\n",
              "      <td>0.0</td>\n",
              "      <td>10.9</td>\n",
              "      <td>3.1</td>\n",
              "      <td>1.4</td>\n",
              "      <td>2.5</td>\n",
              "      <td>2.2</td>\n",
              "      <td>1.1</td>\n",
              "      <td>2.4</td>\n",
              "      <td>1.9</td>\n",
              "      <td>0.5</td>\n",
              "      <td>14.3</td>\n",
              "      <td>65.5</td>\n",
              "      <td>0.0</td>\n",
              "      <td>1.4</td>\n",
              "      <td>1.2</td>\n",
              "      <td>2.0</td>\n",
              "      <td>0.1</td>\n",
              "      <td>24.1</td>\n",
              "      <td>41.6</td>\n",
              "      <td>0.0</td>\n",
              "    </tr>\n",
              "    <tr>\n",
              "      <th>3</th>\n",
              "      <td>20190104</td>\n",
              "      <td>30301</td>\n",
              "      <td>28490</td>\n",
              "      <td>1811.0</td>\n",
              "      <td>6.36</td>\n",
              "      <td>339.020</td>\n",
              "      <td>232.810</td>\n",
              "      <td>0</td>\n",
              "      <td>0</td>\n",
              "      <td>98.7</td>\n",
              "      <td>98.4</td>\n",
              "      <td>94.1</td>\n",
              "      <td>0.0</td>\n",
              "      <td>76.0</td>\n",
              "      <td>76.0</td>\n",
              "      <td>NaN</td>\n",
              "      <td>53.2</td>\n",
              "      <td>0.0</td>\n",
              "      <td>0.0</td>\n",
              "      <td>52.3</td>\n",
              "      <td>52.8</td>\n",
              "      <td>52.2</td>\n",
              "      <td>51.9</td>\n",
              "      <td>0.0</td>\n",
              "      <td>0.0</td>\n",
              "      <td>0.0</td>\n",
              "      <td>32.7</td>\n",
              "      <td>33.1</td>\n",
              "      <td>38.4</td>\n",
              "      <td>52.6</td>\n",
              "      <td>75.6</td>\n",
              "      <td>76.4</td>\n",
              "      <td>60.2</td>\n",
              "      <td>0.0</td>\n",
              "      <td>56.8</td>\n",
              "      <td>0.0</td>\n",
              "      <td>57.1</td>\n",
              "      <td>106.9</td>\n",
              "      <td>315.1</td>\n",
              "      <td>147.8</td>\n",
              "      <td>160.6</td>\n",
              "      <td>87.6</td>\n",
              "      <td>91.6</td>\n",
              "      <td>92.0</td>\n",
              "      <td>49.0</td>\n",
              "      <td>60.2</td>\n",
              "      <td>53.6</td>\n",
              "      <td>56.6</td>\n",
              "      <td>66.6</td>\n",
              "      <td>103.1</td>\n",
              "      <td>75.2</td>\n",
              "      <td>0.0</td>\n",
              "      <td>11.4</td>\n",
              "      <td>3.9</td>\n",
              "      <td>3.7</td>\n",
              "      <td>2.5</td>\n",
              "      <td>2.2</td>\n",
              "      <td>1.2</td>\n",
              "      <td>1.0</td>\n",
              "      <td>3.4</td>\n",
              "      <td>1.0</td>\n",
              "      <td>18.1</td>\n",
              "      <td>52.3</td>\n",
              "      <td>0.0</td>\n",
              "      <td>1.4</td>\n",
              "      <td>1.4</td>\n",
              "      <td>0.0</td>\n",
              "      <td>0.0</td>\n",
              "      <td>19.3</td>\n",
              "      <td>12.4</td>\n",
              "      <td>11.0</td>\n",
              "    </tr>\n",
              "    <tr>\n",
              "      <th>4</th>\n",
              "      <td>20190105</td>\n",
              "      <td>27957</td>\n",
              "      <td>26054</td>\n",
              "      <td>1903.0</td>\n",
              "      <td>7.30</td>\n",
              "      <td>315.825</td>\n",
              "      <td>216.882</td>\n",
              "      <td>0</td>\n",
              "      <td>0</td>\n",
              "      <td>98.7</td>\n",
              "      <td>98.6</td>\n",
              "      <td>94.1</td>\n",
              "      <td>0.0</td>\n",
              "      <td>75.7</td>\n",
              "      <td>75.8</td>\n",
              "      <td>NaN</td>\n",
              "      <td>53.1</td>\n",
              "      <td>0.0</td>\n",
              "      <td>0.0</td>\n",
              "      <td>52.2</td>\n",
              "      <td>52.9</td>\n",
              "      <td>52.2</td>\n",
              "      <td>51.8</td>\n",
              "      <td>28.1</td>\n",
              "      <td>0.0</td>\n",
              "      <td>0.0</td>\n",
              "      <td>28.2</td>\n",
              "      <td>28.1</td>\n",
              "      <td>32.8</td>\n",
              "      <td>52.7</td>\n",
              "      <td>75.8</td>\n",
              "      <td>76.5</td>\n",
              "      <td>57.5</td>\n",
              "      <td>0.0</td>\n",
              "      <td>56.8</td>\n",
              "      <td>0.0</td>\n",
              "      <td>57.1</td>\n",
              "      <td>40.6</td>\n",
              "      <td>264.4</td>\n",
              "      <td>146.4</td>\n",
              "      <td>161.3</td>\n",
              "      <td>106.2</td>\n",
              "      <td>88.7</td>\n",
              "      <td>46.1</td>\n",
              "      <td>0.0</td>\n",
              "      <td>60.1</td>\n",
              "      <td>53.2</td>\n",
              "      <td>55.8</td>\n",
              "      <td>68.6</td>\n",
              "      <td>102.3</td>\n",
              "      <td>13.1</td>\n",
              "      <td>0.0</td>\n",
              "      <td>11.3</td>\n",
              "      <td>0.3</td>\n",
              "      <td>1.2</td>\n",
              "      <td>2.2</td>\n",
              "      <td>1.8</td>\n",
              "      <td>0.8</td>\n",
              "      <td>0.9</td>\n",
              "      <td>1.8</td>\n",
              "      <td>0.7</td>\n",
              "      <td>30.4</td>\n",
              "      <td>57.6</td>\n",
              "      <td>0.0</td>\n",
              "      <td>1.3</td>\n",
              "      <td>3.0</td>\n",
              "      <td>2.9</td>\n",
              "      <td>0.0</td>\n",
              "      <td>23.9</td>\n",
              "      <td>18.5</td>\n",
              "      <td>0.0</td>\n",
              "    </tr>\n",
              "    <tr>\n",
              "      <th>...</th>\n",
              "      <td>...</td>\n",
              "      <td>...</td>\n",
              "      <td>...</td>\n",
              "      <td>...</td>\n",
              "      <td>...</td>\n",
              "      <td>...</td>\n",
              "      <td>...</td>\n",
              "      <td>...</td>\n",
              "      <td>...</td>\n",
              "      <td>...</td>\n",
              "      <td>...</td>\n",
              "      <td>...</td>\n",
              "      <td>...</td>\n",
              "      <td>...</td>\n",
              "      <td>...</td>\n",
              "      <td>...</td>\n",
              "      <td>...</td>\n",
              "      <td>...</td>\n",
              "      <td>...</td>\n",
              "      <td>...</td>\n",
              "      <td>...</td>\n",
              "      <td>...</td>\n",
              "      <td>...</td>\n",
              "      <td>...</td>\n",
              "      <td>...</td>\n",
              "      <td>...</td>\n",
              "      <td>...</td>\n",
              "      <td>...</td>\n",
              "      <td>...</td>\n",
              "      <td>...</td>\n",
              "      <td>...</td>\n",
              "      <td>...</td>\n",
              "      <td>...</td>\n",
              "      <td>...</td>\n",
              "      <td>...</td>\n",
              "      <td>...</td>\n",
              "      <td>...</td>\n",
              "      <td>...</td>\n",
              "      <td>...</td>\n",
              "      <td>...</td>\n",
              "      <td>...</td>\n",
              "      <td>...</td>\n",
              "      <td>...</td>\n",
              "      <td>...</td>\n",
              "      <td>...</td>\n",
              "      <td>...</td>\n",
              "      <td>...</td>\n",
              "      <td>...</td>\n",
              "      <td>...</td>\n",
              "      <td>...</td>\n",
              "      <td>...</td>\n",
              "      <td>...</td>\n",
              "      <td>...</td>\n",
              "      <td>...</td>\n",
              "      <td>...</td>\n",
              "      <td>...</td>\n",
              "      <td>...</td>\n",
              "      <td>...</td>\n",
              "      <td>...</td>\n",
              "      <td>...</td>\n",
              "      <td>...</td>\n",
              "      <td>...</td>\n",
              "      <td>...</td>\n",
              "      <td>...</td>\n",
              "      <td>...</td>\n",
              "      <td>...</td>\n",
              "      <td>...</td>\n",
              "      <td>...</td>\n",
              "      <td>...</td>\n",
              "      <td>...</td>\n",
              "      <td>...</td>\n",
              "    </tr>\n",
              "    <tr>\n",
              "      <th>665</th>\n",
              "      <td>20201027</td>\n",
              "      <td>35071</td>\n",
              "      <td>31669</td>\n",
              "      <td>3402.0</td>\n",
              "      <td>10.74</td>\n",
              "      <td>362.462</td>\n",
              "      <td>309.405</td>\n",
              "      <td>0</td>\n",
              "      <td>0</td>\n",
              "      <td>98.1</td>\n",
              "      <td>89.9</td>\n",
              "      <td>94.4</td>\n",
              "      <td>94.2</td>\n",
              "      <td>75.8</td>\n",
              "      <td>76.0</td>\n",
              "      <td>75.9</td>\n",
              "      <td>40.0</td>\n",
              "      <td>0.0</td>\n",
              "      <td>0.0</td>\n",
              "      <td>39.9</td>\n",
              "      <td>38.0</td>\n",
              "      <td>43.9</td>\n",
              "      <td>0.0</td>\n",
              "      <td>0.0</td>\n",
              "      <td>40.5</td>\n",
              "      <td>41.0</td>\n",
              "      <td>0.0</td>\n",
              "      <td>23.0</td>\n",
              "      <td>0.0</td>\n",
              "      <td>28.5</td>\n",
              "      <td>76.0</td>\n",
              "      <td>76.1</td>\n",
              "      <td>60.4</td>\n",
              "      <td>60.3</td>\n",
              "      <td>41.0</td>\n",
              "      <td>40.9</td>\n",
              "      <td>57.4</td>\n",
              "      <td>71.6</td>\n",
              "      <td>375.1</td>\n",
              "      <td>277.9</td>\n",
              "      <td>165.6</td>\n",
              "      <td>113.4</td>\n",
              "      <td>98.4</td>\n",
              "      <td>91.8</td>\n",
              "      <td>47.3</td>\n",
              "      <td>62.9</td>\n",
              "      <td>50.4</td>\n",
              "      <td>51.6</td>\n",
              "      <td>68.9</td>\n",
              "      <td>97.6</td>\n",
              "      <td>13.5</td>\n",
              "      <td>0.0</td>\n",
              "      <td>11.4</td>\n",
              "      <td>2.5</td>\n",
              "      <td>5.3</td>\n",
              "      <td>3.8</td>\n",
              "      <td>3.7</td>\n",
              "      <td>0.0</td>\n",
              "      <td>1.0</td>\n",
              "      <td>1.0</td>\n",
              "      <td>0.1</td>\n",
              "      <td>43.5</td>\n",
              "      <td>63.8</td>\n",
              "      <td>4.8</td>\n",
              "      <td>1.4</td>\n",
              "      <td>1.9</td>\n",
              "      <td>1.7</td>\n",
              "      <td>0.8</td>\n",
              "      <td>13.9</td>\n",
              "      <td>34.6</td>\n",
              "      <td>41.5</td>\n",
              "    </tr>\n",
              "    <tr>\n",
              "      <th>666</th>\n",
              "      <td>20201028</td>\n",
              "      <td>35429</td>\n",
              "      <td>31959</td>\n",
              "      <td>3470.0</td>\n",
              "      <td>10.86</td>\n",
              "      <td>365.469</td>\n",
              "      <td>311.972</td>\n",
              "      <td>0</td>\n",
              "      <td>0</td>\n",
              "      <td>98.0</td>\n",
              "      <td>98.2</td>\n",
              "      <td>94.6</td>\n",
              "      <td>94.3</td>\n",
              "      <td>75.9</td>\n",
              "      <td>76.0</td>\n",
              "      <td>76.0</td>\n",
              "      <td>37.6</td>\n",
              "      <td>0.0</td>\n",
              "      <td>0.0</td>\n",
              "      <td>33.0</td>\n",
              "      <td>34.1</td>\n",
              "      <td>33.1</td>\n",
              "      <td>0.0</td>\n",
              "      <td>0.0</td>\n",
              "      <td>43.6</td>\n",
              "      <td>33.3</td>\n",
              "      <td>0.0</td>\n",
              "      <td>22.2</td>\n",
              "      <td>0.0</td>\n",
              "      <td>25.8</td>\n",
              "      <td>75.9</td>\n",
              "      <td>76.1</td>\n",
              "      <td>60.2</td>\n",
              "      <td>60.3</td>\n",
              "      <td>37.5</td>\n",
              "      <td>37.4</td>\n",
              "      <td>57.4</td>\n",
              "      <td>70.1</td>\n",
              "      <td>383.7</td>\n",
              "      <td>275.8</td>\n",
              "      <td>150.7</td>\n",
              "      <td>101.5</td>\n",
              "      <td>72.3</td>\n",
              "      <td>92.0</td>\n",
              "      <td>46.9</td>\n",
              "      <td>64.9</td>\n",
              "      <td>50.4</td>\n",
              "      <td>51.5</td>\n",
              "      <td>68.9</td>\n",
              "      <td>96.2</td>\n",
              "      <td>39.1</td>\n",
              "      <td>0.0</td>\n",
              "      <td>12.1</td>\n",
              "      <td>0.0</td>\n",
              "      <td>2.7</td>\n",
              "      <td>3.9</td>\n",
              "      <td>3.8</td>\n",
              "      <td>0.0</td>\n",
              "      <td>0.9</td>\n",
              "      <td>1.9</td>\n",
              "      <td>0.8</td>\n",
              "      <td>14.4</td>\n",
              "      <td>48.0</td>\n",
              "      <td>4.0</td>\n",
              "      <td>1.2</td>\n",
              "      <td>1.4</td>\n",
              "      <td>0.0</td>\n",
              "      <td>0.5</td>\n",
              "      <td>13.7</td>\n",
              "      <td>58.8</td>\n",
              "      <td>161.6</td>\n",
              "    </tr>\n",
              "    <tr>\n",
              "      <th>667</th>\n",
              "      <td>20201029</td>\n",
              "      <td>34978</td>\n",
              "      <td>31271</td>\n",
              "      <td>3707.0</td>\n",
              "      <td>11.86</td>\n",
              "      <td>362.440</td>\n",
              "      <td>309.387</td>\n",
              "      <td>0</td>\n",
              "      <td>0</td>\n",
              "      <td>97.8</td>\n",
              "      <td>98.0</td>\n",
              "      <td>94.6</td>\n",
              "      <td>94.3</td>\n",
              "      <td>76.0</td>\n",
              "      <td>76.1</td>\n",
              "      <td>76.2</td>\n",
              "      <td>37.5</td>\n",
              "      <td>0.0</td>\n",
              "      <td>0.0</td>\n",
              "      <td>32.8</td>\n",
              "      <td>34.0</td>\n",
              "      <td>33.0</td>\n",
              "      <td>0.0</td>\n",
              "      <td>0.0</td>\n",
              "      <td>43.4</td>\n",
              "      <td>33.4</td>\n",
              "      <td>0.0</td>\n",
              "      <td>23.1</td>\n",
              "      <td>0.0</td>\n",
              "      <td>25.7</td>\n",
              "      <td>75.7</td>\n",
              "      <td>76.2</td>\n",
              "      <td>60.3</td>\n",
              "      <td>60.2</td>\n",
              "      <td>37.8</td>\n",
              "      <td>37.4</td>\n",
              "      <td>57.3</td>\n",
              "      <td>79.3</td>\n",
              "      <td>352.6</td>\n",
              "      <td>278.4</td>\n",
              "      <td>163.6</td>\n",
              "      <td>103.3</td>\n",
              "      <td>43.2</td>\n",
              "      <td>92.0</td>\n",
              "      <td>47.9</td>\n",
              "      <td>60.0</td>\n",
              "      <td>50.5</td>\n",
              "      <td>51.4</td>\n",
              "      <td>66.4</td>\n",
              "      <td>96.7</td>\n",
              "      <td>13.5</td>\n",
              "      <td>0.0</td>\n",
              "      <td>12.3</td>\n",
              "      <td>3.3</td>\n",
              "      <td>6.4</td>\n",
              "      <td>4.3</td>\n",
              "      <td>4.1</td>\n",
              "      <td>0.0</td>\n",
              "      <td>0.9</td>\n",
              "      <td>0.8</td>\n",
              "      <td>0.2</td>\n",
              "      <td>20.5</td>\n",
              "      <td>50.0</td>\n",
              "      <td>1.0</td>\n",
              "      <td>1.2</td>\n",
              "      <td>1.3</td>\n",
              "      <td>0.0</td>\n",
              "      <td>0.5</td>\n",
              "      <td>16.2</td>\n",
              "      <td>60.8</td>\n",
              "      <td>143.3</td>\n",
              "    </tr>\n",
              "    <tr>\n",
              "      <th>668</th>\n",
              "      <td>20201030</td>\n",
              "      <td>34479</td>\n",
              "      <td>30264</td>\n",
              "      <td>4215.0</td>\n",
              "      <td>13.93</td>\n",
              "      <td>351.492</td>\n",
              "      <td>300.041</td>\n",
              "      <td>0</td>\n",
              "      <td>0</td>\n",
              "      <td>97.8</td>\n",
              "      <td>98.0</td>\n",
              "      <td>94.5</td>\n",
              "      <td>94.3</td>\n",
              "      <td>76.0</td>\n",
              "      <td>76.2</td>\n",
              "      <td>76.1</td>\n",
              "      <td>37.6</td>\n",
              "      <td>0.0</td>\n",
              "      <td>0.0</td>\n",
              "      <td>32.9</td>\n",
              "      <td>34.1</td>\n",
              "      <td>33.0</td>\n",
              "      <td>0.0</td>\n",
              "      <td>0.0</td>\n",
              "      <td>32.7</td>\n",
              "      <td>33.5</td>\n",
              "      <td>0.0</td>\n",
              "      <td>23.2</td>\n",
              "      <td>0.0</td>\n",
              "      <td>25.8</td>\n",
              "      <td>76.0</td>\n",
              "      <td>76.2</td>\n",
              "      <td>60.2</td>\n",
              "      <td>60.2</td>\n",
              "      <td>56.8</td>\n",
              "      <td>56.7</td>\n",
              "      <td>57.4</td>\n",
              "      <td>76.3</td>\n",
              "      <td>305.4</td>\n",
              "      <td>282.1</td>\n",
              "      <td>159.1</td>\n",
              "      <td>104.3</td>\n",
              "      <td>35.7</td>\n",
              "      <td>39.4</td>\n",
              "      <td>39.1</td>\n",
              "      <td>59.9</td>\n",
              "      <td>45.0</td>\n",
              "      <td>45.4</td>\n",
              "      <td>66.3</td>\n",
              "      <td>44.5</td>\n",
              "      <td>13.4</td>\n",
              "      <td>0.0</td>\n",
              "      <td>12.3</td>\n",
              "      <td>3.8</td>\n",
              "      <td>7.6</td>\n",
              "      <td>4.3</td>\n",
              "      <td>4.1</td>\n",
              "      <td>0.0</td>\n",
              "      <td>0.9</td>\n",
              "      <td>1.3</td>\n",
              "      <td>0.2</td>\n",
              "      <td>12.1</td>\n",
              "      <td>32.3</td>\n",
              "      <td>2.0</td>\n",
              "      <td>1.2</td>\n",
              "      <td>1.5</td>\n",
              "      <td>0.0</td>\n",
              "      <td>0.5</td>\n",
              "      <td>16.5</td>\n",
              "      <td>60.1</td>\n",
              "      <td>207.5</td>\n",
              "    </tr>\n",
              "    <tr>\n",
              "      <th>669</th>\n",
              "      <td>20201031</td>\n",
              "      <td>30482</td>\n",
              "      <td>26763</td>\n",
              "      <td>3719.0</td>\n",
              "      <td>13.90</td>\n",
              "      <td>319.096</td>\n",
              "      <td>272.388</td>\n",
              "      <td>0</td>\n",
              "      <td>0</td>\n",
              "      <td>98.1</td>\n",
              "      <td>98.4</td>\n",
              "      <td>94.6</td>\n",
              "      <td>94.3</td>\n",
              "      <td>72.4</td>\n",
              "      <td>75.9</td>\n",
              "      <td>75.9</td>\n",
              "      <td>34.7</td>\n",
              "      <td>0.0</td>\n",
              "      <td>0.0</td>\n",
              "      <td>33.0</td>\n",
              "      <td>34.1</td>\n",
              "      <td>33.0</td>\n",
              "      <td>0.0</td>\n",
              "      <td>0.0</td>\n",
              "      <td>37.6</td>\n",
              "      <td>33.5</td>\n",
              "      <td>0.0</td>\n",
              "      <td>23.2</td>\n",
              "      <td>0.0</td>\n",
              "      <td>25.7</td>\n",
              "      <td>75.9</td>\n",
              "      <td>76.2</td>\n",
              "      <td>0.0</td>\n",
              "      <td>46.3</td>\n",
              "      <td>37.8</td>\n",
              "      <td>37.3</td>\n",
              "      <td>57.4</td>\n",
              "      <td>63.7</td>\n",
              "      <td>328.4</td>\n",
              "      <td>259.2</td>\n",
              "      <td>206.8</td>\n",
              "      <td>102.6</td>\n",
              "      <td>35.7</td>\n",
              "      <td>0.0</td>\n",
              "      <td>0.0</td>\n",
              "      <td>0.0</td>\n",
              "      <td>45.3</td>\n",
              "      <td>45.5</td>\n",
              "      <td>66.4</td>\n",
              "      <td>44.6</td>\n",
              "      <td>13.4</td>\n",
              "      <td>0.0</td>\n",
              "      <td>12.3</td>\n",
              "      <td>3.1</td>\n",
              "      <td>4.4</td>\n",
              "      <td>4.2</td>\n",
              "      <td>4.1</td>\n",
              "      <td>0.0</td>\n",
              "      <td>0.9</td>\n",
              "      <td>2.0</td>\n",
              "      <td>0.6</td>\n",
              "      <td>29.2</td>\n",
              "      <td>81.5</td>\n",
              "      <td>3.2</td>\n",
              "      <td>1.2</td>\n",
              "      <td>3.0</td>\n",
              "      <td>1.7</td>\n",
              "      <td>0.4</td>\n",
              "      <td>24.1</td>\n",
              "      <td>55.2</td>\n",
              "      <td>0.0</td>\n",
              "    </tr>\n",
              "  </tbody>\n",
              "</table>\n",
              "<p>670 rows × 71 columns</p>\n",
              "</div>"
            ],
            "text/plain": [
              "           日期  淨尖峰供電能力(MW)  尖峰負載(MW)  備轉容量(MW)  ...   水里  其他小水力  風力發電  太陽能發電\n",
              "0    20190101        26429     23872    2557.0  ...  0.0   24.3  50.9    0.0\n",
              "1    20190102        30047     28148    1899.0  ...  0.0   23.4  37.9    0.0\n",
              "2    20190103        30343     28452    1891.0  ...  0.1   24.1  41.6    0.0\n",
              "3    20190104        30301     28490    1811.0  ...  0.0   19.3  12.4   11.0\n",
              "4    20190105        27957     26054    1903.0  ...  0.0   23.9  18.5    0.0\n",
              "..        ...          ...       ...       ...  ...  ...    ...   ...    ...\n",
              "665  20201027        35071     31669    3402.0  ...  0.8   13.9  34.6   41.5\n",
              "666  20201028        35429     31959    3470.0  ...  0.5   13.7  58.8  161.6\n",
              "667  20201029        34978     31271    3707.0  ...  0.5   16.2  60.8  143.3\n",
              "668  20201030        34479     30264    4215.0  ...  0.5   16.5  60.1  207.5\n",
              "669  20201031        30482     26763    3719.0  ...  0.4   24.1  55.2    0.0\n",
              "\n",
              "[670 rows x 71 columns]"
            ]
          },
          "metadata": {
            "tags": []
          },
          "execution_count": 4
        }
      ]
    },
    {
      "cell_type": "code",
      "metadata": {
        "colab": {
          "base_uri": "https://localhost:8080/",
          "height": 402
        },
        "id": "_RepMakzYYqh",
        "outputId": "7ccc292f-f7b3-47fa-d3c9-9fa3830b6f62"
      },
      "source": [
        "df2 = pd.read_csv('/content/drive/MyDrive/Project_data/NCKU_DSAI/HW1/export2.csv',encoding='utf-8')\n",
        "df2"
      ],
      "execution_count": null,
      "outputs": [
        {
          "output_type": "execute_result",
          "data": {
            "text/html": [
              "<div>\n",
              "<style scoped>\n",
              "    .dataframe tbody tr th:only-of-type {\n",
              "        vertical-align: middle;\n",
              "    }\n",
              "\n",
              "    .dataframe tbody tr th {\n",
              "        vertical-align: top;\n",
              "    }\n",
              "\n",
              "    .dataframe thead th {\n",
              "        text-align: right;\n",
              "    }\n",
              "</style>\n",
              "<table border=\"1\" class=\"dataframe\">\n",
              "  <thead>\n",
              "    <tr style=\"text-align: right;\">\n",
              "      <th></th>\n",
              "      <th>日期</th>\n",
              "      <th>備轉容量(萬瓩)</th>\n",
              "      <th>備轉容量率(%)</th>\n",
              "    </tr>\n",
              "  </thead>\n",
              "  <tbody>\n",
              "    <tr>\n",
              "      <th>0</th>\n",
              "      <td>2020/01/01</td>\n",
              "      <td>279.0</td>\n",
              "      <td>11.01</td>\n",
              "    </tr>\n",
              "    <tr>\n",
              "      <th>1</th>\n",
              "      <td>2020/01/02</td>\n",
              "      <td>308.0</td>\n",
              "      <td>10.91</td>\n",
              "    </tr>\n",
              "    <tr>\n",
              "      <th>2</th>\n",
              "      <td>2020/01/03</td>\n",
              "      <td>338.3</td>\n",
              "      <td>11.96</td>\n",
              "    </tr>\n",
              "    <tr>\n",
              "      <th>3</th>\n",
              "      <td>2020/01/04</td>\n",
              "      <td>363.6</td>\n",
              "      <td>14.21</td>\n",
              "    </tr>\n",
              "    <tr>\n",
              "      <th>4</th>\n",
              "      <td>2020/01/05</td>\n",
              "      <td>269.5</td>\n",
              "      <td>10.88</td>\n",
              "    </tr>\n",
              "    <tr>\n",
              "      <th>...</th>\n",
              "      <td>...</td>\n",
              "      <td>...</td>\n",
              "      <td>...</td>\n",
              "    </tr>\n",
              "    <tr>\n",
              "      <th>345</th>\n",
              "      <td>2020/12/11</td>\n",
              "      <td>312.9</td>\n",
              "      <td>10.46</td>\n",
              "    </tr>\n",
              "    <tr>\n",
              "      <th>346</th>\n",
              "      <td>2020/12/12</td>\n",
              "      <td>328.2</td>\n",
              "      <td>12.31</td>\n",
              "    </tr>\n",
              "    <tr>\n",
              "      <th>347</th>\n",
              "      <td>2020/12/13</td>\n",
              "      <td>283.0</td>\n",
              "      <td>11.12</td>\n",
              "    </tr>\n",
              "    <tr>\n",
              "      <th>348</th>\n",
              "      <td>2020/12/14</td>\n",
              "      <td>302.1</td>\n",
              "      <td>10.20</td>\n",
              "    </tr>\n",
              "    <tr>\n",
              "      <th>349</th>\n",
              "      <td>2020/12/15</td>\n",
              "      <td>301.2</td>\n",
              "      <td>10.14</td>\n",
              "    </tr>\n",
              "  </tbody>\n",
              "</table>\n",
              "<p>350 rows × 3 columns</p>\n",
              "</div>"
            ],
            "text/plain": [
              "             日期  備轉容量(萬瓩)  備轉容量率(%)\n",
              "0    2020/01/01     279.0     11.01\n",
              "1    2020/01/02     308.0     10.91\n",
              "2    2020/01/03     338.3     11.96\n",
              "3    2020/01/04     363.6     14.21\n",
              "4    2020/01/05     269.5     10.88\n",
              "..          ...       ...       ...\n",
              "345  2020/12/11     312.9     10.46\n",
              "346  2020/12/12     328.2     12.31\n",
              "347  2020/12/13     283.0     11.12\n",
              "348  2020/12/14     302.1     10.20\n",
              "349  2020/12/15     301.2     10.14\n",
              "\n",
              "[350 rows x 3 columns]"
            ]
          },
          "metadata": {
            "tags": []
          },
          "execution_count": 5
        }
      ]
    },
    {
      "cell_type": "code",
      "metadata": {
        "id": "Wbn9qlTsYawR"
      },
      "source": [
        "df = df[['日期', '備轉容量(MW)']]\n",
        "df2 = df2[['日期','備轉容量(萬瓩)']]"
      ],
      "execution_count": null,
      "outputs": []
    },
    {
      "cell_type": "code",
      "metadata": {
        "colab": {
          "base_uri": "https://localhost:8080/",
          "height": 431
        },
        "id": "Hur2iQPYYbGZ",
        "outputId": "4b3802fc-48cd-4c1c-a1aa-4fdd08770fa4"
      },
      "source": [
        "date_list=[]\n",
        "or_list=[]\n",
        "for idx in range(len(df2)):\n",
        "    date, or_ = df2.iloc[idx]\n",
        "    or_ = or_*10\n",
        "    date = date.split('/')\n",
        "    date = ''.join(date)\n",
        "    date = pd.to_datetime(date, format='%Y%m%d')\n",
        "    date_list.append(date)\n",
        "    or_list.append(or_)\n",
        "df3 = pd.DataFrame({'日期':date_list, \"備轉容量(MW)\":or_list})\n",
        "df3=df3.set_index('日期')\n",
        "df3"
      ],
      "execution_count": null,
      "outputs": [
        {
          "output_type": "execute_result",
          "data": {
            "text/html": [
              "<div>\n",
              "<style scoped>\n",
              "    .dataframe tbody tr th:only-of-type {\n",
              "        vertical-align: middle;\n",
              "    }\n",
              "\n",
              "    .dataframe tbody tr th {\n",
              "        vertical-align: top;\n",
              "    }\n",
              "\n",
              "    .dataframe thead th {\n",
              "        text-align: right;\n",
              "    }\n",
              "</style>\n",
              "<table border=\"1\" class=\"dataframe\">\n",
              "  <thead>\n",
              "    <tr style=\"text-align: right;\">\n",
              "      <th></th>\n",
              "      <th>備轉容量(MW)</th>\n",
              "    </tr>\n",
              "    <tr>\n",
              "      <th>日期</th>\n",
              "      <th></th>\n",
              "    </tr>\n",
              "  </thead>\n",
              "  <tbody>\n",
              "    <tr>\n",
              "      <th>2020-01-01</th>\n",
              "      <td>2790.0</td>\n",
              "    </tr>\n",
              "    <tr>\n",
              "      <th>2020-01-02</th>\n",
              "      <td>3080.0</td>\n",
              "    </tr>\n",
              "    <tr>\n",
              "      <th>2020-01-03</th>\n",
              "      <td>3383.0</td>\n",
              "    </tr>\n",
              "    <tr>\n",
              "      <th>2020-01-04</th>\n",
              "      <td>3636.0</td>\n",
              "    </tr>\n",
              "    <tr>\n",
              "      <th>2020-01-05</th>\n",
              "      <td>2695.0</td>\n",
              "    </tr>\n",
              "    <tr>\n",
              "      <th>...</th>\n",
              "      <td>...</td>\n",
              "    </tr>\n",
              "    <tr>\n",
              "      <th>2020-12-11</th>\n",
              "      <td>3129.0</td>\n",
              "    </tr>\n",
              "    <tr>\n",
              "      <th>2020-12-12</th>\n",
              "      <td>3282.0</td>\n",
              "    </tr>\n",
              "    <tr>\n",
              "      <th>2020-12-13</th>\n",
              "      <td>2830.0</td>\n",
              "    </tr>\n",
              "    <tr>\n",
              "      <th>2020-12-14</th>\n",
              "      <td>3021.0</td>\n",
              "    </tr>\n",
              "    <tr>\n",
              "      <th>2020-12-15</th>\n",
              "      <td>3012.0</td>\n",
              "    </tr>\n",
              "  </tbody>\n",
              "</table>\n",
              "<p>350 rows × 1 columns</p>\n",
              "</div>"
            ],
            "text/plain": [
              "            備轉容量(MW)\n",
              "日期                  \n",
              "2020-01-01    2790.0\n",
              "2020-01-02    3080.0\n",
              "2020-01-03    3383.0\n",
              "2020-01-04    3636.0\n",
              "2020-01-05    2695.0\n",
              "...              ...\n",
              "2020-12-11    3129.0\n",
              "2020-12-12    3282.0\n",
              "2020-12-13    2830.0\n",
              "2020-12-14    3021.0\n",
              "2020-12-15    3012.0\n",
              "\n",
              "[350 rows x 1 columns]"
            ]
          },
          "metadata": {
            "tags": []
          },
          "execution_count": 7
        }
      ]
    },
    {
      "cell_type": "code",
      "metadata": {
        "colab": {
          "base_uri": "https://localhost:8080/",
          "height": 431
        },
        "id": "YO4sJtFJYbI6",
        "outputId": "6070477b-b6b2-4936-c5cf-6036be96f014"
      },
      "source": [
        "date_list=[]\n",
        "or_list=[]\n",
        "for idx in range(len(df)):\n",
        "    date, or_ = df.iloc[idx]\n",
        "    date = pd.to_datetime(date, format='%Y%m%d')\n",
        "    date_list.append(date)\n",
        "    or_list.append(or_)\n",
        "df4 = pd.DataFrame({'日期':date_list, \"備轉容量(MW)\":or_list})\n",
        "df4=df4.set_index('日期')\n",
        "df4"
      ],
      "execution_count": null,
      "outputs": [
        {
          "output_type": "execute_result",
          "data": {
            "text/html": [
              "<div>\n",
              "<style scoped>\n",
              "    .dataframe tbody tr th:only-of-type {\n",
              "        vertical-align: middle;\n",
              "    }\n",
              "\n",
              "    .dataframe tbody tr th {\n",
              "        vertical-align: top;\n",
              "    }\n",
              "\n",
              "    .dataframe thead th {\n",
              "        text-align: right;\n",
              "    }\n",
              "</style>\n",
              "<table border=\"1\" class=\"dataframe\">\n",
              "  <thead>\n",
              "    <tr style=\"text-align: right;\">\n",
              "      <th></th>\n",
              "      <th>備轉容量(MW)</th>\n",
              "    </tr>\n",
              "    <tr>\n",
              "      <th>日期</th>\n",
              "      <th></th>\n",
              "    </tr>\n",
              "  </thead>\n",
              "  <tbody>\n",
              "    <tr>\n",
              "      <th>2019-01-01</th>\n",
              "      <td>2557.0</td>\n",
              "    </tr>\n",
              "    <tr>\n",
              "      <th>2019-01-02</th>\n",
              "      <td>1899.0</td>\n",
              "    </tr>\n",
              "    <tr>\n",
              "      <th>2019-01-03</th>\n",
              "      <td>1891.0</td>\n",
              "    </tr>\n",
              "    <tr>\n",
              "      <th>2019-01-04</th>\n",
              "      <td>1811.0</td>\n",
              "    </tr>\n",
              "    <tr>\n",
              "      <th>2019-01-05</th>\n",
              "      <td>1903.0</td>\n",
              "    </tr>\n",
              "    <tr>\n",
              "      <th>...</th>\n",
              "      <td>...</td>\n",
              "    </tr>\n",
              "    <tr>\n",
              "      <th>2020-10-27</th>\n",
              "      <td>3402.0</td>\n",
              "    </tr>\n",
              "    <tr>\n",
              "      <th>2020-10-28</th>\n",
              "      <td>3470.0</td>\n",
              "    </tr>\n",
              "    <tr>\n",
              "      <th>2020-10-29</th>\n",
              "      <td>3707.0</td>\n",
              "    </tr>\n",
              "    <tr>\n",
              "      <th>2020-10-30</th>\n",
              "      <td>4215.0</td>\n",
              "    </tr>\n",
              "    <tr>\n",
              "      <th>2020-10-31</th>\n",
              "      <td>3719.0</td>\n",
              "    </tr>\n",
              "  </tbody>\n",
              "</table>\n",
              "<p>670 rows × 1 columns</p>\n",
              "</div>"
            ],
            "text/plain": [
              "            備轉容量(MW)\n",
              "日期                  \n",
              "2019-01-01    2557.0\n",
              "2019-01-02    1899.0\n",
              "2019-01-03    1891.0\n",
              "2019-01-04    1811.0\n",
              "2019-01-05    1903.0\n",
              "...              ...\n",
              "2020-10-27    3402.0\n",
              "2020-10-28    3470.0\n",
              "2020-10-29    3707.0\n",
              "2020-10-30    4215.0\n",
              "2020-10-31    3719.0\n",
              "\n",
              "[670 rows x 1 columns]"
            ]
          },
          "metadata": {
            "tags": []
          },
          "execution_count": 8
        }
      ]
    },
    {
      "cell_type": "code",
      "metadata": {
        "colab": {
          "base_uri": "https://localhost:8080/",
          "height": 431
        },
        "id": "A8cThq8TYbL2",
        "outputId": "f09e6b20-fa4b-4e80-ae87-420f3545ee41"
      },
      "source": [
        "df5 = pd.concat([df3, df4]).sort_values('日期')\n",
        "df5"
      ],
      "execution_count": null,
      "outputs": [
        {
          "output_type": "execute_result",
          "data": {
            "text/html": [
              "<div>\n",
              "<style scoped>\n",
              "    .dataframe tbody tr th:only-of-type {\n",
              "        vertical-align: middle;\n",
              "    }\n",
              "\n",
              "    .dataframe tbody tr th {\n",
              "        vertical-align: top;\n",
              "    }\n",
              "\n",
              "    .dataframe thead th {\n",
              "        text-align: right;\n",
              "    }\n",
              "</style>\n",
              "<table border=\"1\" class=\"dataframe\">\n",
              "  <thead>\n",
              "    <tr style=\"text-align: right;\">\n",
              "      <th></th>\n",
              "      <th>備轉容量(MW)</th>\n",
              "    </tr>\n",
              "    <tr>\n",
              "      <th>日期</th>\n",
              "      <th></th>\n",
              "    </tr>\n",
              "  </thead>\n",
              "  <tbody>\n",
              "    <tr>\n",
              "      <th>2019-01-01</th>\n",
              "      <td>2557.0</td>\n",
              "    </tr>\n",
              "    <tr>\n",
              "      <th>2019-01-02</th>\n",
              "      <td>1899.0</td>\n",
              "    </tr>\n",
              "    <tr>\n",
              "      <th>2019-01-03</th>\n",
              "      <td>1891.0</td>\n",
              "    </tr>\n",
              "    <tr>\n",
              "      <th>2019-01-04</th>\n",
              "      <td>1811.0</td>\n",
              "    </tr>\n",
              "    <tr>\n",
              "      <th>2019-01-05</th>\n",
              "      <td>1903.0</td>\n",
              "    </tr>\n",
              "    <tr>\n",
              "      <th>...</th>\n",
              "      <td>...</td>\n",
              "    </tr>\n",
              "    <tr>\n",
              "      <th>2020-12-11</th>\n",
              "      <td>3129.0</td>\n",
              "    </tr>\n",
              "    <tr>\n",
              "      <th>2020-12-12</th>\n",
              "      <td>3282.0</td>\n",
              "    </tr>\n",
              "    <tr>\n",
              "      <th>2020-12-13</th>\n",
              "      <td>2830.0</td>\n",
              "    </tr>\n",
              "    <tr>\n",
              "      <th>2020-12-14</th>\n",
              "      <td>3021.0</td>\n",
              "    </tr>\n",
              "    <tr>\n",
              "      <th>2020-12-15</th>\n",
              "      <td>3012.0</td>\n",
              "    </tr>\n",
              "  </tbody>\n",
              "</table>\n",
              "<p>1020 rows × 1 columns</p>\n",
              "</div>"
            ],
            "text/plain": [
              "            備轉容量(MW)\n",
              "日期                  \n",
              "2019-01-01    2557.0\n",
              "2019-01-02    1899.0\n",
              "2019-01-03    1891.0\n",
              "2019-01-04    1811.0\n",
              "2019-01-05    1903.0\n",
              "...              ...\n",
              "2020-12-11    3129.0\n",
              "2020-12-12    3282.0\n",
              "2020-12-13    2830.0\n",
              "2020-12-14    3021.0\n",
              "2020-12-15    3012.0\n",
              "\n",
              "[1020 rows x 1 columns]"
            ]
          },
          "metadata": {
            "tags": []
          },
          "execution_count": 9
        }
      ]
    },
    {
      "cell_type": "code",
      "metadata": {
        "colab": {
          "base_uri": "https://localhost:8080/",
          "height": 431
        },
        "id": "3mfsOGRNYeRB",
        "outputId": "2b81ca70-1766-4296-9b9b-e3e505e59bdd"
      },
      "source": [
        "df5 = df5[~df5.index.duplicated(keep='first')]\n",
        "df5"
      ],
      "execution_count": null,
      "outputs": [
        {
          "output_type": "execute_result",
          "data": {
            "text/html": [
              "<div>\n",
              "<style scoped>\n",
              "    .dataframe tbody tr th:only-of-type {\n",
              "        vertical-align: middle;\n",
              "    }\n",
              "\n",
              "    .dataframe tbody tr th {\n",
              "        vertical-align: top;\n",
              "    }\n",
              "\n",
              "    .dataframe thead th {\n",
              "        text-align: right;\n",
              "    }\n",
              "</style>\n",
              "<table border=\"1\" class=\"dataframe\">\n",
              "  <thead>\n",
              "    <tr style=\"text-align: right;\">\n",
              "      <th></th>\n",
              "      <th>備轉容量(MW)</th>\n",
              "    </tr>\n",
              "    <tr>\n",
              "      <th>日期</th>\n",
              "      <th></th>\n",
              "    </tr>\n",
              "  </thead>\n",
              "  <tbody>\n",
              "    <tr>\n",
              "      <th>2019-01-01</th>\n",
              "      <td>2557.0</td>\n",
              "    </tr>\n",
              "    <tr>\n",
              "      <th>2019-01-02</th>\n",
              "      <td>1899.0</td>\n",
              "    </tr>\n",
              "    <tr>\n",
              "      <th>2019-01-03</th>\n",
              "      <td>1891.0</td>\n",
              "    </tr>\n",
              "    <tr>\n",
              "      <th>2019-01-04</th>\n",
              "      <td>1811.0</td>\n",
              "    </tr>\n",
              "    <tr>\n",
              "      <th>2019-01-05</th>\n",
              "      <td>1903.0</td>\n",
              "    </tr>\n",
              "    <tr>\n",
              "      <th>...</th>\n",
              "      <td>...</td>\n",
              "    </tr>\n",
              "    <tr>\n",
              "      <th>2020-12-11</th>\n",
              "      <td>3129.0</td>\n",
              "    </tr>\n",
              "    <tr>\n",
              "      <th>2020-12-12</th>\n",
              "      <td>3282.0</td>\n",
              "    </tr>\n",
              "    <tr>\n",
              "      <th>2020-12-13</th>\n",
              "      <td>2830.0</td>\n",
              "    </tr>\n",
              "    <tr>\n",
              "      <th>2020-12-14</th>\n",
              "      <td>3021.0</td>\n",
              "    </tr>\n",
              "    <tr>\n",
              "      <th>2020-12-15</th>\n",
              "      <td>3012.0</td>\n",
              "    </tr>\n",
              "  </tbody>\n",
              "</table>\n",
              "<p>715 rows × 1 columns</p>\n",
              "</div>"
            ],
            "text/plain": [
              "            備轉容量(MW)\n",
              "日期                  \n",
              "2019-01-01    2557.0\n",
              "2019-01-02    1899.0\n",
              "2019-01-03    1891.0\n",
              "2019-01-04    1811.0\n",
              "2019-01-05    1903.0\n",
              "...              ...\n",
              "2020-12-11    3129.0\n",
              "2020-12-12    3282.0\n",
              "2020-12-13    2830.0\n",
              "2020-12-14    3021.0\n",
              "2020-12-15    3012.0\n",
              "\n",
              "[715 rows x 1 columns]"
            ]
          },
          "metadata": {
            "tags": []
          },
          "execution_count": 10
        }
      ]
    },
    {
      "cell_type": "code",
      "metadata": {
        "colab": {
          "base_uri": "https://localhost:8080/"
        },
        "id": "by_CbmsDYeTT",
        "outputId": "e85c354a-f4a7-4242-a6b0-b3a9b2085878"
      },
      "source": [
        "# check if nan exist\n",
        "df5.isna().sum()"
      ],
      "execution_count": null,
      "outputs": [
        {
          "output_type": "execute_result",
          "data": {
            "text/plain": [
              "備轉容量(MW)    0\n",
              "dtype: int64"
            ]
          },
          "metadata": {
            "tags": []
          },
          "execution_count": 11
        }
      ]
    },
    {
      "cell_type": "code",
      "metadata": {
        "colab": {
          "base_uri": "https://localhost:8080/",
          "height": 513
        },
        "id": "QGyk9vCWYeVb",
        "outputId": "45c944fb-e057-46d4-ef68-b4c58b20ea2f"
      },
      "source": [
        "plt.title('Operating Reserve(MW)')\n",
        "plt.plot(df5['備轉容量(MW)'])\n",
        "plt.xlabel('time step')\n",
        "plt.ylabel('MW')\n",
        "plt.grid()\n",
        "plt.show()"
      ],
      "execution_count": null,
      "outputs": [
        {
          "output_type": "display_data",
          "data": {
            "image/png": "[encoded data removed]",
            "text/plain": [
              "<Figure size 864x576 with 1 Axes>"
            ]
          },
          "metadata": {
            "tags": [],
            "needs_background": "light"
          }
        }
      ]
    },
    {
      "cell_type": "code",
      "metadata": {
        "colab": {
          "base_uri": "https://localhost:8080/"
        },
        "id": "zX5mEnBuYeXc",
        "outputId": "a46004b0-aad8-4499-8c6f-4239307f9182"
      },
      "source": [
        "data = df5.values\n",
        "data[:10]"
      ],
      "execution_count": null,
      "outputs": [
        {
          "output_type": "execute_result",
          "data": {
            "text/plain": [
              "array([[2557.],\n",
              "       [1899.],\n",
              "       [1891.],\n",
              "       [1811.],\n",
              "       [1903.],\n",
              "       [2333.],\n",
              "       [1800.],\n",
              "       [1843.],\n",
              "       [1954.],\n",
              "       [1847.]])"
            ]
          },
          "metadata": {
            "tags": []
          },
          "execution_count": 13
        }
      ]
    },
    {
      "cell_type": "markdown",
      "metadata": {
        "id": "uOQELB_rYrtp"
      },
      "source": [
        "## data split"
      ]
    },
    {
      "cell_type": "code",
      "metadata": {
        "id": "RmlHMmBdQ2O9",
        "colab": {
          "base_uri": "https://localhost:8080/"
        },
        "outputId": "db515cdc-25a9-497c-a0c1-b8adb0f596b3"
      },
      "source": [
        "from sklearn.model_selection import train_test_split\n",
        "X_train, X_test, y_train, y_test = train_test_split(data, data, test_size=0.1, random_state=0, shuffle=False)\n",
        "print('training samples:',len(X_train))\n",
        "print('validation samples:',len(X_test))"
      ],
      "execution_count": null,
      "outputs": [
        {
          "output_type": "stream",
          "text": [
            "training samples: 643\n",
            "validation samples: 72\n"
          ],
          "name": "stdout"
        }
      ]
    },
    {
      "cell_type": "markdown",
      "metadata": {
        "id": "uF6nstnhKR2c"
      },
      "source": [
        "### normaliation features"
      ]
    },
    {
      "cell_type": "code",
      "metadata": {
        "id": "s6OHj7ezvMnR"
      },
      "source": [
        "from sklearn.preprocessing import MinMaxScaler\n",
        "scaler = MinMaxScaler()\n",
        "X_scaled = scaler.fit_transform(X_train)\n",
        "y_scaled = scaler.fit_transform(y_train)\n",
        "X_test_scaled = scaler.fit_transform(X_test)\n",
        "y_test_scaled = scaler.fit_transform(y_test)"
      ],
      "execution_count": null,
      "outputs": []
    },
    {
      "cell_type": "code",
      "metadata": {
        "id": "qsnd6_y-Jn-r",
        "colab": {
          "base_uri": "https://localhost:8080/"
        },
        "outputId": "d04a7083-092f-494f-d432-87d10a80ea44"
      },
      "source": [
        "# split a multivariate sequence into samples\n",
        "def split_sequences(df_x, df_y, n_steps):\n",
        "    X, y = list(), list()\n",
        "    for i in range(len(df_x)):\n",
        "        # find the end of this pattern\n",
        "        end_ix = i + n_steps\n",
        "        # check if we are beyond the dataset\n",
        "        if end_ix > len(df_x)-1:\n",
        "            break\n",
        "        # gather input and output parts of the pattern\n",
        "        seq_x, seq_y = df_x[i:end_ix,:], df_y[end_ix]\n",
        "        X.append(seq_x)\n",
        "        y.append(seq_y)\n",
        "    return np.array(X), np.array(y)\n",
        "\n",
        "train_window = 12 #<---------------------\n",
        "\n",
        "X_train_split, y_train_split = split_sequences(X_scaled, y_scaled, train_window)\n",
        "X_test_split, y_test_split = split_sequences(X_test_scaled, y_test_scaled, train_window)\n",
        "print('split x_train:',len(X_train_split))\n",
        "print('split x_test:',len(X_test_split))"
      ],
      "execution_count": null,
      "outputs": [
        {
          "output_type": "stream",
          "text": [
            "split x_train: 631\n",
            "split x_test: 60\n"
          ],
          "name": "stdout"
        }
      ]
    },
    {
      "cell_type": "code",
      "metadata": {
        "colab": {
          "base_uri": "https://localhost:8080/"
        },
        "id": "jBrWBlT8C82r",
        "outputId": "42b28891-b03a-4186-c572-f5f6846180e8"
      },
      "source": [
        "X_train_split.shape"
      ],
      "execution_count": null,
      "outputs": [
        {
          "output_type": "execute_result",
          "data": {
            "text/plain": [
              "(631, 12, 1)"
            ]
          },
          "metadata": {
            "tags": []
          },
          "execution_count": 17
        }
      ]
    },
    {
      "cell_type": "code",
      "metadata": {
        "colab": {
          "base_uri": "https://localhost:8080/"
        },
        "id": "c030UvlBdZ20",
        "outputId": "3a82cb4b-8e88-4d4b-f09b-a79d7a04213a"
      },
      "source": [
        "X_train_split[0]"
      ],
      "execution_count": null,
      "outputs": [
        {
          "output_type": "execute_result",
          "data": {
            "text/plain": [
              "array([[0.31897392],\n",
              "       [0.2311082 ],\n",
              "       [0.23003993],\n",
              "       [0.21935716],\n",
              "       [0.23164234],\n",
              "       [0.28906219],\n",
              "       [0.21788829],\n",
              "       [0.22363027],\n",
              "       [0.2384526 ],\n",
              "       [0.22416441],\n",
              "       [0.22910519],\n",
              "       [0.31096185]])"
            ]
          },
          "metadata": {
            "tags": []
          },
          "execution_count": 18
        }
      ]
    },
    {
      "cell_type": "markdown",
      "metadata": {
        "id": "E0BOrIcDUZtv"
      },
      "source": [
        "## pytorch"
      ]
    },
    {
      "cell_type": "code",
      "metadata": {
        "id": "yIOErHv0Ua7H",
        "colab": {
          "base_uri": "https://localhost:8080/"
        },
        "outputId": "8a2642fa-1ec2-4b35-e16e-e75482b9bbd3"
      },
      "source": [
        "import torch\n",
        "import torch.nn as nn\n",
        "from torch.utils.data import Dataset, DataLoader\n",
        "from tqdm.notebook import tqdm\n",
        "torch.manual_seed(0)"
      ],
      "execution_count": null,
      "outputs": [
        {
          "output_type": "execute_result",
          "data": {
            "text/plain": [
              "<torch._C.Generator at 0x7f7692da72b0>"
            ]
          },
          "metadata": {
            "tags": []
          },
          "execution_count": 26
        }
      ]
    },
    {
      "cell_type": "code",
      "metadata": {
        "colab": {
          "base_uri": "https://localhost:8080/"
        },
        "id": "OLRpRWrYJP8D",
        "outputId": "fe17d760-9a40-4100-b54d-b2733df9e7ea"
      },
      "source": [
        "if torch.cuda.is_available():\n",
        "  device = torch.device('cuda:0')\n",
        "  print('GPU is avalible')\n",
        "  print('Working on ',torch.cuda.get_device_name())\n",
        "else:\n",
        "  device = torch.device('cpu')\n",
        "  print('GPU is not avalible')"
      ],
      "execution_count": null,
      "outputs": [
        {
          "output_type": "stream",
          "text": [
            "GPU is avalible\n",
            "Working on  Tesla K80\n"
          ],
          "name": "stdout"
        }
      ]
    },
    {
      "cell_type": "code",
      "metadata": {
        "id": "fFY_6uttA18g"
      },
      "source": [
        "class Data(Dataset):\n",
        "    # Constructor\n",
        "    def __init__(self, X, y):\n",
        "        self.x = torch.from_numpy(X).float()\n",
        "        self.y = torch.from_numpy(y).float()\n",
        "        self.len = len(X)\n",
        "            \n",
        "    # Getter\n",
        "    def __getitem__(self, index):\n",
        "        return self.x[index].T, self.y[index]\n",
        "    \n",
        "    # Get Length\n",
        "    def __len__(self):\n",
        "        return self.len\n",
        "        \n",
        "train_data = Data(X_train_split, y_train_split)\n",
        "valid_data = Data(X_test_split, y_test_split)"
      ],
      "execution_count": null,
      "outputs": []
    },
    {
      "cell_type": "code",
      "metadata": {
        "id": "yf8JRft6GgG7"
      },
      "source": [
        "class CNN(nn.Module):\n",
        "    def __init__(self ,seq_length, in_channels, kernel_size):\n",
        "        super(CNN, self).__init__()\n",
        "\n",
        "        self.seq_length = seq_length\n",
        "        self.in_channels = in_channels\n",
        "        self.kernel_size = kernel_size\n",
        "\n",
        "        self.feature = nn.Sequential(\n",
        "            nn.Dropout(p=0.1),\n",
        "            nn.Conv1d(in_channels=self.in_channels, out_channels=8, kernel_size=3, padding=1),\n",
        "            nn.BatchNorm1d(8),\n",
        "            nn.ReLU(),\n",
        "            nn.Dropout(p=0.1),\n",
        "            nn.Conv1d(in_channels=8, out_channels=16, kernel_size=3, padding=1),\n",
        "            nn.BatchNorm1d(16),\n",
        "            nn.ReLU(),\n",
        "            nn.Dropout(p=0.1),\n",
        "            nn.Conv1d(in_channels=16, out_channels=16, kernel_size=3, padding=1),\n",
        "            nn.BatchNorm1d(16),\n",
        "            nn.ReLU(),\n",
        "            nn.Dropout(p=0.1),\n",
        "        )\n",
        "\n",
        "        self.tf_layer = nn.TransformerEncoderLayer(d_model=self.seq_length, nhead=4)\n",
        "\n",
        "        self.flatten = nn.Flatten()\n",
        "\n",
        "        self.fc = nn.Sequential(\n",
        "            nn.Linear(seq_length*16, 64),\n",
        "            nn.BatchNorm1d(64),\n",
        "            nn.ReLU(),\n",
        "            nn.Dropout(p=0.1),\n",
        "            nn.Linear(64, 32),\n",
        "            nn.BatchNorm1d(32),\n",
        "            nn.ReLU(),\n",
        "            nn.Dropout(p=0.1),\n",
        "            nn.Linear(32, 1)\n",
        "        )\n",
        "    \n",
        "    def forward(self, x):\n",
        "        x = self.feature(x)\n",
        "        #print('1:',x.shape)\n",
        "        x = self.tf_layer(x)\n",
        "        #print('2:',x.shape)\n",
        "        x = self.flatten(x)\n",
        "        #print('3:',x.shape)\n",
        "        x = self.fc(x)\n",
        "        return x"
      ],
      "execution_count": null,
      "outputs": []
    },
    {
      "cell_type": "code",
      "metadata": {
        "id": "cOuXyN1DFdve"
      },
      "source": [
        "def train(model, train_loader, valid_loader, optimizer, criterion, epochs=20):\n",
        "    train_cost = []\n",
        "    valid_cost = []\n",
        "    for epoch in tqdm(range(epochs)):\n",
        "        model.train() # Switch to train mode\n",
        "        training_loss=[]\n",
        "        for x, y in train_loader:\n",
        "            x, y = x.to(device), y.to(device)\n",
        "            optimizer.zero_grad()\n",
        "            z = model(x)\n",
        "            loss = criterion(z, y)\n",
        "            loss.backward()\n",
        "            optimizer.step()\n",
        "            training_loss.append(loss.data.item())  \n",
        "        train_cost.append(np.mean(training_loss))\n",
        "\n",
        "        model.eval() # Switch to train mode\n",
        "        training_loss=[]\n",
        "        with torch.no_grad():\n",
        "            for x, y in valid_loader:\n",
        "                x, y = x.to(device), y.to(device) \n",
        "                z = model(x)\n",
        "                loss = criterion(z, y)\n",
        "                training_loss.append(loss.data.item())\n",
        "            valid_cost.append(np.mean(training_loss))\n",
        "            scheduler.step(np.mean(training_loss))\n",
        "\n",
        "    return train_cost,valid_cost"
      ],
      "execution_count": null,
      "outputs": []
    },
    {
      "cell_type": "code",
      "metadata": {
        "id": "iAwRSScuMs_a"
      },
      "source": [
        "batch_size = 32\n",
        "train_loader = DataLoader(dataset=train_data, batch_size=batch_size, shuffle=True)\n",
        "valid_loader = DataLoader(dataset=valid_data, batch_size=batch_size, shuffle=False)\n",
        "\n",
        "model = CNN(seq_length=train_window, in_channels=1, kernel_size=3)\n",
        "model.to(device)\n",
        "\n",
        "#criterion = torch.nn.MSELoss()\n",
        "criterion = torch.nn.L1Loss() \n",
        "optimizer = torch.optim.Adam(model.parameters(), lr=1e-1)\n",
        "scheduler = torch.optim.lr_scheduler.ReduceLROnPlateau(optimizer, 'min', patience=10, factor=0.5)"
      ],
      "execution_count": null,
      "outputs": []
    },
    {
      "cell_type": "code",
      "metadata": {
        "colab": {
          "base_uri": "https://localhost:8080/"
        },
        "id": "7Ok17MUbJUOd",
        "outputId": "43c1d907-f22e-4acd-e33f-07d4f4efd808"
      },
      "source": [
        "from torchsummary import summary\n",
        "summary(model.to(device), (1,12))"
      ],
      "execution_count": null,
      "outputs": [
        {
          "output_type": "stream",
          "text": [
            "----------------------------------------------------------------\n",
            "        Layer (type)               Output Shape         Param #\n",
            "================================================================\n",
            "           Dropout-1                [-1, 1, 12]               0\n",
            "            Conv1d-2                [-1, 8, 12]              32\n",
            "       BatchNorm1d-3                [-1, 8, 12]              16\n",
            "              ReLU-4                [-1, 8, 12]               0\n",
            "           Dropout-5                [-1, 8, 12]               0\n",
            "            Conv1d-6               [-1, 16, 12]             400\n",
            "       BatchNorm1d-7               [-1, 16, 12]              32\n",
            "              ReLU-8               [-1, 16, 12]               0\n",
            "           Dropout-9               [-1, 16, 12]               0\n",
            "           Conv1d-10               [-1, 16, 12]             784\n",
            "      BatchNorm1d-11               [-1, 16, 12]              32\n",
            "             ReLU-12               [-1, 16, 12]               0\n",
            "          Dropout-13               [-1, 16, 12]               0\n",
            "MultiheadAttention-14  [[-1, 16, 12], [-1, 2, 2]]               0\n",
            "          Dropout-15               [-1, 16, 12]               0\n",
            "        LayerNorm-16               [-1, 16, 12]              24\n",
            "           Linear-17             [-1, 16, 2048]          26,624\n",
            "          Dropout-18             [-1, 16, 2048]               0\n",
            "           Linear-19               [-1, 16, 12]          24,588\n",
            "          Dropout-20               [-1, 16, 12]               0\n",
            "        LayerNorm-21               [-1, 16, 12]              24\n",
            "TransformerEncoderLayer-22               [-1, 16, 12]               0\n",
            "          Flatten-23                  [-1, 192]               0\n",
            "           Linear-24                   [-1, 64]          12,352\n",
            "      BatchNorm1d-25                   [-1, 64]             128\n",
            "             ReLU-26                   [-1, 64]               0\n",
            "          Dropout-27                   [-1, 64]               0\n",
            "           Linear-28                   [-1, 32]           2,080\n",
            "      BatchNorm1d-29                   [-1, 32]              64\n",
            "             ReLU-30                   [-1, 32]               0\n",
            "          Dropout-31                   [-1, 32]               0\n",
            "           Linear-32                    [-1, 1]              33\n",
            "================================================================\n",
            "Total params: 67,213\n",
            "Trainable params: 67,213\n",
            "Non-trainable params: 0\n",
            "----------------------------------------------------------------\n",
            "Input size (MB): 0.00\n",
            "Forward/backward pass size (MB): 0.52\n",
            "Params size (MB): 0.26\n",
            "Estimated Total Size (MB): 0.78\n",
            "----------------------------------------------------------------\n"
          ],
          "name": "stdout"
        }
      ]
    },
    {
      "cell_type": "code",
      "metadata": {
        "id": "0yHVKtWcPUZo",
        "colab": {
          "base_uri": "https://localhost:8080/"
        },
        "outputId": "4073e9ff-25f7-4c3b-c28b-4d294c23bf9f"
      },
      "source": [
        "# test\n",
        "for x, y in train_loader:\n",
        "    x, y = x.to(device), y.to(device)\n",
        "    optimizer.zero_grad()\n",
        "    z = model(x)\n",
        "    print('='*10)\n",
        "    print('x',x.shape)\n",
        "    print('y',y.shape)\n",
        "    print('z',z.shape)\n",
        "    break"
      ],
      "execution_count": null,
      "outputs": [
        {
          "output_type": "stream",
          "text": [
            "==========\n",
            "x torch.Size([32, 1, 12])\n",
            "y torch.Size([32, 1])\n",
            "z torch.Size([32, 1])\n"
          ],
          "name": "stdout"
        }
      ]
    },
    {
      "cell_type": "code",
      "metadata": {
        "colab": {
          "base_uri": "https://localhost:8080/",
          "height": 66,
          "referenced_widgets": [
            "e36a2032bf20442e97c410c36e1d82b7",
            "687a4696bffe43b29e3a311ad1dafc49",
            "2e802c456242409fae29eb5d0013d6a0",
            "58bab57613724f1b89fc730c2128e478",
            "afa9eb2d7d6b4d698f78d8462e2b396c",
            "d1da5fefe4a04556b2f4f4c65f90565e",
            "3113bba0a8594551bac5fa4031a812b8",
            "b1c23d335ea644a58b9a275927f33be2"
          ]
        },
        "id": "uwoiOyvxSMZf",
        "outputId": "42358c1b-ba6f-46a2-d650-47aeb9491292"
      },
      "source": [
        "train_cost = train(model=model,train_loader=train_loader,valid_loader=valid_loader,optimizer=optimizer,criterion=criterion,epochs=400)"
      ],
      "execution_count": null,
      "outputs": [
        {
          "output_type": "display_data",
          "data": {
            "application/vnd.jupyter.widget-view+json": {
              "model_id": "e36a2032bf20442e97c410c36e1d82b7",
              "version_minor": 0,
              "version_major": 2
            },
            "text/plain": [
              "HBox(children=(FloatProgress(value=0.0, max=400.0), HTML(value='')))"
            ]
          },
          "metadata": {
            "tags": []
          }
        },
        {
          "output_type": "stream",
          "text": [
            "\n"
          ],
          "name": "stdout"
        }
      ]
    },
    {
      "cell_type": "code",
      "metadata": {
        "colab": {
          "base_uri": "https://localhost:8080/",
          "height": 497
        },
        "id": "07FodrKgQlIp",
        "outputId": "5a0de3eb-c9b6-4e62-9afb-9754a910d46d"
      },
      "source": [
        "plt.plot(train_cost[0], label = 'train')\n",
        "plt.plot(train_cost[1], label = 'valid')\n",
        "plt.ylabel('MAE loss')\n",
        "plt.xlabel('epochs')\n",
        "#axes = plt.gca()\n",
        "#axes.set_ylim([0,1])\n",
        "plt.legend()\n",
        "plt.grid()\n",
        "plt.show()"
      ],
      "execution_count": null,
      "outputs": [
        {
          "output_type": "display_data",
          "data": {
            "image/png": "[encoded data removed]",
            "text/plain": [
              "<Figure size 864x576 with 1 Axes>"
            ]
          },
          "metadata": {
            "tags": [],
            "needs_background": "light"
          }
        }
      ]
    },
    {
      "cell_type": "markdown",
      "metadata": {
        "id": "mJtymFRIBKjn"
      },
      "source": [
        "## eval"
      ]
    },
    {
      "cell_type": "code",
      "metadata": {
        "id": "kBXSx9GJBLJg"
      },
      "source": [
        "fut_pred = train_window\n",
        "\n",
        "test_inputs = X_train_split[-1].squeeze().tolist()\n",
        "if type(test_inputs) == float:\n",
        "    test_inputs = [test_inputs]"
      ],
      "execution_count": null,
      "outputs": []
    },
    {
      "cell_type": "code",
      "metadata": {
        "id": "CGAwIeD0CFfo"
      },
      "source": [
        "model.eval()\n",
        "loss_list = []\n",
        "\n",
        "for i in range(len(X_test)):\n",
        "    seq = torch.FloatTensor(test_inputs[-fut_pred:])\n",
        "    #print(seq.shape)\n",
        "    seq = seq.unsqueeze(0)\n",
        "    #print(seq.shape)\n",
        "    seq = seq.unsqueeze(0)\n",
        "    #print(seq.shape)\n",
        "    seq = seq.to(device)\n",
        "    #print(seq.shape)\n",
        "    #print('='*10)\n",
        "\n",
        "    with torch.no_grad():\n",
        "        test_inputs.append(model(seq).squeeze().tolist())\n",
        "        loss_list.append(criterion(model(seq).squeeze().cpu().detach(), torch.from_numpy(y_test_scaled[i]).squeeze()))"
      ],
      "execution_count": null,
      "outputs": []
    },
    {
      "cell_type": "code",
      "metadata": {
        "colab": {
          "base_uri": "https://localhost:8080/"
        },
        "id": "xW-ijQhqNVk2",
        "outputId": "7670d665-4904-430b-c2d5-52feea6816c3"
      },
      "source": [
        "print('sum loss:',np.sum(loss_list))\n",
        "print('mean loss:',np.mean(loss_list))"
      ],
      "execution_count": null,
      "outputs": [
        {
          "output_type": "stream",
          "text": [
            "sum loss: 14.663292\n",
            "mean loss: 0.20365684\n"
          ],
          "name": "stdout"
        }
      ]
    },
    {
      "cell_type": "code",
      "metadata": {
        "id": "wP9IN1z8GiYe"
      },
      "source": [
        "actual_predictions = scaler.inverse_transform(np.array(test_inputs[train_window:]).reshape(-1, 1))\n",
        "#actual_predictions = np.array(test_inputs[train_window:]).reshape(-1, 1)\n",
        "x = np.arange(len(data)-len(X_test), len(data), 1)"
      ],
      "execution_count": null,
      "outputs": []
    },
    {
      "cell_type": "code",
      "metadata": {
        "colab": {
          "base_uri": "https://localhost:8080/"
        },
        "id": "YhcCK8mGNXmO",
        "outputId": "698fd46f-07d0-48d0-8937-597764014edd"
      },
      "source": [
        "criterion(torch.from_numpy(actual_predictions), torch.from_numpy(y_test))"
      ],
      "execution_count": null,
      "outputs": [
        {
          "output_type": "execute_result",
          "data": {
            "text/plain": [
              "tensor(412.8124, dtype=torch.float64)"
            ]
          },
          "metadata": {
            "tags": []
          },
          "execution_count": 70
        }
      ]
    },
    {
      "cell_type": "code",
      "metadata": {
        "colab": {
          "base_uri": "https://localhost:8080/",
          "height": 513
        },
        "id": "q-w3-AgJKzg7",
        "outputId": "0c0bd7bd-11e8-49f8-d07d-0d0290654332"
      },
      "source": [
        "plt.grid(True)\n",
        "plt.title('Operating Reserve(MW)')\n",
        "plt.plot(data, label='ground truth')\n",
        "plt.plot(x,actual_predictions, label='predict')\n",
        "plt.xlabel('time step')\n",
        "plt.ylabel('MW')\n",
        "plt.legend()\n",
        "plt.show()"
      ],
      "execution_count": null,
      "outputs": [
        {
          "output_type": "display_data",
          "data": {
            "image/png": "[encoded data removed]",
            "text/plain": [
              "<Figure size 864x576 with 1 Axes>"
            ]
          },
          "metadata": {
            "tags": [],
            "needs_background": "light"
          }
        }
      ]
    },
    {
      "cell_type": "code",
      "metadata": {
        "colab": {
          "base_uri": "https://localhost:8080/",
          "height": 513
        },
        "id": "YZy8hM5oK5A7",
        "outputId": "11ed3050-0caf-4d27-88a6-9c10b7f8171a"
      },
      "source": [
        "plt.grid(True)\n",
        "plt.title('Zoom in')\n",
        "plt.plot(data[-len(X_test):], label='ground truth')\n",
        "plt.plot(x,actual_predictions, label='predicct')\n",
        "plt.xlabel('time step')\n",
        "plt.ylabel('MW')\n",
        "plt.legend()\n",
        "plt.show()"
      ],
      "execution_count": null,
      "outputs": [
        {
          "output_type": "display_data",
          "data": {
            "image/png": "[encoded data removed]",
            "text/plain": [
              "<Figure size 864x576 with 1 Axes>"
            ]
          },
          "metadata": {
            "tags": [],
            "needs_background": "light"
          }
        }
      ]
    },
    {
      "cell_type": "markdown",
      "metadata": {
        "id": "U6yUSRfXcfLC"
      },
      "source": [
        "## predict"
      ]
    },
    {
      "cell_type": "code",
      "metadata": {
        "id": "oaG9L2iUZmX5"
      },
      "source": [
        "model.eval()\n",
        "pred_train=[]\n",
        "with torch.no_grad():\n",
        "    for x, y in train_loader:\n",
        "        x,y = x.to(device), y.to(device)\n",
        "        pred_all = model(x)\n",
        "        #print(pred_all)\n",
        "        pred_train.extend(pred_all.squeeze().cpu())\n",
        "\n",
        "model.eval()\n",
        "pred_test=[]\n",
        "with torch.no_grad():\n",
        "    for x, y in valid_loader:\n",
        "        x,y = x.to(device), y.to(device)\n",
        "        pred_all = model(x)\n",
        "        #print(pred_all)\n",
        "        pred_test.extend(pred_all.squeeze().cpu())"
      ],
      "execution_count": null,
      "outputs": []
    },
    {
      "cell_type": "code",
      "metadata": {
        "id": "7c8TDYM9areR"
      },
      "source": [
        "x = np.arange(len(data)-len(X_train_split)-len(X_test_split), len(data)-len(X_test_split), 1)\n",
        "x2 = np.arange(len(data)-len(X_test_split), len(data), 1)"
      ],
      "execution_count": null,
      "outputs": []
    },
    {
      "cell_type": "code",
      "metadata": {
        "colab": {
          "base_uri": "https://localhost:8080/"
        },
        "id": "PaRgsmJbc29S",
        "outputId": "ee13e790-66cf-4a30-862d-e84bb682339a"
      },
      "source": [
        "len(x2)"
      ],
      "execution_count": null,
      "outputs": [
        {
          "output_type": "execute_result",
          "data": {
            "text/plain": [
              "60"
            ]
          },
          "metadata": {
            "tags": []
          },
          "execution_count": 80
        }
      ]
    },
    {
      "cell_type": "code",
      "metadata": {
        "colab": {
          "base_uri": "https://localhost:8080/"
        },
        "id": "O5jiNZg5c3bL",
        "outputId": "fabfcbbf-0cd3-4e2b-b2de-6ae633437f3e"
      },
      "source": [
        "len(x)"
      ],
      "execution_count": null,
      "outputs": [
        {
          "output_type": "execute_result",
          "data": {
            "text/plain": [
              "631"
            ]
          },
          "metadata": {
            "tags": []
          },
          "execution_count": 81
        }
      ]
    },
    {
      "cell_type": "code",
      "metadata": {
        "id": "gT0gxD6mchrp"
      },
      "source": [
        "actual_predictions_1 = scaler.inverse_transform(np.array(pred_train).reshape(-1, 1))\n",
        "actual_predictions_2 = scaler.inverse_transform(np.array(pred_test).reshape(-1, 1))"
      ],
      "execution_count": null,
      "outputs": []
    },
    {
      "cell_type": "code",
      "metadata": {
        "colab": {
          "base_uri": "https://localhost:8080/"
        },
        "id": "HkI9I_pdcuJa",
        "outputId": "f365d1d5-0833-48e7-83a7-85d7612574e8"
      },
      "source": [
        "len(actual_predictions_1)"
      ],
      "execution_count": null,
      "outputs": [
        {
          "output_type": "execute_result",
          "data": {
            "text/plain": [
              "631"
            ]
          },
          "metadata": {
            "tags": []
          },
          "execution_count": 83
        }
      ]
    },
    {
      "cell_type": "code",
      "metadata": {
        "colab": {
          "base_uri": "https://localhost:8080/"
        },
        "id": "lkU62Pktczmy",
        "outputId": "2660aa53-afea-4ab3-fa46-1dad92220879"
      },
      "source": [
        "len(actual_predictions_2)"
      ],
      "execution_count": null,
      "outputs": [
        {
          "output_type": "execute_result",
          "data": {
            "text/plain": [
              "60"
            ]
          },
          "metadata": {
            "tags": []
          },
          "execution_count": 84
        }
      ]
    },
    {
      "cell_type": "code",
      "metadata": {
        "colab": {
          "base_uri": "https://localhost:8080/",
          "height": 485
        },
        "id": "3ZVExJofbd8h",
        "outputId": "7c0c9159-65a7-44c6-d934-3421449fe130"
      },
      "source": [
        "plt.plot(data, label='ground truth')\n",
        "plt.plot(x,actual_predictions_1, label='predict train')\n",
        "plt.plot(x2,actual_predictions_2, label='predict test')\n",
        "plt.legend()\n",
        "plt.grid()\n",
        "plt.show()"
      ],
      "execution_count": null,
      "outputs": [
        {
          "output_type": "display_data",
          "data": {
            "image/png": "[encoded data removed]",
            "text/plain": [
              "<Figure size 864x576 with 1 Axes>"
            ]
          },
          "metadata": {
            "tags": [],
            "needs_background": "light"
          }
        }
      ]
    },
    {
      "cell_type": "code",
      "metadata": {
        "id": "jmdnSXeLc9zo"
      },
      "source": [
        ""
      ],
      "execution_count": null,
      "outputs": []
    }
  ]
}